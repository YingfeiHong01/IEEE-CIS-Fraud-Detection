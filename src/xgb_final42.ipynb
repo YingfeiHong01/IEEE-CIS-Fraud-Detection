{
 "cells": [
  {
   "cell_type": "code",
   "execution_count": 1,
   "metadata": {},
   "outputs": [
    {
     "name": "stderr",
     "output_type": "stream",
     "text": [
      "/Users/shuozhang/anaconda3/lib/python3.7/site-packages/lightgbm/__init__.py:46: UserWarning: Starting from version 2.2.1, the library file in distribution wheels for macOS is built by the Apple Clang (Xcode_9.4.1) compiler.\n",
      "This means that in case of installing LightGBM from PyPI via the ``pip install lightgbm`` command, you don't need to install the gcc compiler anymore.\n",
      "Instead of that, you need to install the OpenMP library, which is required for running LightGBM on the system with the Apple Clang compiler.\n",
      "You can install the OpenMP library by the following command: ``brew install libomp``.\n",
      "  \"You can install the OpenMP library by the following command: ``brew install libomp``.\", UserWarning)\n"
     ]
    }
   ],
   "source": [
    "import pandas as pd\n",
    "import numpy as np\n",
    "import warnings\n",
    "import matplotlib.pyplot as plt\n",
    "import seaborn as sns\n",
    "import lightgbm as lgb\n",
    "import gc\n",
    "from time import time\n",
    "import datetime\n",
    "from sklearn.preprocessing import LabelEncoder\n",
    "from sklearn.model_selection import KFold, TimeSeriesSplit\n",
    "from sklearn.metrics import roc_auc_score\n",
    "warnings.simplefilter('ignore')\n",
    "sns.set()\n",
    "%matplotlib inline\n",
    "import os, sys, gc, warnings, random, datetime\n",
    "import xgboost as xgb"
   ]
  },
  {
   "cell_type": "code",
   "execution_count": 2,
   "metadata": {},
   "outputs": [],
   "source": [
    "train=pd.read_csv('train_final4.csv')\n",
    "test=pd.read_csv('test_final4.csv')"
   ]
  },
  {
   "cell_type": "code",
   "execution_count": 3,
   "metadata": {},
   "outputs": [
    {
     "data": {
      "text/plain": [
       "TransactionID              int64\n",
       "isFraud                    int64\n",
       "TransactionDT              int64\n",
       "TransactionAmt           float64\n",
       "ProductCD                float64\n",
       "card1                    float64\n",
       "card2                    float64\n",
       "card3                    float64\n",
       "card4                    float64\n",
       "card5                    float64\n",
       "card6                    float64\n",
       "addr1                    float64\n",
       "addr2                    float64\n",
       "dist1                    float64\n",
       "dist2                    float64\n",
       "P_emaildomain              int64\n",
       "R_emaildomain              int64\n",
       "C1                       float64\n",
       "C2                       float64\n",
       "C3                       float64\n",
       "C4                       float64\n",
       "C5                       float64\n",
       "C6                       float64\n",
       "C7                       float64\n",
       "C8                       float64\n",
       "C9                       float64\n",
       "C10                      float64\n",
       "C11                      float64\n",
       "C12                      float64\n",
       "C13                      float64\n",
       "                          ...   \n",
       "id_36__count_encoding      int64\n",
       "id_36_count_dist           int64\n",
       "id_36_count_full           int64\n",
       "id_37__count_encoding      int64\n",
       "id_38__count_encoding      int64\n",
       "lastest_browser          float64\n",
       "max_card1_Trans          float64\n",
       "max_card2_Trans          float64\n",
       "mean_acc_Trans           float64\n",
       "mean_acc_dec             float64\n",
       "mean_card1_Trans         float64\n",
       "mean_card4_Trans         float64\n",
       "mean_geo_Trans           float64\n",
       "min_card1_Trans          float64\n",
       "min_card2_Trans          float64\n",
       "new13                    float64\n",
       "new3                     float64\n",
       "new5                     float64\n",
       "new7                     float64\n",
       "nulls1                     int64\n",
       "screen_height              int64\n",
       "screen_width               int64\n",
       "sd_acc_Trans             float64\n",
       "sd_acc_dec               float64\n",
       "sd_card1_Trans           float64\n",
       "sd_card4_Trans           float64\n",
       "sd_geo_Trans             float64\n",
       "version_id_30              int64\n",
       "version_id_31              int64\n",
       "weekday                    int64\n",
       "Length: 962, dtype: object"
      ]
     },
     "execution_count": 3,
     "metadata": {},
     "output_type": "execute_result"
    }
   ],
   "source": [
    "train.dtypes"
   ]
  },
  {
   "cell_type": "code",
   "execution_count": 5,
   "metadata": {},
   "outputs": [
    {
     "data": {
      "text/plain": [
       "DT                 object\n",
       "addr1_card1        object\n",
       "card2_and_count    object\n",
       "dtype: object"
      ]
     },
     "execution_count": 5,
     "metadata": {},
     "output_type": "execute_result"
    }
   ],
   "source": [
    "obj_cols =train.dtypes\n",
    "obj_cols[obj_cols=='object']"
   ]
  },
  {
   "cell_type": "code",
   "execution_count": 6,
   "metadata": {},
   "outputs": [],
   "source": [
    "train['card2_and_count']=pd.to_numeric(train['card2_and_count'],errors='coerce')\n",
    "train['addr1_card1']=pd.to_numeric(train['addr1_card1'],errors='coerce')"
   ]
  },
  {
   "cell_type": "code",
   "execution_count": 7,
   "metadata": {},
   "outputs": [],
   "source": [
    "test['card2_and_count']=pd.to_numeric(test['card2_and_count'],errors='coerce')\n",
    "test['addr1_card1']=pd.to_numeric(test['addr1_card1'],errors='coerce')"
   ]
  },
  {
   "cell_type": "code",
   "execution_count": 8,
   "metadata": {},
   "outputs": [],
   "source": [
    "split_groups = train['DT_M']"
   ]
  },
  {
   "cell_type": "code",
   "execution_count": 9,
   "metadata": {},
   "outputs": [],
   "source": [
    "X= train.drop(['TransactionDT','TransactionID','uid','uid2','bank_type',\n",
    "               'isFraud','DT','DT_M','DT_W','DT_D','DT_hour','DT_day_week','DT_day_month'], axis=1)\n",
    "y = train['isFraud']"
   ]
  },
  {
   "cell_type": "code",
   "execution_count": 10,
   "metadata": {},
   "outputs": [],
   "source": [
    "X_test = test.drop(['TransactionDT','TransactionID','uid','uid2','bank_type',\n",
    "                    'isFraud','DT','DT_M','DT_W','DT_D','DT_hour','DT_day_week','DT_day_month'], axis=1)"
   ]
  },
  {
   "cell_type": "code",
   "execution_count": 11,
   "metadata": {},
   "outputs": [
    {
     "data": {
      "text/plain": [
       "(506691, 949)"
      ]
     },
     "execution_count": 11,
     "metadata": {},
     "output_type": "execute_result"
    }
   ],
   "source": [
    "X_test.shape"
   ]
  },
  {
   "cell_type": "code",
   "execution_count": 13,
   "metadata": {},
   "outputs": [
    {
     "data": {
      "text/plain": [
       "(590540, 949)"
      ]
     },
     "execution_count": 13,
     "metadata": {},
     "output_type": "execute_result"
    }
   ],
   "source": [
    "X.shape"
   ]
  },
  {
   "cell_type": "code",
   "execution_count": 14,
   "metadata": {},
   "outputs": [
    {
     "data": {
      "text/plain": [
       "166"
      ]
     },
     "execution_count": 14,
     "metadata": {},
     "output_type": "execute_result"
    }
   ],
   "source": [
    "del train, test\n",
    "gc.collect()"
   ]
  },
  {
   "cell_type": "code",
   "execution_count": 16,
   "metadata": {},
   "outputs": [
    {
     "name": "stdout",
     "output_type": "stream",
     "text": [
      "(590540, 949) (506691, 949)\n"
     ]
    }
   ],
   "source": [
    " print(X.shape, X_test.shape)"
   ]
  },
  {
   "cell_type": "code",
   "execution_count": 10,
   "metadata": {},
   "outputs": [],
   "source": [
    "#fill in -999 for alll missing\n",
    "#X = X.fillna(-999)\n",
    "#X_test = X_test.fillna(-999)"
   ]
  },
  {
   "cell_type": "code",
   "execution_count": 51,
   "metadata": {},
   "outputs": [],
   "source": [
    "from sklearn.model_selection import GroupKFold\n",
    "NFOLDS = 5\n",
    "folds = GroupKFold(n_splits=NFOLDS)"
   ]
  },
  {
   "cell_type": "code",
   "execution_count": 53,
   "metadata": {},
   "outputs": [
    {
     "name": "stdout",
     "output_type": "stream",
     "text": [
      "[0]\ttrain-auc:0.824146\tvalid-auc:0.80389\n",
      "Multiple eval metrics have been passed: 'valid-auc' will be used for early stopping.\n",
      "\n",
      "Will train until valid-auc hasn't improved in 200 rounds.\n",
      "[200]\ttrain-auc:0.992587\tvalid-auc:0.906722\n",
      "[400]\ttrain-auc:0.998639\tvalid-auc:0.910592\n",
      "[600]\ttrain-auc:0.999804\tvalid-auc:0.911948\n",
      "[800]\ttrain-auc:0.999981\tvalid-auc:0.910912\n",
      "Stopping. Best iteration:\n",
      "[624]\ttrain-auc:0.999841\tvalid-auc:0.912218\n",
      "\n",
      "Fold 1 | AUC: 0.9122184517349967\n",
      "[0]\ttrain-auc:0.822189\tvalid-auc:0.802441\n",
      "Multiple eval metrics have been passed: 'valid-auc' will be used for early stopping.\n",
      "\n",
      "Will train until valid-auc hasn't improved in 200 rounds.\n",
      "[200]\ttrain-auc:0.99225\tvalid-auc:0.938164\n",
      "[400]\ttrain-auc:0.998645\tvalid-auc:0.940511\n",
      "Stopping. Best iteration:\n",
      "[359]\ttrain-auc:0.998067\tvalid-auc:0.940687\n",
      "\n",
      "Fold 2 | AUC: 0.940686786273086\n",
      "[0]\ttrain-auc:0.845361\tvalid-auc:0.834313\n",
      "Multiple eval metrics have been passed: 'valid-auc' will be used for early stopping.\n",
      "\n",
      "Will train until valid-auc hasn't improved in 200 rounds.\n",
      "[200]\ttrain-auc:0.99176\tvalid-auc:0.937329\n",
      "[400]\ttrain-auc:0.998398\tvalid-auc:0.939093\n",
      "Stopping. Best iteration:\n",
      "[322]\ttrain-auc:0.99686\tvalid-auc:0.939458\n",
      "\n",
      "Fold 3 | AUC: 0.9394580859907854\n",
      "[0]\ttrain-auc:0.820627\tvalid-auc:0.808283\n",
      "Multiple eval metrics have been passed: 'valid-auc' will be used for early stopping.\n",
      "\n",
      "Will train until valid-auc hasn't improved in 200 rounds.\n",
      "[200]\ttrain-auc:0.99093\tvalid-auc:0.934015\n",
      "[400]\ttrain-auc:0.998258\tvalid-auc:0.93682\n",
      "[600]\ttrain-auc:0.999687\tvalid-auc:0.936287\n",
      "Stopping. Best iteration:\n",
      "[517]\ttrain-auc:0.999329\tvalid-auc:0.937233\n",
      "\n",
      "Fold 4 | AUC: 0.9372326831340858\n",
      "[0]\ttrain-auc:0.839801\tvalid-auc:0.828089\n",
      "Multiple eval metrics have been passed: 'valid-auc' will be used for early stopping.\n",
      "\n",
      "Will train until valid-auc hasn't improved in 200 rounds.\n",
      "[200]\ttrain-auc:0.992458\tvalid-auc:0.94366\n",
      "[400]\ttrain-auc:0.99885\tvalid-auc:0.945015\n",
      "Stopping. Best iteration:\n",
      "[396]\ttrain-auc:0.998819\tvalid-auc:0.945113\n",
      "\n",
      "Fold 5 | AUC: 0.9451134989177141\n",
      "\n",
      "Mean AUC = 0.9349419012101335\n",
      "Out of folds AUC = 0.935065064657483\n"
     ]
    }
   ],
   "source": [
    "columns = X.columns\n",
    "splits = folds.split(X, y, groups=split_groups)\n",
    "y_preds = np.zeros(X_test.shape[0])\n",
    "y_oof = np.zeros(X.shape[0])\n",
    "score = 0\n",
    "\n",
    "feature_importance_df = pd.DataFrame()\n",
    "dtest = xgb.DMatrix(X_test)\n",
    "  \n",
    "for fold_n, (train_index, valid_index) in enumerate(splits):\n",
    "    dtrain = xgb.DMatrix(X[columns].iloc[train_index], y.iloc[train_index])\n",
    "    dvalid = xgb.DMatrix(X[columns].iloc[valid_index], y.iloc[valid_index])\n",
    "    y_valid= y.iloc[valid_index]\n",
    "    params = {'eval_metric': 'auc',\n",
    "              'objective': 'binary:logistic',\n",
    "              'booster':'gbtree',\n",
    "              'nthread' : 4,\n",
    "              'eta' : 0.048,\n",
    "              'max_depth' : 9,\n",
    "              'missing': -999,\n",
    "              #'tree_method':'gpu_hist',\n",
    "              'subsample' : 0.85,\n",
    "              'colsample_bytree' : 0.85,\n",
    "              'alpha' : 0.15,\n",
    "              'lambda' : 0.85,\n",
    "              'random_state': 99, \n",
    "              'silent': True}\n",
    "    watchlist = [(dtrain, 'train'), (dvalid, 'valid')]\n",
    "        \n",
    "    model=xgb.train(params, dtrain, 5000, watchlist, maximize=True, early_stopping_rounds = 200, verbose_eval=200)\n",
    "    \n",
    "    y_pred_valid = model.predict(dvalid, ntree_limit=model.best_ntree_limit)\n",
    "    y_oof[valid_index] = y_pred_valid\n",
    "    print(f\"Fold {fold_n + 1} | AUC: {roc_auc_score(y_valid, y_pred_valid)}\")\n",
    "    \n",
    "    score += roc_auc_score(y_valid, y_pred_valid) / NFOLDS\n",
    "    y_preds += model.predict(dtest,ntree_limit=model.best_ntree_limit) / NFOLDS\n",
    "    fold_importance_df = pd.DataFrame()\n",
    "    fold_importance_df = pd.DataFrame(list(model.get_fscore().keys()), columns=['feature'])\n",
    "    fold_importance_df['importance']=list(model.get_fscore().values())\n",
    "    feature_importance_df = pd.concat([feature_importance_df, fold_importance_df], axis=0)\n",
    "    \n",
    "    del model, dtrain, dvalid, y_valid\n",
    "    gc.collect()\n",
    "    \n",
    "print(f\"\\nMean AUC = {score}\")\n",
    "print(f\"Out of folds AUC = {roc_auc_score(y, y_oof)}\")"
   ]
  },
  {
   "cell_type": "code",
   "execution_count": 57,
   "metadata": {},
   "outputs": [],
   "source": [
    "feature_importances = feature_importance_df.groupby('feature').agg({'importance':np.mean}).reset_index()"
   ]
  },
  {
   "cell_type": "code",
   "execution_count": 62,
   "metadata": {},
   "outputs": [
    {
     "data": {
      "text/html": [
       "<div>\n",
       "<style scoped>\n",
       "    .dataframe tbody tr th:only-of-type {\n",
       "        vertical-align: middle;\n",
       "    }\n",
       "\n",
       "    .dataframe tbody tr th {\n",
       "        vertical-align: top;\n",
       "    }\n",
       "\n",
       "    .dataframe thead th {\n",
       "        text-align: right;\n",
       "    }\n",
       "</style>\n",
       "<table border=\"1\" class=\"dataframe\">\n",
       "  <thead>\n",
       "    <tr style=\"text-align: right;\">\n",
       "      <th></th>\n",
       "      <th>feature</th>\n",
       "      <th>importance</th>\n",
       "    </tr>\n",
       "  </thead>\n",
       "  <tbody>\n",
       "    <tr>\n",
       "      <th>0</th>\n",
       "      <td>C1</td>\n",
       "      <td>587.8</td>\n",
       "    </tr>\n",
       "    <tr>\n",
       "      <th>1</th>\n",
       "      <td>C10</td>\n",
       "      <td>140.8</td>\n",
       "    </tr>\n",
       "    <tr>\n",
       "      <th>2</th>\n",
       "      <td>C10_fq_enc</td>\n",
       "      <td>31.8</td>\n",
       "    </tr>\n",
       "    <tr>\n",
       "      <th>3</th>\n",
       "      <td>C11</td>\n",
       "      <td>337.6</td>\n",
       "    </tr>\n",
       "    <tr>\n",
       "      <th>4</th>\n",
       "      <td>C11_fq_enc</td>\n",
       "      <td>143.0</td>\n",
       "    </tr>\n",
       "  </tbody>\n",
       "</table>\n",
       "</div>"
      ],
      "text/plain": [
       "      feature  importance\n",
       "0          C1       587.8\n",
       "1         C10       140.8\n",
       "2  C10_fq_enc        31.8\n",
       "3         C11       337.6\n",
       "4  C11_fq_enc       143.0"
      ]
     },
     "execution_count": 62,
     "metadata": {},
     "output_type": "execute_result"
    }
   ],
   "source": [
    "feature_importances.head()"
   ]
  },
  {
   "cell_type": "code",
   "execution_count": 60,
   "metadata": {},
   "outputs": [
    {
     "data": {
      "image/png": "[encoded data removed]",
      "text/plain": [
       "<Figure size 1152x1152 with 1 Axes>"
      ]
     },
     "metadata": {
      "needs_background": "light"
     },
     "output_type": "display_data"
    }
   ],
   "source": [
    "plt.figure(figsize=(16, 16))\n",
    "sns.barplot(data=feature_importances.sort_values(by='importance', ascending=False).head(50), x='importance', y='feature');\n",
    "plt.title('50 TOP feature importance over 5 folds average');"
   ]
  },
  {
   "cell_type": "code",
   "execution_count": 61,
   "metadata": {},
   "outputs": [
    {
     "data": {
      "image/png": "[encoded data removed]",
      "text/plain": [
       "<Figure size 1152x1152 with 1 Axes>"
      ]
     },
     "metadata": {
      "needs_background": "light"
     },
     "output_type": "display_data"
    }
   ],
   "source": [
    "plt.figure(figsize=(16, 16))\n",
    "sns.barplot(data=feature_importances.sort_values(by='importance', ascending=False).tail(50), x='importance', y='feature');\n",
    "plt.title('50 TOP feature importance');"
   ]
  },
  {
   "cell_type": "code",
   "execution_count": 54,
   "metadata": {},
   "outputs": [],
   "source": [
    "sub = pd.read_csv('sample_submission.csv')"
   ]
  },
  {
   "cell_type": "code",
   "execution_count": 55,
   "metadata": {},
   "outputs": [],
   "source": [
    "sub['isFraud'] = y_preds\n",
    "sub.to_csv(\"xgb_final4.csv\", index=False) #0.9460"
   ]
  },
  {
   "cell_type": "code",
   "execution_count": 64,
   "metadata": {},
   "outputs": [],
   "source": [
    "feature_importances['perc']=feature_importances['importance']/np.sum(feature_importances['importance'])"
   ]
  },
  {
   "cell_type": "code",
   "execution_count": 65,
   "metadata": {},
   "outputs": [],
   "source": [
    "feature_importances['cum_sum'] = feature_importances['importance'].cumsum()\n",
    "feature_importances['cum_perc'] = 100*feature_importances['cum_sum']/feature_importances['importance'].sum()"
   ]
  },
  {
   "cell_type": "code",
   "execution_count": 66,
   "metadata": {},
   "outputs": [
    {
     "data": {
      "text/plain": [
       "0        0.517041\n",
       "1        0.640891\n",
       "2        0.668863\n",
       "3        0.965823\n",
       "4        1.091609\n",
       "5        1.195052\n",
       "6        1.218802\n",
       "7        1.749565\n",
       "8        1.950118\n",
       "9        2.159468\n",
       "10       2.342604\n",
       "11       2.621972\n",
       "12       2.979977\n",
       "13       3.092745\n",
       "14       3.123531\n",
       "15       3.127050\n",
       "16       3.197595\n",
       "17       3.209910\n",
       "18       3.284502\n",
       "19       3.304029\n",
       "20       3.548564\n",
       "21       3.696516\n",
       "22       3.726951\n",
       "23       3.736626\n",
       "24       3.893375\n",
       "25       3.929439\n",
       "26       4.099206\n",
       "27       4.158492\n",
       "28       4.313833\n",
       "29       4.413934\n",
       "          ...    \n",
       "884     94.604410\n",
       "885     94.829241\n",
       "886     95.035072\n",
       "887     95.266764\n",
       "888     95.383929\n",
       "889     95.500039\n",
       "890     95.627408\n",
       "891     95.741935\n",
       "892     95.937914\n",
       "893     96.171541\n",
       "894     96.377900\n",
       "895     96.605546\n",
       "896     96.742415\n",
       "897     96.882274\n",
       "898     97.110448\n",
       "899     97.363602\n",
       "900     97.605146\n",
       "901     97.811153\n",
       "902     98.069762\n",
       "903     98.391702\n",
       "904     98.708366\n",
       "905     98.869864\n",
       "906     99.195851\n",
       "907     99.519200\n",
       "908     99.599421\n",
       "909     99.697235\n",
       "910     99.824604\n",
       "911     99.851872\n",
       "912     99.888112\n",
       "913    100.000000\n",
       "Name: cum_perc, Length: 914, dtype: float64"
      ]
     },
     "execution_count": 66,
     "metadata": {},
     "output_type": "execute_result"
    }
   ],
   "source": [
    "feature_importances['cum_perc']"
   ]
  },
  {
   "cell_type": "code",
   "execution_count": 78,
   "metadata": {},
   "outputs": [],
   "source": [
    "selected_feature=feature_importances[feature_importances['cum_perc']<=95]['feature']"
   ]
  },
  {
   "cell_type": "code",
   "execution_count": 79,
   "metadata": {},
   "outputs": [
    {
     "data": {
      "text/plain": [
       "886"
      ]
     },
     "execution_count": 79,
     "metadata": {},
     "output_type": "execute_result"
    }
   ],
   "source": [
    "len(selected_feature)"
   ]
  },
  {
   "cell_type": "code",
   "execution_count": 80,
   "metadata": {},
   "outputs": [],
   "source": [
    "from sklearn.model_selection import GroupKFold\n",
    "NFOLDS = 5\n",
    "folds = GroupKFold(n_splits=NFOLDS)"
   ]
  },
  {
   "cell_type": "code",
   "execution_count": 81,
   "metadata": {},
   "outputs": [],
   "source": [
    "X2=X[selected_feature]"
   ]
  },
  {
   "cell_type": "code",
   "execution_count": 82,
   "metadata": {},
   "outputs": [
    {
     "data": {
      "text/plain": [
       "(590540, 886)"
      ]
     },
     "execution_count": 82,
     "metadata": {},
     "output_type": "execute_result"
    }
   ],
   "source": [
    "X2.shape"
   ]
  },
  {
   "cell_type": "code",
   "execution_count": 83,
   "metadata": {},
   "outputs": [],
   "source": [
    "X_test2=X_test[selected_feature]"
   ]
  },
  {
   "cell_type": "code",
   "execution_count": 84,
   "metadata": {},
   "outputs": [
    {
     "data": {
      "text/plain": [
       "(506691, 886)"
      ]
     },
     "execution_count": 84,
     "metadata": {},
     "output_type": "execute_result"
    }
   ],
   "source": [
    "X_test2.shape"
   ]
  },
  {
   "cell_type": "code",
   "execution_count": 85,
   "metadata": {},
   "outputs": [
    {
     "name": "stdout",
     "output_type": "stream",
     "text": [
      "[0]\ttrain-auc:0.844372\tvalid-auc:0.801597\n",
      "Multiple eval metrics have been passed: 'valid-auc' will be used for early stopping.\n",
      "\n",
      "Will train until valid-auc hasn't improved in 200 rounds.\n",
      "[200]\ttrain-auc:0.992327\tvalid-auc:0.906303\n",
      "[400]\ttrain-auc:0.998658\tvalid-auc:0.911183\n",
      "Stopping. Best iteration:\n",
      "[389]\ttrain-auc:0.998533\tvalid-auc:0.911767\n",
      "\n",
      "Fold 1 | AUC: 0.9117674423844575\n",
      "[0]\ttrain-auc:0.821665\tvalid-auc:0.804041\n",
      "Multiple eval metrics have been passed: 'valid-auc' will be used for early stopping.\n",
      "\n",
      "Will train until valid-auc hasn't improved in 200 rounds.\n",
      "[200]\ttrain-auc:0.991773\tvalid-auc:0.93753\n",
      "[400]\ttrain-auc:0.998392\tvalid-auc:0.940855\n",
      "[600]\ttrain-auc:0.99972\tvalid-auc:0.940776\n",
      "Stopping. Best iteration:\n",
      "[432]\ttrain-auc:0.998796\tvalid-auc:0.941229\n",
      "\n",
      "Fold 2 | AUC: 0.941228729677884\n",
      "[0]\ttrain-auc:0.813133\tvalid-auc:0.81365\n",
      "Multiple eval metrics have been passed: 'valid-auc' will be used for early stopping.\n",
      "\n",
      "Will train until valid-auc hasn't improved in 200 rounds.\n",
      "[200]\ttrain-auc:0.991294\tvalid-auc:0.938169\n",
      "[400]\ttrain-auc:0.998209\tvalid-auc:0.939605\n",
      "Stopping. Best iteration:\n",
      "[338]\ttrain-auc:0.997132\tvalid-auc:0.940353\n",
      "\n",
      "Fold 3 | AUC: 0.9403527371967966\n",
      "[0]\ttrain-auc:0.816282\tvalid-auc:0.814904\n",
      "Multiple eval metrics have been passed: 'valid-auc' will be used for early stopping.\n",
      "\n",
      "Will train until valid-auc hasn't improved in 200 rounds.\n",
      "[200]\ttrain-auc:0.990972\tvalid-auc:0.933344\n",
      "[400]\ttrain-auc:0.998104\tvalid-auc:0.936892\n",
      "[600]\ttrain-auc:0.999706\tvalid-auc:0.937642\n",
      "Stopping. Best iteration:\n",
      "[511]\ttrain-auc:0.999353\tvalid-auc:0.937926\n",
      "\n",
      "Fold 4 | AUC: 0.9379264889458171\n",
      "[0]\ttrain-auc:0.841219\tvalid-auc:0.826437\n",
      "Multiple eval metrics have been passed: 'valid-auc' will be used for early stopping.\n",
      "\n",
      "Will train until valid-auc hasn't improved in 200 rounds.\n",
      "[200]\ttrain-auc:0.992456\tvalid-auc:0.944156\n",
      "[400]\ttrain-auc:0.998802\tvalid-auc:0.945869\n",
      "[600]\ttrain-auc:0.999866\tvalid-auc:0.945386\n",
      "Stopping. Best iteration:\n",
      "[475]\ttrain-auc:0.999424\tvalid-auc:0.946306\n",
      "\n",
      "Fold 5 | AUC: 0.9463057985254715\n",
      "\n",
      "Mean AUC = 0.9355162393460853\n",
      "Out of folds AUC = 0.9368667960927484\n"
     ]
    }
   ],
   "source": [
    "columns = X2.columns\n",
    "splits = folds.split(X2, y, groups=split_groups)\n",
    "y_preds = np.zeros(X_test2.shape[0])\n",
    "y_oof = np.zeros(X2.shape[0])\n",
    "score = 0\n",
    "\n",
    "feature_importance_df = pd.DataFrame()\n",
    "dtest = xgb.DMatrix(X_test2)\n",
    "  \n",
    "for fold_n, (train_index, valid_index) in enumerate(splits):\n",
    "    dtrain = xgb.DMatrix(X2[columns].iloc[train_index], y.iloc[train_index])\n",
    "    dvalid = xgb.DMatrix(X2[columns].iloc[valid_index], y.iloc[valid_index])\n",
    "    y_valid= y.iloc[valid_index]\n",
    "    params = {'eval_metric': 'auc',\n",
    "              'objective': 'binary:logistic',\n",
    "              'booster':'gbtree',\n",
    "              'nthread' : 4,\n",
    "              'eta' : 0.048,\n",
    "              'max_depth' : 9,\n",
    "              'missing': -999,\n",
    "              #'tree_method':'gpu_hist',\n",
    "              'subsample' : 0.85,\n",
    "              'colsample_bytree' : 0.85,\n",
    "              'alpha' : 0.15,\n",
    "              'lambda' : 0.85,\n",
    "              'random_state': 99, \n",
    "              'silent': True}\n",
    "    watchlist = [(dtrain, 'train'), (dvalid, 'valid')]\n",
    "        \n",
    "    model=xgb.train(params, dtrain, 5000, watchlist, maximize=True, early_stopping_rounds = 200, verbose_eval=200)\n",
    "    \n",
    "    y_pred_valid = model.predict(dvalid, ntree_limit=model.best_ntree_limit)\n",
    "    y_oof[valid_index] = y_pred_valid\n",
    "    print(f\"Fold {fold_n + 1} | AUC: {roc_auc_score(y_valid, y_pred_valid)}\")\n",
    "    \n",
    "    score += roc_auc_score(y_valid, y_pred_valid) / NFOLDS\n",
    "    y_preds += model.predict(dtest,ntree_limit=model.best_ntree_limit) / NFOLDS\n",
    "    fold_importance_df = pd.DataFrame()\n",
    "    fold_importance_df = pd.DataFrame(list(model.get_fscore().keys()), columns=['feature'])\n",
    "    fold_importance_df['importance']=list(model.get_fscore().values())\n",
    "    feature_importance_df = pd.concat([feature_importance_df, fold_importance_df], axis=0)\n",
    "    \n",
    "    del model, dtrain, dvalid, y_valid\n",
    "    gc.collect()\n",
    "    \n",
    "print(f\"\\nMean AUC = {score}\")\n",
    "print(f\"Out of folds AUC = {roc_auc_score(y, y_oof)}\")"
   ]
  },
  {
   "cell_type": "code",
   "execution_count": 86,
   "metadata": {},
   "outputs": [],
   "source": [
    "sub['isFraud'] = y_preds\n",
    "sub.to_csv(\"xgb_final4_re.csv\", index=False) #0.9456, no need to remove"
   ]
  },
  {
   "cell_type": "code",
   "execution_count": 87,
   "metadata": {},
   "outputs": [
    {
     "data": {
      "text/plain": [
       "40"
      ]
     },
     "execution_count": 87,
     "metadata": {},
     "output_type": "execute_result"
    }
   ],
   "source": [
    "del X2, X_test2\n",
    "gc.collect()"
   ]
  },
  {
   "cell_type": "code",
   "execution_count": 69,
   "metadata": {},
   "outputs": [],
   "source": [
    "sub = pd.read_csv('sample_submission.csv')\n",
    "xgb_submission=sub.copy()\n",
    "xgb_submission['isFraud'] = 0"
   ]
  },
  {
   "cell_type": "code",
   "execution_count": 72,
   "metadata": {},
   "outputs": [],
   "source": [
    "X3 = X.fillna(-999)\n",
    "X_test3 = X_test.fillna(-999)"
   ]
  },
  {
   "cell_type": "code",
   "execution_count": 73,
   "metadata": {},
   "outputs": [],
   "source": [
    "NFOLDS = 5\n",
    "folds = GroupKFold(n_splits=NFOLDS)\n",
    "splits = folds.split(X3, y, groups=split_groups)"
   ]
  },
  {
   "cell_type": "code",
   "execution_count": 74,
   "metadata": {},
   "outputs": [
    {
     "name": "stdout",
     "output_type": "stream",
     "text": [
      "0\n",
      "ROC accuracy: 0.8983769172058914\n",
      "1\n",
      "ROC accuracy: 0.9442586490256436\n",
      "2\n",
      "ROC accuracy: 0.9395720973919254\n",
      "3\n",
      "ROC accuracy: 0.9383217744723386\n",
      "4\n",
      "ROC accuracy: 0.9504852177144629\n"
     ]
    }
   ],
   "source": [
    "sub = pd.read_csv('sample_submission.csv')\n",
    "xgb_submission=sub.copy()\n",
    "xgb_submission['isFraud'] = 0\n",
    "for fold_n, (train_index, valid_index) in enumerate(splits):\n",
    "    print(fold_n)\n",
    "    xgbclf = xgb.XGBClassifier(\n",
    "        n_estimators=512,\n",
    "        max_depth=16,\n",
    "        learning_rate=0.014,\n",
    "        subsample=0.85,\n",
    "        colsample_bytree=0.85,\n",
    "        #missing=-999,\n",
    "        #tree_method='gpu_hist',\n",
    "        reg_alpha=0.3,\n",
    "        reg_lamdba=0.243)\n",
    "    \n",
    "    X_train_, X_valid = X3.iloc[train_index], X3.iloc[valid_index]\n",
    "    y_train_, y_valid = y.iloc[train_index], y.iloc[valid_index]\n",
    "    xgbclf.fit(X_train_,y_train_)\n",
    "    del X_train_,y_train_\n",
    "    pred=xgbclf.predict_proba(X_test3)[:,1]\n",
    "    val=xgbclf.predict_proba(X_valid)[:,1]\n",
    "    del xgbclf, X_valid\n",
    "    print('ROC accuracy: {}'.format(roc_auc_score(y_valid, val)))\n",
    "    del val,y_valid\n",
    "    xgb_submission['isFraud'] = xgb_submission['isFraud']+pred/NFOLDS\n",
    "    del pred\n",
    "    gc.collect()"
   ]
  },
  {
   "cell_type": "code",
   "execution_count": 75,
   "metadata": {},
   "outputs": [],
   "source": [
    "xgb_submission.to_csv('xgb_final4_ano.csv',index=False)#0.9444, no as good as xgb.cv"
   ]
  },
  {
   "cell_type": "code",
   "execution_count": null,
   "metadata": {},
   "outputs": [],
   "source": [
    "# bayes"
   ]
  },
  {
   "cell_type": "code",
   "execution_count": 88,
   "metadata": {},
   "outputs": [],
   "source": [
    "from sklearn.model_selection import GroupKFold\n",
    "NFOLDS = 5\n",
    "folds = GroupKFold(n_splits=NFOLDS)\n",
    "splits = folds.split(X, y, groups=split_groups)"
   ]
  },
  {
   "cell_type": "code",
   "execution_count": 89,
   "metadata": {},
   "outputs": [],
   "source": [
    "for fold_n, (train_index, valid_index) in enumerate(splits):\n",
    "    train_index_df=pd.DataFrame(train_index,columns=['train_index'])\n",
    "    valid_index_df=pd.DataFrame(valid_index,columns=['valid_index'])\n",
    "    del train_index, valid_index\n",
    "    gc.collect()"
   ]
  },
  {
   "cell_type": "code",
   "execution_count": 90,
   "metadata": {},
   "outputs": [
    {
     "data": {
      "text/plain": [
       "(420864, 1)"
      ]
     },
     "execution_count": 90,
     "metadata": {},
     "output_type": "execute_result"
    }
   ],
   "source": [
    "train_index_df.shape"
   ]
  },
  {
   "cell_type": "code",
   "execution_count": 91,
   "metadata": {},
   "outputs": [
    {
     "data": {
      "text/plain": [
       "(169676, 1)"
      ]
     },
     "execution_count": 91,
     "metadata": {},
     "output_type": "execute_result"
    }
   ],
   "source": [
    "valid_index_df.shape"
   ]
  },
  {
   "cell_type": "code",
   "execution_count": 92,
   "metadata": {},
   "outputs": [],
   "source": [
    "from bayes_opt import BayesianOptimization"
   ]
  },
  {
   "cell_type": "code",
   "execution_count": 95,
   "metadata": {},
   "outputs": [],
   "source": [
    "train_index=train_index_df['train_index']\n",
    "valid_index=valid_index_df['valid_index']"
   ]
  },
  {
   "cell_type": "code",
   "execution_count": 96,
   "metadata": {},
   "outputs": [],
   "source": [
    "X_train, X_valid = X.iloc[train_index], X.iloc[valid_index]\n",
    "y_train, y_valid = y.iloc[train_index], y.iloc[valid_index]"
   ]
  },
  {
   "cell_type": "code",
   "execution_count": 97,
   "metadata": {},
   "outputs": [
    {
     "data": {
      "text/plain": [
       "(420864, 949)"
      ]
     },
     "execution_count": 97,
     "metadata": {},
     "output_type": "execute_result"
    }
   ],
   "source": [
    "X_train.shape"
   ]
  },
  {
   "cell_type": "code",
   "execution_count": 98,
   "metadata": {},
   "outputs": [
    {
     "data": {
      "text/plain": [
       "(169676, 949)"
      ]
     },
     "execution_count": 98,
     "metadata": {},
     "output_type": "execute_result"
    }
   ],
   "source": [
    "X_valid.shape"
   ]
  },
  {
   "cell_type": "code",
   "execution_count": 99,
   "metadata": {},
   "outputs": [
    {
     "data": {
      "text/plain": [
       "(420864,)"
      ]
     },
     "execution_count": 99,
     "metadata": {},
     "output_type": "execute_result"
    }
   ],
   "source": [
    "y_train.shape"
   ]
  },
  {
   "cell_type": "code",
   "execution_count": 100,
   "metadata": {},
   "outputs": [
    {
     "data": {
      "text/plain": [
       "(169676,)"
      ]
     },
     "execution_count": 100,
     "metadata": {},
     "output_type": "execute_result"
    }
   ],
   "source": [
    "y_valid.shape"
   ]
  },
  {
   "cell_type": "code",
   "execution_count": 102,
   "metadata": {},
   "outputs": [],
   "source": [
    "def XGB_bayesian(\n",
    "    gamma,\n",
    "    max_leaves, \n",
    "    subsample,\n",
    "    colsample_bytree,\n",
    "    min_child_weight,\n",
    "    max_depth,\n",
    "    alpha,\n",
    "    reg_lambda\n",
    "     ):\n",
    "    \n",
    "    # LightGBM expects next three parameters need to be integer. \n",
    "    max_leaves = int(max_leaves)\n",
    "    max_depth = int(max_depth)\n",
    "\n",
    "    assert type(max_leaves) == int\n",
    "    assert type(max_depth) == int\n",
    "    y_oof = np.zeros(X_valid.shape[0])\n",
    "\n",
    "    param = { 'gamma':gamma,\n",
    "              'max_leaves': max_leaves, \n",
    "              'min_child_weight': min_child_weight,\n",
    "              'subsample' : subsample,\n",
    "              'colsample_bytree' : colsample_bytree,\n",
    "              'max_depth': max_depth,\n",
    "              'alpha': alpha,\n",
    "              'reg_lambda': reg_lambda,\n",
    "              'eval_metric': 'auc',\n",
    "              'objective': 'binary:logistic',\n",
    "              'booster':'gbtree',\n",
    "              'missing': -999,\n",
    "              'nthread' : 4,\n",
    "              'eta' : 0.048,\n",
    "              'random_state': 99, \n",
    "              'silent': True}    \n",
    "    \n",
    "    dtrain = xgb.DMatrix(X_train, y_train)\n",
    "    dvalid = xgb.DMatrix(X_valid, y_valid)\n",
    "\n",
    "    watchlist = [(dtrain, 'train'), (dvalid, 'valid')]\n",
    "        \n",
    "    model=xgb.train(param, dtrain, 5000, watchlist, maximize=True, early_stopping_rounds = 200, verbose_eval=200)\n",
    "    \n",
    "    y_oof = model.predict(dvalid, ntree_limit=model.best_ntree_limit)\n",
    "\n",
    "    score = roc_auc_score(y_valid, y_oof)\n",
    "\n",
    "    return score"
   ]
  },
  {
   "cell_type": "code",
   "execution_count": 103,
   "metadata": {},
   "outputs": [],
   "source": [
    "bounds_XGB = {\n",
    "    'gamma': (0,1),\n",
    "    'max_leaves': (100, 600), \n",
    "    'subsample' : (0.2,0.9),\n",
    "    'colsample_bytree' : (0.2,0.9),\n",
    "    'min_child_weight': (0.01, 0.1),   \n",
    "    'alpha': (0.3, 1), \n",
    "    'reg_lambda': (0.3, 1),\n",
    "    'max_depth':(-1,15),\n",
    "}"
   ]
  },
  {
   "cell_type": "code",
   "execution_count": 104,
   "metadata": {},
   "outputs": [],
   "source": [
    "XGB_BO = BayesianOptimization(XGB_bayesian, bounds_XGB)"
   ]
  },
  {
   "cell_type": "code",
   "execution_count": 105,
   "metadata": {},
   "outputs": [
    {
     "name": "stdout",
     "output_type": "stream",
     "text": [
      "['alpha', 'colsample_bytree', 'gamma', 'max_depth', 'max_leaves', 'min_child_weight', 'reg_lambda', 'subsample']\n"
     ]
    }
   ],
   "source": [
    "print(XGB_BO.space.keys)"
   ]
  },
  {
   "cell_type": "code",
   "execution_count": 106,
   "metadata": {},
   "outputs": [],
   "source": [
    "init_points = 3\n",
    "n_iter = 7"
   ]
  },
  {
   "cell_type": "code",
   "execution_count": null,
   "metadata": {},
   "outputs": [
    {
     "name": "stdout",
     "output_type": "stream",
     "text": [
      "----------------------------------------------------------------------------------------------------------------------------------\n",
      "|   iter    |  target   |   alpha   | colsam... |   gamma   | max_depth | max_le... | min_ch... | reg_la... | subsample |\n",
      "-------------------------------------------------------------------------------------------------------------------------\n",
      "[0]\ttrain-auc:0.834207\tvalid-auc:0.823935\n",
      "Multiple eval metrics have been passed: 'valid-auc' will be used for early stopping.\n",
      "\n",
      "Will train until valid-auc hasn't improved in 200 rounds.\n",
      "[200]\ttrain-auc:0.997329\tvalid-auc:0.947191\n",
      "[400]\ttrain-auc:0.999846\tvalid-auc:0.947015\n",
      "Stopping. Best iteration:\n",
      "[268]\ttrain-auc:0.998997\tvalid-auc:0.947951\n",
      "\n",
      "| \u001b[0m 1       \u001b[0m | \u001b[0m 0.948   \u001b[0m | \u001b[0m 0.8604  \u001b[0m | \u001b[0m 0.4752  \u001b[0m | \u001b[0m 0.713   \u001b[0m | \u001b[0m 10.64   \u001b[0m | \u001b[0m 289.7   \u001b[0m | \u001b[0m 0.08503 \u001b[0m | \u001b[0m 0.6285  \u001b[0m | \u001b[0m 0.8422  \u001b[0m |\n",
      "[0]\ttrain-auc:0.839415\tvalid-auc:0.821173\n",
      "Multiple eval metrics have been passed: 'valid-auc' will be used for early stopping.\n",
      "\n",
      "Will train until valid-auc hasn't improved in 200 rounds.\n",
      "[200]\ttrain-auc:0.999821\tvalid-auc:0.945564\n",
      "[400]\ttrain-auc:0.999998\tvalid-auc:0.94544\n",
      "Stopping. Best iteration:\n",
      "[218]\ttrain-auc:0.999885\tvalid-auc:0.945973\n",
      "\n",
      "| \u001b[0m 2       \u001b[0m | \u001b[0m 0.946   \u001b[0m | \u001b[0m 0.7311  \u001b[0m | \u001b[0m 0.8878  \u001b[0m | \u001b[0m 0.7686  \u001b[0m | \u001b[0m 14.34   \u001b[0m | \u001b[0m 431.9   \u001b[0m | \u001b[0m 0.09557 \u001b[0m | \u001b[0m 0.5314  \u001b[0m | \u001b[0m 0.3284  \u001b[0m |\n",
      "[0]\ttrain-auc:0.630572\tvalid-auc:0.615097\n",
      "Multiple eval metrics have been passed: 'valid-auc' will be used for early stopping.\n",
      "\n",
      "Will train until valid-auc hasn't improved in 200 rounds.\n",
      "[200]\ttrain-auc:0.903307\tvalid-auc:0.891887\n",
      "[400]\ttrain-auc:0.920313\tvalid-auc:0.904202\n",
      "[600]\ttrain-auc:0.93033\tvalid-auc:0.911081\n",
      "[800]\ttrain-auc:0.938171\tvalid-auc:0.915802\n",
      "[1000]\ttrain-auc:0.944212\tvalid-auc:0.919131\n",
      "[1200]\ttrain-auc:0.949231\tvalid-auc:0.921873\n"
     ]
    }
   ],
   "source": [
    "print('-' * 130)\n",
    "\n",
    "with warnings.catch_warnings():\n",
    "    warnings.filterwarnings('ignore')\n",
    "    XGB_BO.maximize(init_points=init_points, n_iter=n_iter, acq='ucb', xi=0.0, alpha=1e-6)"
   ]
  },
  {
   "cell_type": "code",
   "execution_count": null,
   "metadata": {},
   "outputs": [],
   "source": [
    "params = {'max_leaves': int(XGB_BO.max['params']['max_leaves']),\n",
    "          'min_child_weight': XGB_BO.max['params']['min_child_weight'],\n",
    "          'subsample': XGB_BO.max['params']['subsample'],\n",
    "          'colsample_bytree': XGB_BO.max['params']['colsample_bytree'],\n",
    "          'max_depth': int(XGB_BO.max['params']['max_depth']),\n",
    "          'alpha': XGB_BO.max['params']['alpha'],\n",
    "          'reg_lambda':XGB_BO.max['params']['reg_lambda'],\n",
    "          'eval_metric': 'auc',\n",
    "          'objective': 'binary:logistic',\n",
    "          'booster':'gbtree',\n",
    "          'missing': -999,\n",
    "          'nthread' : 4,\n",
    "          'eta' : 0.048,\n",
    "          'random_state': 99, \n",
    "          'silent': True\n",
    "         }"
   ]
  },
  {
   "cell_type": "code",
   "execution_count": null,
   "metadata": {},
   "outputs": [],
   "source": [
    "columns = X.columns\n",
    "splits = folds.split(X, y, groups=split_groups)\n",
    "y_preds = np.zeros(X_test.shape[0])\n",
    "y_oof = np.zeros(X.shape[0])\n",
    "score = 0\n",
    "\n",
    "feature_importance_df = pd.DataFrame()\n",
    "dtest = xgb.DMatrix(X_test)\n",
    "  \n",
    "for fold_n, (train_index, valid_index) in enumerate(splits):\n",
    "    dtrain = xgb.DMatrix(X[columns].iloc[train_index], y.iloc[train_index])\n",
    "    dvalid = xgb.DMatrix(X[columns].iloc[valid_index], y.iloc[valid_index])\n",
    "    y_valid= y.iloc[valid_index]\n",
    "    watchlist = [(dtrain, 'train'), (dvalid, 'valid')]\n",
    "        \n",
    "    model=xgb.train(params, dtrain, 5000, watchlist, maximize=True, early_stopping_rounds = 200, verbose_eval=200)\n",
    "    \n",
    "    y_pred_valid = model.predict(dvalid, ntree_limit=model.best_ntree_limit)\n",
    "    y_oof[valid_index] = y_pred_valid\n",
    "    print(f\"Fold {fold_n + 1} | AUC: {roc_auc_score(y_valid, y_pred_valid)}\")\n",
    "    \n",
    "    score += roc_auc_score(y_valid, y_pred_valid) / NFOLDS\n",
    "    y_preds += model.predict(dtest,ntree_limit=model.best_ntree_limit) / NFOLDS\n",
    "    fold_importance_df = pd.DataFrame()\n",
    "    fold_importance_df = pd.DataFrame(list(model.get_fscore().keys()), columns=['feature'])\n",
    "    fold_importance_df['importance']=list(model.get_fscore().values())\n",
    "    feature_importance_df = pd.concat([feature_importance_df, fold_importance_df], axis=0)\n",
    "    \n",
    "    del model, dtrain, dvalid, y_valid\n",
    "    gc.collect()\n",
    "    \n",
    "print(f\"\\nMean AUC = {score}\")\n",
    "print(f\"Out of folds AUC = {roc_auc_score(y, y_oof)}\")"
   ]
  }
 ],
 "metadata": {
  "kernelspec": {
   "display_name": "Python 3",
   "language": "python",
   "name": "python3"
  },
  "language_info": {
   "codemirror_mode": {
    "name": "ipython",
    "version": 3
   },
   "file_extension": ".py",
   "mimetype": "text/x-python",
   "name": "python",
   "nbconvert_exporter": "python",
   "pygments_lexer": "ipython3",
   "version": "3.7.3"
  }
 },
 "nbformat": 4,
 "nbformat_minor": 2
}
