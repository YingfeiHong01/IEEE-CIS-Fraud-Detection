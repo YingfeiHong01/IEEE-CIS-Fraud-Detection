{
 "cells": [
  {
   "cell_type": "code",
   "execution_count": 30,
   "metadata": {},
   "outputs": [],
   "source": [
    "import numpy as np\n",
    "import pandas as pd\n",
    "import os, sys, gc, warnings, random, datetime\n",
    "\n",
    "from sklearn import metrics\n",
    "from sklearn.preprocessing import LabelEncoder\n",
    "\n",
    "\n",
    "import lightgbm as lgb\n",
    "from sklearn.metrics import roc_auc_score\n",
    "\n",
    "import math\n",
    "warnings.filterwarnings('ignore')\n",
    "from sklearn.model_selection import KFold"
   ]
  },
  {
   "cell_type": "code",
   "execution_count": 2,
   "metadata": {},
   "outputs": [],
   "source": [
    "train=pd.read_csv('train_final2.csv')\n",
    "test=pd.read_csv('test_final2.csv')"
   ]
  },
  {
   "cell_type": "code",
   "execution_count": 3,
   "metadata": {},
   "outputs": [],
   "source": [
    "def seed_everything(seed=0):\n",
    "    random.seed(seed)\n",
    "    np.random.seed(seed)"
   ]
  },
  {
   "cell_type": "code",
   "execution_count": 4,
   "metadata": {},
   "outputs": [
    {
     "name": "stdout",
     "output_type": "stream",
     "text": [
      "(590540, 603) (506691, 602)\n"
     ]
    }
   ],
   "source": [
    "SEED = 42\n",
    "seed_everything(SEED)\n",
    "TARGET = 'isFraud'  \n",
    "print(train.shape, test.shape)"
   ]
  },
  {
   "cell_type": "code",
   "execution_count": 17,
   "metadata": {},
   "outputs": [
    {
     "data": {
      "text/plain": [
       "179"
      ]
     },
     "execution_count": 17,
     "metadata": {},
     "output_type": "execute_result"
    }
   ],
   "source": [
    "X = train.sort_values('TransactionDT').drop(['isFraud', 'TransactionDT','TransactionID','uid','uid2','bank_type'], axis=1)\n",
    "y = train.sort_values('TransactionDT')['isFraud']\n",
    "\n",
    "X_test = test.drop(['TransactionDT','TransactionID','uid','uid2','bank_type'], axis=1)\n"
   ]
  },
  {
   "cell_type": "code",
   "execution_count": 18,
   "metadata": {},
   "outputs": [
    {
     "data": {
      "text/plain": [
       "M1       object\n",
       "id_35    object\n",
       "dtype: object"
      ]
     },
     "execution_count": 18,
     "metadata": {},
     "output_type": "execute_result"
    }
   ],
   "source": [
    "obj_cols = X.dtypes\n",
    "obj_cols[obj_cols=='object']"
   ]
  },
  {
   "cell_type": "code",
   "execution_count": 19,
   "metadata": {},
   "outputs": [],
   "source": [
    "f = lambda x: 1 if x==True else 0 if x==False else x"
   ]
  },
  {
   "cell_type": "code",
   "execution_count": 20,
   "metadata": {},
   "outputs": [],
   "source": [
    "X[['M1','id_35']]=X[['M1','id_35']].applymap(f)"
   ]
  },
  {
   "cell_type": "code",
   "execution_count": 21,
   "metadata": {},
   "outputs": [],
   "source": [
    "X_test[['M1','id_35']]=X_test[['M1','id_35']].applymap(f)"
   ]
  },
  {
   "cell_type": "code",
   "execution_count": 22,
   "metadata": {},
   "outputs": [
    {
     "data": {
      "text/plain": [
       "(590540, 597)"
      ]
     },
     "execution_count": 22,
     "metadata": {},
     "output_type": "execute_result"
    }
   ],
   "source": [
    "X.shape"
   ]
  },
  {
   "cell_type": "code",
   "execution_count": 18,
   "metadata": {},
   "outputs": [],
   "source": [
    "params = {\n",
    "                    'objective':'binary',\n",
    "                    'boosting_type':'gbdt',\n",
    "                    'metric':'auc',\n",
    "                    'n_jobs':-1,\n",
    "                    'learning_rate':0.01,\n",
    "                    'num_leaves': 2**8,\n",
    "                    'max_depth':-1,\n",
    "                    'tree_learner':'serial',\n",
    "                    'colsample_bytree': 0.7,\n",
    "                    'subsample_freq':1,\n",
    "                    'subsample':0.7,\n",
    "                    'max_bin':255,\n",
    "                    'verbose':-1,\n",
    "                    'seed': SEED,\n",
    "                } "
   ]
  },
  {
   "cell_type": "code",
   "execution_count": 29,
   "metadata": {},
   "outputs": [
    {
     "name": "stdout",
     "output_type": "stream",
     "text": [
      "Training until validation scores don't improve for 500 rounds.\n",
      "[200]\ttraining's auc: 0.963606\tvalid_1's auc: 0.942321\n",
      "[400]\ttraining's auc: 0.989132\tvalid_1's auc: 0.960787\n",
      "[600]\ttraining's auc: 0.99617\tvalid_1's auc: 0.96748\n",
      "[800]\ttraining's auc: 0.998536\tvalid_1's auc: 0.971005\n",
      "[1000]\ttraining's auc: 0.999427\tvalid_1's auc: 0.972926\n",
      "[1200]\ttraining's auc: 0.999786\tvalid_1's auc: 0.974152\n",
      "[1400]\ttraining's auc: 0.999921\tvalid_1's auc: 0.975162\n",
      "[1600]\ttraining's auc: 0.999974\tvalid_1's auc: 0.975887\n",
      "[1800]\ttraining's auc: 0.999992\tvalid_1's auc: 0.976428\n",
      "[2000]\ttraining's auc: 0.999998\tvalid_1's auc: 0.976831\n",
      "[2200]\ttraining's auc: 0.999999\tvalid_1's auc: 0.977159\n",
      "[2400]\ttraining's auc: 1\tvalid_1's auc: 0.977391\n",
      "[2600]\ttraining's auc: 1\tvalid_1's auc: 0.97757\n",
      "[2800]\ttraining's auc: 1\tvalid_1's auc: 0.977815\n",
      "[3000]\ttraining's auc: 1\tvalid_1's auc: 0.977866\n",
      "[3200]\ttraining's auc: 1\tvalid_1's auc: 0.977954\n",
      "[3400]\ttraining's auc: 1\tvalid_1's auc: 0.977984\n",
      "[3600]\ttraining's auc: 1\tvalid_1's auc: 0.978108\n",
      "Early stopping, best iteration is:\n",
      "[3197]\ttraining's auc: 1\tvalid_1's auc: 0.97795\n",
      "Fold 1 | AUC: 0.9779322954392107\n",
      "Training until validation scores don't improve for 500 rounds.\n",
      "[200]\ttraining's auc: 0.96382\tvalid_1's auc: 0.939221\n",
      "[400]\ttraining's auc: 0.988864\tvalid_1's auc: 0.958785\n",
      "[600]\ttraining's auc: 0.996207\tvalid_1's auc: 0.966618\n",
      "[800]\ttraining's auc: 0.998536\tvalid_1's auc: 0.97003\n",
      "[1000]\ttraining's auc: 0.999424\tvalid_1's auc: 0.972122\n",
      "[1200]\ttraining's auc: 0.999779\tvalid_1's auc: 0.973451\n",
      "[1400]\ttraining's auc: 0.999919\tvalid_1's auc: 0.974562\n",
      "[1600]\ttraining's auc: 0.999974\tvalid_1's auc: 0.975337\n",
      "[1800]\ttraining's auc: 0.999992\tvalid_1's auc: 0.975868\n",
      "[2000]\ttraining's auc: 0.999998\tvalid_1's auc: 0.976378\n",
      "[2200]\ttraining's auc: 0.999999\tvalid_1's auc: 0.976706\n",
      "[2400]\ttraining's auc: 1\tvalid_1's auc: 0.976907\n",
      "[2600]\ttraining's auc: 1\tvalid_1's auc: 0.977155\n",
      "[2800]\ttraining's auc: 1\tvalid_1's auc: 0.977237\n",
      "[3000]\ttraining's auc: 1\tvalid_1's auc: 0.977407\n",
      "[3200]\ttraining's auc: 1\tvalid_1's auc: 0.977505\n",
      "[3400]\ttraining's auc: 1\tvalid_1's auc: 0.977558\n",
      "[3600]\ttraining's auc: 1\tvalid_1's auc: 0.977504\n",
      "[3800]\ttraining's auc: 1\tvalid_1's auc: 0.977557\n",
      "Early stopping, best iteration is:\n",
      "[3396]\ttraining's auc: 1\tvalid_1's auc: 0.977583\n",
      "Fold 2 | AUC: 0.9775810447646733\n",
      "Training until validation scores don't improve for 500 rounds.\n",
      "[200]\ttraining's auc: 0.964536\tvalid_1's auc: 0.94113\n",
      "[400]\ttraining's auc: 0.989357\tvalid_1's auc: 0.958808\n",
      "[600]\ttraining's auc: 0.996256\tvalid_1's auc: 0.966113\n",
      "[800]\ttraining's auc: 0.998547\tvalid_1's auc: 0.969083\n",
      "[1000]\ttraining's auc: 0.999448\tvalid_1's auc: 0.970919\n",
      "[1200]\ttraining's auc: 0.999782\tvalid_1's auc: 0.972288\n",
      "[1400]\ttraining's auc: 0.999922\tvalid_1's auc: 0.973191\n",
      "[1600]\ttraining's auc: 0.999972\tvalid_1's auc: 0.973955\n",
      "[1800]\ttraining's auc: 0.999991\tvalid_1's auc: 0.97458\n",
      "[2000]\ttraining's auc: 0.999997\tvalid_1's auc: 0.974992\n",
      "[2200]\ttraining's auc: 0.999999\tvalid_1's auc: 0.975237\n",
      "[2400]\ttraining's auc: 1\tvalid_1's auc: 0.975511\n",
      "[2600]\ttraining's auc: 1\tvalid_1's auc: 0.975751\n",
      "[2800]\ttraining's auc: 1\tvalid_1's auc: 0.975931\n",
      "[3000]\ttraining's auc: 1\tvalid_1's auc: 0.976009\n",
      "[3200]\ttraining's auc: 1\tvalid_1's auc: 0.976096\n",
      "[3400]\ttraining's auc: 1\tvalid_1's auc: 0.97614\n",
      "[3600]\ttraining's auc: 1\tvalid_1's auc: 0.976291\n",
      "[3800]\ttraining's auc: 1\tvalid_1's auc: 0.976251\n",
      "[4000]\ttraining's auc: 1\tvalid_1's auc: 0.976272\n",
      "Early stopping, best iteration is:\n",
      "[3578]\ttraining's auc: 1\tvalid_1's auc: 0.976312\n",
      "Fold 3 | AUC: 0.9763052129198513\n",
      "Training until validation scores don't improve for 500 rounds.\n",
      "[200]\ttraining's auc: 0.964891\tvalid_1's auc: 0.938462\n",
      "[400]\ttraining's auc: 0.989391\tvalid_1's auc: 0.957297\n",
      "[600]\ttraining's auc: 0.996311\tvalid_1's auc: 0.964544\n",
      "[800]\ttraining's auc: 0.998587\tvalid_1's auc: 0.968012\n",
      "[1000]\ttraining's auc: 0.999432\tvalid_1's auc: 0.970114\n",
      "[1200]\ttraining's auc: 0.999776\tvalid_1's auc: 0.971535\n",
      "[1400]\ttraining's auc: 0.99992\tvalid_1's auc: 0.9725\n",
      "[1600]\ttraining's auc: 0.999973\tvalid_1's auc: 0.973283\n",
      "[1800]\ttraining's auc: 0.999992\tvalid_1's auc: 0.973815\n",
      "[2000]\ttraining's auc: 0.999998\tvalid_1's auc: 0.974291\n",
      "[2200]\ttraining's auc: 1\tvalid_1's auc: 0.974563\n",
      "[2400]\ttraining's auc: 1\tvalid_1's auc: 0.974825\n",
      "[2600]\ttraining's auc: 1\tvalid_1's auc: 0.975002\n",
      "[2800]\ttraining's auc: 1\tvalid_1's auc: 0.975136\n",
      "[3000]\ttraining's auc: 1\tvalid_1's auc: 0.975214\n",
      "[3200]\ttraining's auc: 1\tvalid_1's auc: 0.975336\n",
      "[3400]\ttraining's auc: 1\tvalid_1's auc: 0.975429\n",
      "[3600]\ttraining's auc: 1\tvalid_1's auc: 0.975542\n",
      "[3800]\ttraining's auc: 1\tvalid_1's auc: 0.975506\n",
      "Early stopping, best iteration is:\n",
      "[3363]\ttraining's auc: 1\tvalid_1's auc: 0.975401\n",
      "Fold 4 | AUC: 0.9753995365729197\n",
      "Training until validation scores don't improve for 500 rounds.\n",
      "[200]\ttraining's auc: 0.964476\tvalid_1's auc: 0.932861\n",
      "[400]\ttraining's auc: 0.989164\tvalid_1's auc: 0.953551\n",
      "[600]\ttraining's auc: 0.996229\tvalid_1's auc: 0.961942\n",
      "[800]\ttraining's auc: 0.998551\tvalid_1's auc: 0.965852\n",
      "[1000]\ttraining's auc: 0.999425\tvalid_1's auc: 0.968053\n",
      "[1200]\ttraining's auc: 0.999781\tvalid_1's auc: 0.969438\n",
      "[1400]\ttraining's auc: 0.999916\tvalid_1's auc: 0.970448\n",
      "[1600]\ttraining's auc: 0.999969\tvalid_1's auc: 0.971347\n",
      "[1800]\ttraining's auc: 0.999993\tvalid_1's auc: 0.971769\n",
      "[2000]\ttraining's auc: 0.999998\tvalid_1's auc: 0.972261\n",
      "[2200]\ttraining's auc: 1\tvalid_1's auc: 0.972675\n",
      "[2400]\ttraining's auc: 1\tvalid_1's auc: 0.972925\n",
      "[2600]\ttraining's auc: 1\tvalid_1's auc: 0.973182\n",
      "[2800]\ttraining's auc: 1\tvalid_1's auc: 0.973379\n",
      "[3000]\ttraining's auc: 1\tvalid_1's auc: 0.973496\n",
      "[3200]\ttraining's auc: 1\tvalid_1's auc: 0.973582\n",
      "[3400]\ttraining's auc: 1\tvalid_1's auc: 0.973618\n",
      "[3600]\ttraining's auc: 1\tvalid_1's auc: 0.973604\n",
      "[3800]\ttraining's auc: 1\tvalid_1's auc: 0.973658\n",
      "Early stopping, best iteration is:\n",
      "[3393]\ttraining's auc: 1\tvalid_1's auc: 0.97361\n",
      "Fold 5 | AUC: 0.973554374540922\n",
      "\n",
      "Mean AUC = 0.9761544928475153\n",
      "Out of folds AUC = 0.9760979853691033\n",
      "CPU times: user 1d 7h 18min 51s, sys: 31min 15s, total: 1d 7h 50min 7s\n",
      "Wall time: 8h 55min 50s\n"
     ]
    }
   ],
   "source": [
    "%%time\n",
    "\n",
    "# Kfold oof - Out Of Fold\n",
    "# as we will use one fold as validation\n",
    "# and stop training when validation metric\n",
    "# stops improve\n",
    "#shuffle=True : https://www.linkedin.com/pulse/data-shuffling-why-important-machine-learning-how-do-deepak-n-gowda \n",
    "NFOLDS = 5\n",
    "folds = KFold(n_splits=NFOLDS, shuffle=True, random_state=SEED)\n",
    "\n",
    "columns = X.columns\n",
    "splits = folds.split(X, y)\n",
    "y_preds = np.zeros(X_test.shape[0])\n",
    "y_oof = np.zeros(X.shape[0])\n",
    "score = 0\n",
    "\n",
    "feature_importances = pd.DataFrame()\n",
    "feature_importances['feature'] = columns\n",
    "  \n",
    "for fold_n, (train_index, valid_index) in enumerate(splits):\n",
    "    X_train, X_valid = X[columns].iloc[train_index], X[columns].iloc[valid_index]\n",
    "    y_train, y_valid = y.iloc[train_index], y.iloc[valid_index]\n",
    "    \n",
    "    dtrain = lgb.Dataset(X_train, label=y_train)\n",
    "    dvalid = lgb.Dataset(X_valid, label=y_valid)\n",
    "\n",
    "    clf = lgb.train(params, dtrain, 10000, valid_sets = [dtrain, dvalid], verbose_eval=200, early_stopping_rounds=500)\n",
    "    \n",
    "    feature_importances[f'fold_{fold_n + 1}'] = clf.feature_importance()\n",
    "    \n",
    "    y_pred_valid = clf.predict(X_valid)\n",
    "    y_oof[valid_index] = y_pred_valid\n",
    "    print(f\"Fold {fold_n + 1} | AUC: {roc_auc_score(y_valid, y_pred_valid)}\")\n",
    "    \n",
    "    score += roc_auc_score(y_valid, y_pred_valid) / NFOLDS\n",
    "    y_preds += clf.predict(X_test) / NFOLDS\n",
    "    \n",
    "    del X_train, X_valid, y_train, y_valid\n",
    "    gc.collect()\n",
    "    \n",
    "print(f\"\\nMean AUC = {score}\")\n",
    "print(f\"Out of folds AUC = {roc_auc_score(y, y_oof)}\")"
   ]
  },
  {
   "cell_type": "code",
   "execution_count": null,
   "metadata": {},
   "outputs": [],
   "source": [
    "sub = pd.read_csv('sample_submission.csv')\n",
    "sub['isFraud'] = y_preds\n",
    "sub.to_csv(\"lgb_kfold.csv\", index=False)\n",
    "## 1st: Training score goes upto 1 and it's not normal situation\n",
    "## we definitely should stop before \n",
    "## 2nd: Our LB probing gave 0.9442 and it is too far away from validation score\n",
    "## some difference is normal, but such gap is too big"
   ]
  },
  {
   "cell_type": "code",
   "execution_count": 31,
   "metadata": {},
   "outputs": [
    {
     "name": "stdout",
     "output_type": "stream",
     "text": [
      "####################\n",
      "StratifiedKFold training...\n",
      "Training until validation scores don't improve for 500 rounds.\n",
      "[200]\ttraining's auc: 0.964852\tvalid_1's auc: 0.936883\n",
      "[400]\ttraining's auc: 0.989432\tvalid_1's auc: 0.956731\n",
      "[600]\ttraining's auc: 0.996356\tvalid_1's auc: 0.963665\n",
      "[800]\ttraining's auc: 0.998636\tvalid_1's auc: 0.967067\n",
      "[1000]\ttraining's auc: 0.999461\tvalid_1's auc: 0.969175\n",
      "[1200]\ttraining's auc: 0.9998\tvalid_1's auc: 0.970594\n",
      "[1400]\ttraining's auc: 0.999927\tvalid_1's auc: 0.97152\n",
      "[1600]\ttraining's auc: 0.999976\tvalid_1's auc: 0.972292\n",
      "[1800]\ttraining's auc: 0.999993\tvalid_1's auc: 0.972776\n",
      "[2000]\ttraining's auc: 0.999998\tvalid_1's auc: 0.97325\n",
      "[2200]\ttraining's auc: 1\tvalid_1's auc: 0.973603\n",
      "[2400]\ttraining's auc: 1\tvalid_1's auc: 0.973865\n",
      "[2600]\ttraining's auc: 1\tvalid_1's auc: 0.974113\n",
      "[2800]\ttraining's auc: 1\tvalid_1's auc: 0.974239\n",
      "[3000]\ttraining's auc: 1\tvalid_1's auc: 0.974469\n",
      "[3200]\ttraining's auc: 1\tvalid_1's auc: 0.974497\n",
      "[3400]\ttraining's auc: 1\tvalid_1's auc: 0.974521\n",
      "Early stopping, best iteration is:\n",
      "[2972]\ttraining's auc: 1\tvalid_1's auc: 0.974447\n",
      "Fold 1 | AUC: 0.9744270322440739\n",
      "Training until validation scores don't improve for 500 rounds.\n",
      "[200]\ttraining's auc: 0.964159\tvalid_1's auc: 0.941306\n",
      "[400]\ttraining's auc: 0.989358\tvalid_1's auc: 0.959573\n",
      "[600]\ttraining's auc: 0.996323\tvalid_1's auc: 0.966667\n",
      "[800]\ttraining's auc: 0.998601\tvalid_1's auc: 0.969938\n",
      "[1000]\ttraining's auc: 0.99945\tvalid_1's auc: 0.97177\n",
      "[1200]\ttraining's auc: 0.999793\tvalid_1's auc: 0.972803\n",
      "[1400]\ttraining's auc: 0.999921\tvalid_1's auc: 0.973882\n",
      "[1600]\ttraining's auc: 0.999973\tvalid_1's auc: 0.974583\n",
      "[1800]\ttraining's auc: 0.999991\tvalid_1's auc: 0.975095\n",
      "[2000]\ttraining's auc: 0.999997\tvalid_1's auc: 0.97554\n",
      "[2200]\ttraining's auc: 0.999999\tvalid_1's auc: 0.975774\n",
      "[2400]\ttraining's auc: 1\tvalid_1's auc: 0.976042\n",
      "[2600]\ttraining's auc: 1\tvalid_1's auc: 0.976262\n",
      "[2800]\ttraining's auc: 1\tvalid_1's auc: 0.976376\n",
      "[3000]\ttraining's auc: 1\tvalid_1's auc: 0.976428\n",
      "[3200]\ttraining's auc: 1\tvalid_1's auc: 0.976393\n",
      "[3400]\ttraining's auc: 1\tvalid_1's auc: 0.976431\n",
      "[3600]\ttraining's auc: 1\tvalid_1's auc: 0.976534\n",
      "[3800]\ttraining's auc: 1\tvalid_1's auc: 0.976595\n",
      "[4000]\ttraining's auc: 1\tvalid_1's auc: 0.976646\n",
      "Early stopping, best iteration is:\n",
      "[3698]\ttraining's auc: 1\tvalid_1's auc: 0.976583\n",
      "Fold 2 | AUC: 0.9765797600391326\n",
      "Training until validation scores don't improve for 500 rounds.\n",
      "[200]\ttraining's auc: 0.963725\tvalid_1's auc: 0.938932\n",
      "[400]\ttraining's auc: 0.989001\tvalid_1's auc: 0.958378\n",
      "[600]\ttraining's auc: 0.996123\tvalid_1's auc: 0.966096\n",
      "[800]\ttraining's auc: 0.99849\tvalid_1's auc: 0.969645\n",
      "[1000]\ttraining's auc: 0.999382\tvalid_1's auc: 0.971664\n",
      "[1200]\ttraining's auc: 0.99976\tvalid_1's auc: 0.973044\n",
      "[1400]\ttraining's auc: 0.999901\tvalid_1's auc: 0.974131\n",
      "[1600]\ttraining's auc: 0.999969\tvalid_1's auc: 0.97492\n",
      "[1800]\ttraining's auc: 0.999991\tvalid_1's auc: 0.975527\n",
      "[2000]\ttraining's auc: 0.999998\tvalid_1's auc: 0.976071\n",
      "[2200]\ttraining's auc: 0.999999\tvalid_1's auc: 0.976446\n",
      "[2400]\ttraining's auc: 1\tvalid_1's auc: 0.976758\n",
      "[2600]\ttraining's auc: 1\tvalid_1's auc: 0.976977\n",
      "[2800]\ttraining's auc: 1\tvalid_1's auc: 0.977219\n",
      "[3000]\ttraining's auc: 1\tvalid_1's auc: 0.977409\n",
      "[3200]\ttraining's auc: 1\tvalid_1's auc: 0.977548\n",
      "[3400]\ttraining's auc: 1\tvalid_1's auc: 0.977674\n",
      "Early stopping, best iteration is:\n",
      "[2904]\ttraining's auc: 1\tvalid_1's auc: 0.977286\n",
      "Fold 3 | AUC: 0.9772687404599861\n",
      "Training until validation scores don't improve for 500 rounds.\n",
      "[200]\ttraining's auc: 0.965004\tvalid_1's auc: 0.936558\n",
      "[400]\ttraining's auc: 0.989535\tvalid_1's auc: 0.955434\n",
      "[600]\ttraining's auc: 0.996342\tvalid_1's auc: 0.962441\n",
      "[800]\ttraining's auc: 0.998556\tvalid_1's auc: 0.966139\n",
      "[1000]\ttraining's auc: 0.999437\tvalid_1's auc: 0.968554\n",
      "[1200]\ttraining's auc: 0.999796\tvalid_1's auc: 0.969971\n",
      "[1400]\ttraining's auc: 0.999927\tvalid_1's auc: 0.971036\n",
      "[1600]\ttraining's auc: 0.999976\tvalid_1's auc: 0.971911\n",
      "[1800]\ttraining's auc: 0.999992\tvalid_1's auc: 0.972592\n",
      "[2000]\ttraining's auc: 0.999998\tvalid_1's auc: 0.973081\n",
      "[2200]\ttraining's auc: 1\tvalid_1's auc: 0.973402\n",
      "[2400]\ttraining's auc: 1\tvalid_1's auc: 0.973759\n",
      "[2600]\ttraining's auc: 1\tvalid_1's auc: 0.974077\n",
      "[2800]\ttraining's auc: 1\tvalid_1's auc: 0.974207\n",
      "[3000]\ttraining's auc: 1\tvalid_1's auc: 0.97438\n",
      "[3200]\ttraining's auc: 1\tvalid_1's auc: 0.974409\n",
      "[3400]\ttraining's auc: 1\tvalid_1's auc: 0.974506\n",
      "[3600]\ttraining's auc: 1\tvalid_1's auc: 0.974549\n",
      "[3800]\ttraining's auc: 1\tvalid_1's auc: 0.974643\n",
      "Early stopping, best iteration is:\n",
      "[3356]\ttraining's auc: 1\tvalid_1's auc: 0.974507\n",
      "Fold 4 | AUC: 0.9745267437981572\n",
      "Training until validation scores don't improve for 500 rounds.\n",
      "[200]\ttraining's auc: 0.963859\tvalid_1's auc: 0.939341\n",
      "[400]\ttraining's auc: 0.989373\tvalid_1's auc: 0.959972\n",
      "[600]\ttraining's auc: 0.996324\tvalid_1's auc: 0.967558\n",
      "[800]\ttraining's auc: 0.998581\tvalid_1's auc: 0.970823\n",
      "[1000]\ttraining's auc: 0.999435\tvalid_1's auc: 0.972887\n",
      "[1200]\ttraining's auc: 0.999775\tvalid_1's auc: 0.974309\n",
      "[1400]\ttraining's auc: 0.999916\tvalid_1's auc: 0.975214\n",
      "[1600]\ttraining's auc: 0.999971\tvalid_1's auc: 0.975983\n",
      "[1800]\ttraining's auc: 0.999991\tvalid_1's auc: 0.976505\n",
      "[2000]\ttraining's auc: 0.999998\tvalid_1's auc: 0.976947\n",
      "[2200]\ttraining's auc: 0.999999\tvalid_1's auc: 0.977351\n",
      "[2400]\ttraining's auc: 1\tvalid_1's auc: 0.97753\n",
      "[2600]\ttraining's auc: 1\tvalid_1's auc: 0.977664\n",
      "[2800]\ttraining's auc: 1\tvalid_1's auc: 0.977865\n",
      "[3000]\ttraining's auc: 1\tvalid_1's auc: 0.97798\n",
      "[3200]\ttraining's auc: 1\tvalid_1's auc: 0.978011\n",
      "[3400]\ttraining's auc: 1\tvalid_1's auc: 0.978041\n",
      "[3600]\ttraining's auc: 1\tvalid_1's auc: 0.978091\n",
      "[3800]\ttraining's auc: 1\tvalid_1's auc: 0.978121\n",
      "Early stopping, best iteration is:\n",
      "[3373]\ttraining's auc: 1\tvalid_1's auc: 0.978054\n",
      "Fold 5 | AUC: 0.9780635709458033\n",
      "\n",
      "Mean AUC = 0.9761731694974305\n",
      "Out of folds AUC = 0.9757995422235981\n",
      "CPU times: user 1d 9h 15min 25s, sys: 35min 15s, total: 1d 9h 50min 40s\n",
      "Wall time: 9h 38min 13s\n"
     ]
    }
   ],
   "source": [
    "%%time\n",
    "from sklearn.model_selection import StratifiedKFold\n",
    "print('#'*20)\n",
    "print('StratifiedKFold training...')\n",
    "# Same as normal kfold but we can be sure\n",
    "# that our target is perfectly distribuited\n",
    "# over folds\n",
    "NFOLDS = 5\n",
    "folds = StratifiedKFold(n_splits=N_SPLITS, shuffle=True, random_state=SEED)\n",
    "\n",
    "columns = X.columns\n",
    "splits = folds.split(X, y)\n",
    "y_preds = np.zeros(X_test.shape[0])\n",
    "y_oof = np.zeros(X.shape[0])\n",
    "score = 0\n",
    "\n",
    "feature_importances = pd.DataFrame()\n",
    "feature_importances['feature'] = columns\n",
    "  \n",
    "for fold_n, (train_index, valid_index) in enumerate(splits):\n",
    "    X_train, X_valid = X[columns].iloc[train_index], X[columns].iloc[valid_index]\n",
    "    y_train, y_valid = y.iloc[train_index], y.iloc[valid_index]\n",
    "    \n",
    "    dtrain = lgb.Dataset(X_train, label=y_train)\n",
    "    dvalid = lgb.Dataset(X_valid, label=y_valid)\n",
    "\n",
    "    clf = lgb.train(params, dtrain, 10000, valid_sets = [dtrain, dvalid], verbose_eval=200, early_stopping_rounds=500)\n",
    "    \n",
    "    feature_importances[f'fold_{fold_n + 1}'] = clf.feature_importance()\n",
    "    \n",
    "    y_pred_valid = clf.predict(X_valid)\n",
    "    y_oof[valid_index] = y_pred_valid\n",
    "    print(f\"Fold {fold_n + 1} | AUC: {roc_auc_score(y_valid, y_pred_valid)}\")\n",
    "    \n",
    "    score += roc_auc_score(y_valid, y_pred_valid) / NFOLDS\n",
    "    y_preds += clf.predict(X_test) / NFOLDS\n",
    "    \n",
    "    del X_train, X_valid, y_train, y_valid\n",
    "    gc.collect()\n",
    "    \n",
    "print(f\"\\nMean AUC = {score}\")\n",
    "print(f\"Out of folds AUC = {roc_auc_score(y, y_oof)}\")"
   ]
  },
  {
   "cell_type": "code",
   "execution_count": 32,
   "metadata": {},
   "outputs": [],
   "source": [
    "sub = pd.read_csv('sample_submission.csv')\n",
    "sub['isFraud'] = y_preds\n",
    "sub.to_csv(\"lgb_Strat.csv\", index=False) #0.9445\n",
    "## We have same \"problems\" here as in normal kfold\n",
    "## 1st: Training score goes upto 1 and it's not normal situation\n",
    "## we definitely should stop before \n",
    "## 2nd: Our LB probing gave 0.9445 and it is too far away from validation score\n",
    "## some difference is normal, but such gap is too big"
   ]
  },
  {
   "cell_type": "code",
   "execution_count": 33,
   "metadata": {},
   "outputs": [],
   "source": [
    "#LBO (last block out)\n",
    "#For Time series data (what we have here) we can use (sometimes) last Time block as validation subset \n",
    "# and track mean early stopping round."
   ]
  },
  {
   "cell_type": "code",
   "execution_count": 5,
   "metadata": {},
   "outputs": [],
   "source": [
    "f = lambda x: 1 if x==True else 0 if x==False else x\n",
    "train[['M1','id_35']]=train[['M1','id_35']].applymap(f)\n",
    "test[['M1','id_35']]=test[['M1','id_35']].applymap(f)"
   ]
  },
  {
   "cell_type": "code",
   "execution_count": 6,
   "metadata": {},
   "outputs": [],
   "source": [
    "train=train.drop(['TransactionID','uid','uid2','bank_type'], axis=1)"
   ]
  },
  {
   "cell_type": "code",
   "execution_count": 8,
   "metadata": {},
   "outputs": [],
   "source": [
    "START_DATE = datetime.datetime.strptime('2017-11-30', '%Y-%m-%d')"
   ]
  },
  {
   "cell_type": "code",
   "execution_count": 9,
   "metadata": {},
   "outputs": [],
   "source": [
    "## We need Divide Train Set by Time blocks\n",
    "## Convert TransactionDT to Months\n",
    "## And use last month as Validation\n",
    "train['DT_M'] = train['TransactionDT'].apply(lambda x: (START_DATE + datetime.timedelta(seconds = x)))\n",
    "train['DT_M'] = (train['DT_M'].dt.year-2017)*12 + train['DT_M'].dt.month \n",
    "\n",
    "main_train_set = train[train['DT_M']<(train['DT_M'].max())].reset_index(drop=True)\n",
    "validation_set = train[train['DT_M']==train['DT_M'].max()].reset_index(drop=True)"
   ]
  },
  {
   "cell_type": "code",
   "execution_count": 10,
   "metadata": {},
   "outputs": [],
   "source": [
    "# Main Data\n",
    "X= main_train_set.drop(['isFraud', 'TransactionDT'], axis=1)\n",
    "y = main_train_set['isFraud']\n",
    "# Validation Data\n",
    "v_X=validation_set.drop(['isFraud', 'TransactionDT'], axis=1)\n",
    "v_y=validation_set['isFraud']\n",
    "test['DT_M'] = test['TransactionDT'].apply(lambda x: (START_DATE + datetime.timedelta(seconds = x)))\n",
    "test['DT_M'] = (test['DT_M'].dt.year-2017)*12 + test['DT_M'].dt.month \n",
    "X_test = test.drop(['TransactionDT','TransactionID','uid','uid2','bank_type'], axis=1)"
   ]
  },
  {
   "cell_type": "code",
   "execution_count": 11,
   "metadata": {},
   "outputs": [
    {
     "data": {
      "text/plain": [
       "(501214, 598)"
      ]
     },
     "execution_count": 11,
     "metadata": {},
     "output_type": "execute_result"
    }
   ],
   "source": [
    "X.shape"
   ]
  },
  {
   "cell_type": "code",
   "execution_count": 12,
   "metadata": {},
   "outputs": [
    {
     "data": {
      "text/plain": [
       "(89326, 598)"
      ]
     },
     "execution_count": 12,
     "metadata": {},
     "output_type": "execute_result"
    }
   ],
   "source": [
    "v_X.shape"
   ]
  },
  {
   "cell_type": "code",
   "execution_count": 13,
   "metadata": {},
   "outputs": [
    {
     "data": {
      "text/plain": [
       "(506691, 598)"
      ]
     },
     "execution_count": 13,
     "metadata": {},
     "output_type": "execute_result"
    }
   ],
   "source": [
    "X_test.shape"
   ]
  },
  {
   "cell_type": "code",
   "execution_count": 20,
   "metadata": {},
   "outputs": [
    {
     "name": "stdout",
     "output_type": "stream",
     "text": [
      "Fold: 1\n",
      "Training until validation scores don't improve for 500 rounds.\n",
      "[200]\ttraining's auc: 0.968971\tvalid_1's auc: 0.912174\n",
      "[400]\ttraining's auc: 0.99219\tvalid_1's auc: 0.928999\n",
      "[600]\ttraining's auc: 0.997864\tvalid_1's auc: 0.933664\n",
      "[800]\ttraining's auc: 0.999347\tvalid_1's auc: 0.934857\n",
      "[1000]\ttraining's auc: 0.999802\tvalid_1's auc: 0.935005\n",
      "[1200]\ttraining's auc: 0.999944\tvalid_1's auc: 0.935198\n",
      "[1400]\ttraining's auc: 0.999985\tvalid_1's auc: 0.935251\n",
      "[1600]\ttraining's auc: 0.999997\tvalid_1's auc: 0.934984\n",
      "Early stopping, best iteration is:\n",
      "[1268]\ttraining's auc: 0.999964\tvalid_1's auc: 0.935446\n",
      "Fold: 2\n",
      "Training until validation scores don't improve for 500 rounds.\n",
      "[200]\ttraining's auc: 0.967858\tvalid_1's auc: 0.912896\n",
      "[400]\ttraining's auc: 0.992214\tvalid_1's auc: 0.929305\n",
      "[600]\ttraining's auc: 0.997732\tvalid_1's auc: 0.935173\n",
      "[800]\ttraining's auc: 0.999281\tvalid_1's auc: 0.937163\n",
      "[1000]\ttraining's auc: 0.999771\tvalid_1's auc: 0.938183\n",
      "[1200]\ttraining's auc: 0.999932\tvalid_1's auc: 0.938447\n",
      "[1400]\ttraining's auc: 0.999982\tvalid_1's auc: 0.938954\n",
      "[1600]\ttraining's auc: 0.999996\tvalid_1's auc: 0.939215\n",
      "[1800]\ttraining's auc: 0.999999\tvalid_1's auc: 0.939217\n",
      "[2000]\ttraining's auc: 1\tvalid_1's auc: 0.939178\n",
      "Early stopping, best iteration is:\n",
      "[1583]\ttraining's auc: 0.999995\tvalid_1's auc: 0.939308\n",
      "Fold: 3\n",
      "Training until validation scores don't improve for 500 rounds.\n",
      "[200]\ttraining's auc: 0.966985\tvalid_1's auc: 0.914353\n",
      "[400]\ttraining's auc: 0.991937\tvalid_1's auc: 0.931826\n",
      "[600]\ttraining's auc: 0.997798\tvalid_1's auc: 0.937434\n",
      "[800]\ttraining's auc: 0.999312\tvalid_1's auc: 0.939183\n",
      "[1000]\ttraining's auc: 0.999776\tvalid_1's auc: 0.939951\n",
      "[1200]\ttraining's auc: 0.999932\tvalid_1's auc: 0.939976\n",
      "[1400]\ttraining's auc: 0.999981\tvalid_1's auc: 0.939978\n",
      "[1600]\ttraining's auc: 0.999995\tvalid_1's auc: 0.940145\n",
      "[1800]\ttraining's auc: 0.999999\tvalid_1's auc: 0.940264\n",
      "[2000]\ttraining's auc: 1\tvalid_1's auc: 0.940008\n",
      "[2200]\ttraining's auc: 1\tvalid_1's auc: 0.940035\n",
      "Early stopping, best iteration is:\n",
      "[1790]\ttraining's auc: 0.999999\tvalid_1's auc: 0.94034\n",
      "Fold: 4\n",
      "Training until validation scores don't improve for 500 rounds.\n",
      "[200]\ttraining's auc: 0.967277\tvalid_1's auc: 0.911449\n",
      "[400]\ttraining's auc: 0.991897\tvalid_1's auc: 0.928145\n",
      "[600]\ttraining's auc: 0.997655\tvalid_1's auc: 0.934525\n",
      "[800]\ttraining's auc: 0.999237\tvalid_1's auc: 0.937103\n",
      "[1000]\ttraining's auc: 0.999757\tvalid_1's auc: 0.937822\n",
      "[1200]\ttraining's auc: 0.999922\tvalid_1's auc: 0.93834\n",
      "[1400]\ttraining's auc: 0.999974\tvalid_1's auc: 0.93869\n",
      "[1600]\ttraining's auc: 0.999991\tvalid_1's auc: 0.938846\n",
      "[1800]\ttraining's auc: 0.999999\tvalid_1's auc: 0.939078\n",
      "[2000]\ttraining's auc: 1\tvalid_1's auc: 0.938968\n",
      "[2200]\ttraining's auc: 1\tvalid_1's auc: 0.938986\n",
      "[2400]\ttraining's auc: 1\tvalid_1's auc: 0.938944\n",
      "Early stopping, best iteration is:\n",
      "[1933]\ttraining's auc: 1\tvalid_1's auc: 0.939143\n",
      "Fold: 5\n",
      "Training until validation scores don't improve for 500 rounds.\n",
      "[200]\ttraining's auc: 0.968412\tvalid_1's auc: 0.913639\n",
      "[400]\ttraining's auc: 0.99222\tvalid_1's auc: 0.929442\n",
      "[600]\ttraining's auc: 0.997896\tvalid_1's auc: 0.935167\n",
      "[800]\ttraining's auc: 0.999342\tvalid_1's auc: 0.936888\n",
      "[1000]\ttraining's auc: 0.99979\tvalid_1's auc: 0.937824\n",
      "[1200]\ttraining's auc: 0.999938\tvalid_1's auc: 0.937973\n",
      "[1400]\ttraining's auc: 0.999984\tvalid_1's auc: 0.938181\n",
      "[1600]\ttraining's auc: 0.999996\tvalid_1's auc: 0.937996\n",
      "[1800]\ttraining's auc: 0.999999\tvalid_1's auc: 0.937912\n",
      "Early stopping, best iteration is:\n",
      "[1431]\ttraining's auc: 0.999987\tvalid_1's auc: 0.938277\n"
     ]
    }
   ],
   "source": [
    "NFOLDS = 5\n",
    "folds = KFold(n_splits=NFOLDS, shuffle=True, random_state=SEED)\n",
    "\n",
    "estimators_bestround = []\n",
    "y_preds = np.zeros(X_test.shape[0])\n",
    "for fold_, (trn_idx, val_idx) in enumerate(folds.split(X, y)):\n",
    "    print('Fold:',fold_+1)\n",
    "    tr_x, tr_y = X.iloc[trn_idx,:], y[trn_idx]    \n",
    "    train_data = lgb.Dataset(tr_x, label=tr_y)\n",
    "    valid_data = lgb.Dataset(v_X, label=v_y)  \n",
    "\n",
    "    estimator = lgb.train(\n",
    "            params,\n",
    "            train_data,\n",
    "            10000,\n",
    "            valid_sets = [train_data, valid_data],\n",
    "            verbose_eval=200, early_stopping_rounds=500\n",
    "        )\n",
    "    estimators_bestround.append(estimator.current_iteration())\n",
    "    y_preds += estimator.predict(X_test) / NFOLDS\n",
    "    del estimator,tr_x, tr_y, train_data,valid_data\n",
    "    gc.collect()"
   ]
  },
  {
   "cell_type": "code",
   "execution_count": null,
   "metadata": {},
   "outputs": [],
   "source": [
    "sub = pd.read_csv('sample_submission.csv')\n",
    "sub['isFraud'] = y_preds\n",
    "sub.to_csv(\"lgb_lbo.csv\", index=False) #0.9387"
   ]
  },
  {
   "cell_type": "code",
   "execution_count": 37,
   "metadata": {},
   "outputs": [],
   "source": [
    "corrected_lgb_params = params.copy()"
   ]
  },
  {
   "cell_type": "code",
   "execution_count": 38,
   "metadata": {},
   "outputs": [
    {
     "name": "stdout",
     "output_type": "stream",
     "text": [
      "##########\n",
      "Mean Best round: 1601\n"
     ]
    }
   ],
   "source": [
    "corrected_lgb_params['n_estimators'] = int(np.mean(estimators_bestround))\n",
    "corrected_lgb_params['early_stopping_rounds'] = None\n",
    "print('#'*10)\n",
    "print('Mean Best round:', corrected_lgb_params['n_estimators'])"
   ]
  },
  {
   "cell_type": "code",
   "execution_count": 42,
   "metadata": {},
   "outputs": [],
   "source": [
    "X= train.drop(['isFraud', 'TransactionDT','groups'], axis=1)\n",
    "y = train['isFraud']"
   ]
  },
  {
   "cell_type": "code",
   "execution_count": 43,
   "metadata": {},
   "outputs": [
    {
     "data": {
      "text/plain": [
       "(590540, 598)"
      ]
     },
     "execution_count": 43,
     "metadata": {},
     "output_type": "execute_result"
    }
   ],
   "source": [
    "X.shape"
   ]
  },
  {
   "cell_type": "code",
   "execution_count": 44,
   "metadata": {},
   "outputs": [
    {
     "data": {
      "text/plain": [
       "{'boosting_type': 'gbdt',\n",
       " 'colsample_bytree': 0.7,\n",
       " 'early_stopping_rounds': None,\n",
       " 'learning_rate': 0.01,\n",
       " 'max_bin': 255,\n",
       " 'max_depth': -1,\n",
       " 'metric': 'auc',\n",
       " 'n_estimators': 1601,\n",
       " 'n_jobs': -1,\n",
       " 'num_leaves': 256,\n",
       " 'objective': 'binary',\n",
       " 'seed': 42,\n",
       " 'subsample': 0.7,\n",
       " 'subsample_freq': 1,\n",
       " 'tree_learner': 'serial',\n",
       " 'verbose': -1}"
      ]
     },
     "execution_count": 44,
     "metadata": {},
     "output_type": "execute_result"
    }
   ],
   "source": [
    "corrected_lgb_params"
   ]
  },
  {
   "cell_type": "code",
   "execution_count": 45,
   "metadata": {},
   "outputs": [
    {
     "name": "stdout",
     "output_type": "stream",
     "text": [
      "Model: 1\n",
      "Model: 2\n",
      "Model: 3\n"
     ]
    }
   ],
   "source": [
    "NUMBER_OF_MODELS = 3\n",
    "y_preds = np.zeros(X_test.shape[0])\n",
    "for current_model in range(NUMBER_OF_MODELS):\n",
    "    print('Model:',current_model+1)\n",
    "    SEED += 1\n",
    "    seed_everything(SEED)    \n",
    "    train_data = lgb.Dataset(X, label=y)\n",
    "\n",
    "    estimator = lgb.train(\n",
    "            corrected_lgb_params,\n",
    "            train_data\n",
    "        )\n",
    "    \n",
    "    y_preds += estimator.predict(X_test) / NUMBER_OF_MODELS"
   ]
  },
  {
   "cell_type": "code",
   "execution_count": 46,
   "metadata": {},
   "outputs": [],
   "source": [
    "sub = pd.read_csv('sample_submission.csv')\n",
    "sub['isFraud'] = y_preds\n",
    "sub.to_csv(\"lgb_lbo2.csv\", index=False)  #0.9455"
   ]
  },
  {
   "cell_type": "code",
   "execution_count": 22,
   "metadata": {},
   "outputs": [],
   "source": [
    "#GroupKFold\n",
    "#The folds are approximately balanced in the sense that the number of distinct groups is approximately the same in each fold.\n",
    "\n",
    "#Why we may use it? Let's imagine that we want to separate train data by time blocks groups or client IDs or something else. \n",
    "# With GroupKFold we can be sure that our validation fold will contain groupIDs that are not in main train set. \n",
    "#Sometimes it helps to deal with \"dataleakage\" and overfit."
   ]
  },
  {
   "cell_type": "code",
   "execution_count": 26,
   "metadata": {},
   "outputs": [],
   "source": [
    "from sklearn.model_selection import GroupKFold\n",
    "NFOLDS = 5\n",
    "folds = GroupKFold(n_splits=NFOLDS)\n",
    "\n",
    "## We need Divide Train Set by Time blocks\n",
    "## Convert TransactionDT to Months\n",
    "# Main Data\n",
    "train['groups'] = train['TransactionDT'].apply(lambda x: (START_DATE + datetime.timedelta(seconds = x)))\n",
    "train['groups'] = (train['groups'].dt.year-2017)*12 + train['groups'].dt.month \n",
    "split_groups = train['groups']"
   ]
  },
  {
   "cell_type": "code",
   "execution_count": 27,
   "metadata": {},
   "outputs": [],
   "source": [
    "X= train.drop(['isFraud', 'TransactionDT','groups'], axis=1)\n",
    "y = train['isFraud']"
   ]
  },
  {
   "cell_type": "code",
   "execution_count": 31,
   "metadata": {},
   "outputs": [
    {
     "name": "stdout",
     "output_type": "stream",
     "text": [
      "Training until validation scores don't improve for 500 rounds.\n",
      "[200]\ttraining's auc: 0.966919\tvalid_1's auc: 0.894047\n",
      "[400]\ttraining's auc: 0.990188\tvalid_1's auc: 0.90792\n",
      "[600]\ttraining's auc: 0.996667\tvalid_1's auc: 0.913338\n",
      "[800]\ttraining's auc: 0.998783\tvalid_1's auc: 0.915384\n",
      "[1000]\ttraining's auc: 0.99955\tvalid_1's auc: 0.916772\n",
      "[1200]\ttraining's auc: 0.999835\tvalid_1's auc: 0.917604\n",
      "[1400]\ttraining's auc: 0.999942\tvalid_1's auc: 0.918081\n",
      "[1600]\ttraining's auc: 0.999981\tvalid_1's auc: 0.918398\n",
      "[1800]\ttraining's auc: 0.999994\tvalid_1's auc: 0.918534\n",
      "[2000]\ttraining's auc: 0.999998\tvalid_1's auc: 0.918736\n",
      "[2200]\ttraining's auc: 1\tvalid_1's auc: 0.918661\n",
      "[2400]\ttraining's auc: 1\tvalid_1's auc: 0.918661\n",
      "[2600]\ttraining's auc: 1\tvalid_1's auc: 0.918542\n",
      "[2800]\ttraining's auc: 1\tvalid_1's auc: 0.91819\n",
      "Early stopping, best iteration is:\n",
      "[2411]\ttraining's auc: 1\tvalid_1's auc: 0.918777\n",
      "Fold 1 | AUC: 0.9186551265190323\n",
      "Training until validation scores don't improve for 500 rounds.\n",
      "[200]\ttraining's auc: 0.965663\tvalid_1's auc: 0.918479\n",
      "[400]\ttraining's auc: 0.990766\tvalid_1's auc: 0.935282\n",
      "[600]\ttraining's auc: 0.99708\tvalid_1's auc: 0.940372\n",
      "[800]\ttraining's auc: 0.998982\tvalid_1's auc: 0.942421\n",
      "[1000]\ttraining's auc: 0.999637\tvalid_1's auc: 0.943135\n",
      "[1200]\ttraining's auc: 0.999872\tvalid_1's auc: 0.943626\n",
      "[1400]\ttraining's auc: 0.999955\tvalid_1's auc: 0.943592\n",
      "[1600]\ttraining's auc: 0.999985\tvalid_1's auc: 0.943677\n",
      "[1800]\ttraining's auc: 0.999995\tvalid_1's auc: 0.943841\n",
      "[2000]\ttraining's auc: 0.999998\tvalid_1's auc: 0.943733\n",
      "[2200]\ttraining's auc: 0.999998\tvalid_1's auc: 0.94358\n",
      "Early stopping, best iteration is:\n",
      "[1772]\ttraining's auc: 0.999994\tvalid_1's auc: 0.943907\n",
      "Fold 2 | AUC: 0.9438901757889409\n",
      "Training until validation scores don't improve for 500 rounds.\n",
      "[200]\ttraining's auc: 0.963825\tvalid_1's auc: 0.915663\n",
      "[400]\ttraining's auc: 0.989672\tvalid_1's auc: 0.933488\n",
      "[600]\ttraining's auc: 0.996586\tvalid_1's auc: 0.939418\n",
      "[800]\ttraining's auc: 0.998727\tvalid_1's auc: 0.941895\n",
      "[1000]\ttraining's auc: 0.999495\tvalid_1's auc: 0.943165\n",
      "[1200]\ttraining's auc: 0.999811\tvalid_1's auc: 0.943802\n",
      "[1400]\ttraining's auc: 0.99993\tvalid_1's auc: 0.944541\n",
      "[1600]\ttraining's auc: 0.999975\tvalid_1's auc: 0.944936\n",
      "[1800]\ttraining's auc: 0.999991\tvalid_1's auc: 0.945196\n",
      "[2000]\ttraining's auc: 0.999998\tvalid_1's auc: 0.94514\n",
      "[2200]\ttraining's auc: 0.999999\tvalid_1's auc: 0.945407\n",
      "[2400]\ttraining's auc: 1\tvalid_1's auc: 0.945495\n",
      "[2600]\ttraining's auc: 1\tvalid_1's auc: 0.945754\n",
      "[2800]\ttraining's auc: 1\tvalid_1's auc: 0.945724\n",
      "[3000]\ttraining's auc: 1\tvalid_1's auc: 0.945696\n",
      "[3200]\ttraining's auc: 1\tvalid_1's auc: 0.94556\n",
      "[3400]\ttraining's auc: 1\tvalid_1's auc: 0.945531\n",
      "Early stopping, best iteration is:\n",
      "[2907]\ttraining's auc: 1\tvalid_1's auc: 0.945768\n",
      "Fold 3 | AUC: 0.9457374755694191\n",
      "Training until validation scores don't improve for 500 rounds.\n",
      "[200]\ttraining's auc: 0.964871\tvalid_1's auc: 0.915415\n",
      "[400]\ttraining's auc: 0.989389\tvalid_1's auc: 0.932023\n",
      "[600]\ttraining's auc: 0.996472\tvalid_1's auc: 0.938193\n",
      "[800]\ttraining's auc: 0.998684\tvalid_1's auc: 0.940279\n",
      "[1000]\ttraining's auc: 0.99951\tvalid_1's auc: 0.941267\n",
      "[1200]\ttraining's auc: 0.999816\tvalid_1's auc: 0.941938\n",
      "[1400]\ttraining's auc: 0.999932\tvalid_1's auc: 0.941988\n",
      "[1600]\ttraining's auc: 0.999978\tvalid_1's auc: 0.94202\n",
      "[1800]\ttraining's auc: 0.999993\tvalid_1's auc: 0.941843\n",
      "[2000]\ttraining's auc: 0.999998\tvalid_1's auc: 0.941766\n",
      "Early stopping, best iteration is:\n",
      "[1558]\ttraining's auc: 0.999972\tvalid_1's auc: 0.942191\n",
      "Fold 4 | AUC: 0.9421423271652403\n",
      "Training until validation scores don't improve for 500 rounds.\n",
      "[200]\ttraining's auc: 0.966933\tvalid_1's auc: 0.926269\n",
      "[400]\ttraining's auc: 0.991798\tvalid_1's auc: 0.942207\n",
      "[600]\ttraining's auc: 0.997596\tvalid_1's auc: 0.947088\n",
      "[800]\ttraining's auc: 0.999191\tvalid_1's auc: 0.948742\n",
      "[1000]\ttraining's auc: 0.999739\tvalid_1's auc: 0.949691\n",
      "[1200]\ttraining's auc: 0.999916\tvalid_1's auc: 0.949978\n",
      "[1400]\ttraining's auc: 0.999976\tvalid_1's auc: 0.950062\n",
      "[1600]\ttraining's auc: 0.999994\tvalid_1's auc: 0.95006\n",
      "[1800]\ttraining's auc: 0.999999\tvalid_1's auc: 0.950035\n",
      "Early stopping, best iteration is:\n",
      "[1319]\ttraining's auc: 0.999959\tvalid_1's auc: 0.950178\n",
      "Fold 5 | AUC: 0.9501658069894827\n",
      "\n",
      "Mean AUC = 0.9401181824064231\n",
      "Out of folds AUC = 0.9368114906895493\n"
     ]
    }
   ],
   "source": [
    "columns = X.columns\n",
    "splits = folds.split(X, y, groups=split_groups)\n",
    "y_preds = np.zeros(X_test.shape[0])\n",
    "y_oof = np.zeros(X.shape[0])\n",
    "score = 0\n",
    "\n",
    "feature_importances = pd.DataFrame()\n",
    "feature_importances['feature'] = columns\n",
    "  \n",
    "for fold_n, (train_index, valid_index) in enumerate(splits):\n",
    "    X_train, X_valid = X[columns].iloc[train_index], X[columns].iloc[valid_index]\n",
    "    y_train, y_valid = y.iloc[train_index], y.iloc[valid_index]\n",
    "    \n",
    "    dtrain = lgb.Dataset(X_train, label=y_train)\n",
    "    dvalid = lgb.Dataset(X_valid, label=y_valid)\n",
    "\n",
    "    clf = lgb.train(params, dtrain, 10000, valid_sets = [dtrain, dvalid], verbose_eval=200, early_stopping_rounds=500)\n",
    "    \n",
    "    feature_importances[f'fold_{fold_n + 1}'] = clf.feature_importance()\n",
    "    \n",
    "    y_pred_valid = clf.predict(X_valid)\n",
    "    y_oof[valid_index] = y_pred_valid\n",
    "    print(f\"Fold {fold_n + 1} | AUC: {roc_auc_score(y_valid, y_pred_valid)}\")\n",
    "    \n",
    "    score += roc_auc_score(y_valid, y_pred_valid) / NFOLDS\n",
    "    y_preds += clf.predict(X_test) / NFOLDS\n",
    "    \n",
    "    del X_train, X_valid, y_train, y_valid\n",
    "    gc.collect()\n",
    "    \n",
    "print(f\"\\nMean AUC = {score}\")\n",
    "print(f\"Out of folds AUC = {roc_auc_score(y, y_oof)}\")"
   ]
  },
  {
   "cell_type": "code",
   "execution_count": 32,
   "metadata": {},
   "outputs": [],
   "source": [
    "sub = pd.read_csv('sample_submission.csv')\n",
    "sub['isFraud'] = y_preds\n",
    "sub.to_csv(\"lgb_group.csv\", index=False) #0.9472"
   ]
  },
  {
   "cell_type": "code",
   "execution_count": 33,
   "metadata": {},
   "outputs": [],
   "source": [
    "from sklearn.model_selection import GroupKFold\n",
    "NFOLDS = 5\n",
    "folds = GroupKFold(n_splits=NFOLDS)\n",
    "\n",
    "## We need Divide Train Set by Time blocks\n",
    "## Convert TransactionDT to Months\n",
    "# Main Data\n",
    "train['groups'] = ''\n",
    "for col in ['card1','card2','card3','card5','addr1','addr2',]:\n",
    "    train['groups'] = '_' + train[col].astype(str)\n",
    "split_groups = train['groups']"
   ]
  },
  {
   "cell_type": "code",
   "execution_count": 34,
   "metadata": {},
   "outputs": [
    {
     "name": "stdout",
     "output_type": "stream",
     "text": [
      "Training until validation scores don't improve for 500 rounds.\n",
      "[200]\ttraining's auc: 0.985615\tvalid_1's auc: 0.696925\n",
      "[400]\ttraining's auc: 0.998088\tvalid_1's auc: 0.693199\n",
      "[600]\ttraining's auc: 0.999895\tvalid_1's auc: 0.688065\n",
      "Early stopping, best iteration is:\n",
      "[192]\ttraining's auc: 0.984733\tvalid_1's auc: 0.698358\n",
      "Fold 1 | AUC: 0.6983583512294759\n",
      "Training until validation scores don't improve for 500 rounds.\n",
      "[200]\ttraining's auc: 0.967338\tvalid_1's auc: 0.891433\n",
      "[400]\ttraining's auc: 0.992707\tvalid_1's auc: 0.894243\n",
      "[600]\ttraining's auc: 0.998273\tvalid_1's auc: 0.897631\n",
      "[800]\ttraining's auc: 0.999599\tvalid_1's auc: 0.900997\n",
      "[1000]\ttraining's auc: 0.999897\tvalid_1's auc: 0.903263\n",
      "[1200]\ttraining's auc: 0.999968\tvalid_1's auc: 0.903569\n",
      "[1400]\ttraining's auc: 0.999993\tvalid_1's auc: 0.90365\n",
      "[1600]\ttraining's auc: 0.999998\tvalid_1's auc: 0.90416\n",
      "[1800]\ttraining's auc: 1\tvalid_1's auc: 0.904409\n",
      "[2000]\ttraining's auc: 1\tvalid_1's auc: 0.904053\n",
      "[2200]\ttraining's auc: 1\tvalid_1's auc: 0.903807\n",
      "Early stopping, best iteration is:\n",
      "[1729]\ttraining's auc: 0.999999\tvalid_1's auc: 0.904879\n",
      "Fold 2 | AUC: 0.9048782940380045\n",
      "Training until validation scores don't improve for 500 rounds.\n",
      "[200]\ttraining's auc: 0.961006\tvalid_1's auc: 0.90761\n",
      "[400]\ttraining's auc: 0.98694\tvalid_1's auc: 0.912725\n",
      "[600]\ttraining's auc: 0.994902\tvalid_1's auc: 0.915457\n",
      "[800]\ttraining's auc: 0.997796\tvalid_1's auc: 0.916123\n",
      "[1000]\ttraining's auc: 0.998998\tvalid_1's auc: 0.917153\n",
      "[1200]\ttraining's auc: 0.999565\tvalid_1's auc: 0.917188\n",
      "[1400]\ttraining's auc: 0.999811\tvalid_1's auc: 0.916517\n",
      "Early stopping, best iteration is:\n",
      "[991]\ttraining's auc: 0.998962\tvalid_1's auc: 0.917191\n",
      "Fold 3 | AUC: 0.9171908841738062\n",
      "Training until validation scores don't improve for 500 rounds.\n",
      "[200]\ttraining's auc: 0.961222\tvalid_1's auc: 0.9807\n",
      "[400]\ttraining's auc: 0.986613\tvalid_1's auc: 0.983361\n",
      "[600]\ttraining's auc: 0.994708\tvalid_1's auc: 0.986185\n",
      "[800]\ttraining's auc: 0.997689\tvalid_1's auc: 0.987679\n",
      "[1000]\ttraining's auc: 0.99897\tvalid_1's auc: 0.987843\n",
      "[1200]\ttraining's auc: 0.999522\tvalid_1's auc: 0.988805\n",
      "[1400]\ttraining's auc: 0.999792\tvalid_1's auc: 0.988907\n",
      "[1600]\ttraining's auc: 0.999907\tvalid_1's auc: 0.98903\n",
      "[1800]\ttraining's auc: 0.999962\tvalid_1's auc: 0.989317\n",
      "[2000]\ttraining's auc: 0.999987\tvalid_1's auc: 0.989542\n",
      "[2200]\ttraining's auc: 0.999995\tvalid_1's auc: 0.989501\n",
      "[2400]\ttraining's auc: 0.999998\tvalid_1's auc: 0.989521\n",
      "[2600]\ttraining's auc: 0.999999\tvalid_1's auc: 0.98946\n",
      "[2800]\ttraining's auc: 1\tvalid_1's auc: 0.989358\n",
      "Early stopping, best iteration is:\n",
      "[2338]\ttraining's auc: 0.999998\tvalid_1's auc: 0.989746\n",
      "Fold 4 | AUC: 0.9897054910869609\n",
      "Training until validation scores don't improve for 500 rounds.\n",
      "[200]\ttraining's auc: 0.961112\tvalid_1's auc: 0.909396\n",
      "[400]\ttraining's auc: 0.98633\tvalid_1's auc: 0.925782\n",
      "[600]\ttraining's auc: 0.994503\tvalid_1's auc: 0.931525\n",
      "[800]\ttraining's auc: 0.997548\tvalid_1's auc: 0.933213\n",
      "[1000]\ttraining's auc: 0.998892\tvalid_1's auc: 0.936096\n",
      "[1200]\ttraining's auc: 0.9995\tvalid_1's auc: 0.937526\n",
      "[1400]\ttraining's auc: 0.999785\tvalid_1's auc: 0.939238\n",
      "[1600]\ttraining's auc: 0.999909\tvalid_1's auc: 0.939988\n",
      "[1800]\ttraining's auc: 0.999964\tvalid_1's auc: 0.940808\n",
      "[2000]\ttraining's auc: 0.999986\tvalid_1's auc: 0.941582\n",
      "[2200]\ttraining's auc: 0.999995\tvalid_1's auc: 0.942473\n",
      "[2400]\ttraining's auc: 0.999998\tvalid_1's auc: 0.942473\n",
      "[2600]\ttraining's auc: 0.999999\tvalid_1's auc: 0.943715\n",
      "[2800]\ttraining's auc: 1\tvalid_1's auc: 0.944418\n",
      "[3000]\ttraining's auc: 1\tvalid_1's auc: 0.944114\n",
      "[3200]\ttraining's auc: 1\tvalid_1's auc: 0.944629\n",
      "[3400]\ttraining's auc: 1\tvalid_1's auc: 0.944958\n",
      "[3600]\ttraining's auc: 1\tvalid_1's auc: 0.945661\n",
      "[3800]\ttraining's auc: 1\tvalid_1's auc: 0.946505\n",
      "[4000]\ttraining's auc: 1\tvalid_1's auc: 0.946575\n",
      "[4200]\ttraining's auc: 1\tvalid_1's auc: 0.946645\n",
      "[4400]\ttraining's auc: 1\tvalid_1's auc: 0.946481\n",
      "Early stopping, best iteration is:\n",
      "[3997]\ttraining's auc: 1\tvalid_1's auc: 0.946575\n",
      "Fold 5 | AUC: 0.9465750855642553\n",
      "\n",
      "Mean AUC = 0.8913416212185006\n",
      "Out of folds AUC = 0.7499967844105977\n"
     ]
    }
   ],
   "source": [
    "columns = X.columns\n",
    "splits = folds.split(X, y, groups=split_groups)\n",
    "y_preds = np.zeros(X_test.shape[0])\n",
    "y_oof = np.zeros(X.shape[0])\n",
    "score = 0\n",
    "\n",
    "feature_importances = pd.DataFrame()\n",
    "feature_importances['feature'] = columns\n",
    "  \n",
    "for fold_n, (train_index, valid_index) in enumerate(splits):\n",
    "    X_train, X_valid = X[columns].iloc[train_index], X[columns].iloc[valid_index]\n",
    "    y_train, y_valid = y.iloc[train_index], y.iloc[valid_index]\n",
    "    \n",
    "    dtrain = lgb.Dataset(X_train, label=y_train)\n",
    "    dvalid = lgb.Dataset(X_valid, label=y_valid)\n",
    "\n",
    "    clf = lgb.train(params, dtrain, 10000, valid_sets = [dtrain, dvalid], verbose_eval=200, early_stopping_rounds=500)\n",
    "    \n",
    "    feature_importances[f'fold_{fold_n + 1}'] = clf.feature_importance()\n",
    "    \n",
    "    y_pred_valid = clf.predict(X_valid)\n",
    "    y_oof[valid_index] = y_pred_valid\n",
    "    print(f\"Fold {fold_n + 1} | AUC: {roc_auc_score(y_valid, y_pred_valid)}\")\n",
    "    \n",
    "    score += roc_auc_score(y_valid, y_pred_valid) / NFOLDS\n",
    "    y_preds += clf.predict(X_test) / NFOLDS\n",
    "    \n",
    "    del X_train, X_valid, y_train, y_valid\n",
    "    gc.collect()\n",
    "    \n",
    "print(f\"\\nMean AUC = {score}\")\n",
    "print(f\"Out of folds AUC = {roc_auc_score(y, y_oof)}\")"
   ]
  },
  {
   "cell_type": "code",
   "execution_count": 35,
   "metadata": {},
   "outputs": [],
   "source": [
    "sub = pd.read_csv('sample_submission.csv')\n",
    "sub['isFraud'] = y_preds\n",
    "sub.to_csv(\"lgb_group2.csv\", index=False) #0.9404"
   ]
  },
  {
   "cell_type": "code",
   "execution_count": null,
   "metadata": {},
   "outputs": [],
   "source": []
  }
 ],
 "metadata": {
  "kernelspec": {
   "display_name": "Python 3",
   "language": "python",
   "name": "python3"
  },
  "language_info": {
   "codemirror_mode": {
    "name": "ipython",
    "version": 3
   },
   "file_extension": ".py",
   "mimetype": "text/x-python",
   "name": "python",
   "nbconvert_exporter": "python",
   "pygments_lexer": "ipython3",
   "version": "3.6.0"
  }
 },
 "nbformat": 4,
 "nbformat_minor": 2
}
