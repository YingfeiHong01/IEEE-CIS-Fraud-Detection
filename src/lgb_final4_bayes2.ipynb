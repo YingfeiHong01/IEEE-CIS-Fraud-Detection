{
 "cells": [
  {
   "cell_type": "code",
   "execution_count": 1,
   "metadata": {},
   "outputs": [
    {
     "name": "stderr",
     "output_type": "stream",
     "text": [
      "/Users/shuozhang/anaconda/envs/py3k/lib/python3.6/site-packages/lightgbm/__init__.py:46: UserWarning: Starting from version 2.2.1, the library file in distribution wheels for macOS is built by the Apple Clang (Xcode_9.4.1) compiler.\n",
      "This means that in case of installing LightGBM from PyPI via the ``pip install lightgbm`` command, you don't need to install the gcc compiler anymore.\n",
      "Instead of that, you need to install the OpenMP library, which is required for running LightGBM on the system with the Apple Clang compiler.\n",
      "You can install the OpenMP library by the following command: ``brew install libomp``.\n",
      "  \"You can install the OpenMP library by the following command: ``brew install libomp``.\", UserWarning)\n"
     ]
    }
   ],
   "source": [
    "import pandas as pd\n",
    "import numpy as np\n",
    "import warnings\n",
    "import matplotlib.pyplot as plt\n",
    "import seaborn as sns\n",
    "import lightgbm as lgb\n",
    "import gc\n",
    "from time import time\n",
    "import datetime\n",
    "from sklearn.preprocessing import LabelEncoder\n",
    "from sklearn.model_selection import KFold, TimeSeriesSplit\n",
    "from sklearn.metrics import roc_auc_score\n",
    "warnings.simplefilter('ignore')\n",
    "sns.set()\n",
    "%matplotlib inline\n",
    "import os, sys, gc, warnings, random, datetime"
   ]
  },
  {
   "cell_type": "code",
   "execution_count": 2,
   "metadata": {},
   "outputs": [],
   "source": [
    "train=pd.read_csv('train_final4.csv')\n",
    "test=pd.read_csv('test_final4.csv')"
   ]
  },
  {
   "cell_type": "code",
   "execution_count": 3,
   "metadata": {},
   "outputs": [
    {
     "data": {
      "text/plain": [
       "DT                 object\n",
       "addr1_card1        object\n",
       "card2_and_count    object\n",
       "dtype: object"
      ]
     },
     "execution_count": 3,
     "metadata": {},
     "output_type": "execute_result"
    }
   ],
   "source": [
    "obj_cols = train.dtypes\n",
    "obj_cols[obj_cols=='object']"
   ]
  },
  {
   "cell_type": "code",
   "execution_count": 4,
   "metadata": {},
   "outputs": [],
   "source": [
    "train['card2_and_count']=pd.to_numeric(train['card2_and_count'],errors='coerce')\n",
    "train['addr1_card1']=pd.to_numeric(train['addr1_card1'],errors='coerce')"
   ]
  },
  {
   "cell_type": "code",
   "execution_count": 5,
   "metadata": {},
   "outputs": [],
   "source": [
    "test['card2_and_count']=pd.to_numeric(test['card2_and_count'],errors='coerce')\n",
    "test['addr1_card1']=pd.to_numeric(test['addr1_card1'],errors='coerce')"
   ]
  },
  {
   "cell_type": "code",
   "execution_count": 6,
   "metadata": {},
   "outputs": [],
   "source": [
    "split_groups = train['DT_M']"
   ]
  },
  {
   "cell_type": "code",
   "execution_count": 7,
   "metadata": {},
   "outputs": [],
   "source": [
    "X= train.drop(['TransactionDT','TransactionID','uid','uid2','bank_type',\n",
    "               'isFraud','DT','DT_M','DT_W','DT_D','DT_hour','DT_day_week','DT_day_month'], axis=1)\n",
    "y = train['isFraud']"
   ]
  },
  {
   "cell_type": "code",
   "execution_count": 8,
   "metadata": {},
   "outputs": [
    {
     "data": {
      "text/plain": [
       "(590540, 949)"
      ]
     },
     "execution_count": 8,
     "metadata": {},
     "output_type": "execute_result"
    }
   ],
   "source": [
    "X.shape"
   ]
  },
  {
   "cell_type": "code",
   "execution_count": 9,
   "metadata": {},
   "outputs": [],
   "source": [
    "X_test = test.drop(['TransactionDT','TransactionID','uid','uid2','bank_type',\n",
    "                    'isFraud','DT','DT_M','DT_W','DT_D','DT_hour','DT_day_week','DT_day_month'], axis=1)"
   ]
  },
  {
   "cell_type": "code",
   "execution_count": 10,
   "metadata": {},
   "outputs": [
    {
     "data": {
      "text/plain": [
       "(506691, 949)"
      ]
     },
     "execution_count": 10,
     "metadata": {},
     "output_type": "execute_result"
    }
   ],
   "source": [
    "X_test.shape"
   ]
  },
  {
   "cell_type": "code",
   "execution_count": 11,
   "metadata": {},
   "outputs": [
    {
     "data": {
      "text/plain": [
       "7"
      ]
     },
     "execution_count": 11,
     "metadata": {},
     "output_type": "execute_result"
    }
   ],
   "source": [
    "del train, test\n",
    "gc.collect()"
   ]
  },
  {
   "cell_type": "code",
   "execution_count": 12,
   "metadata": {},
   "outputs": [],
   "source": [
    "from sklearn.model_selection import GroupKFold\n",
    "NFOLDS = 5\n",
    "folds = GroupKFold(n_splits=NFOLDS)\n",
    "splits = folds.split(X, y, groups=split_groups)"
   ]
  },
  {
   "cell_type": "code",
   "execution_count": 13,
   "metadata": {},
   "outputs": [],
   "source": [
    "for fold_n, (train_index, valid_index) in enumerate(splits):\n",
    "    train_index_df=pd.DataFrame(train_index,columns=['train_index'])\n",
    "    valid_index_df=pd.DataFrame(valid_index,columns=['valid_index'])\n",
    "    del train_index, valid_index\n",
    "    gc.collect()"
   ]
  },
  {
   "cell_type": "code",
   "execution_count": 14,
   "metadata": {},
   "outputs": [
    {
     "data": {
      "text/plain": [
       "(420864, 1)"
      ]
     },
     "execution_count": 14,
     "metadata": {},
     "output_type": "execute_result"
    }
   ],
   "source": [
    "train_index_df.shape"
   ]
  },
  {
   "cell_type": "code",
   "execution_count": 15,
   "metadata": {},
   "outputs": [
    {
     "data": {
      "text/plain": [
       "(169676, 1)"
      ]
     },
     "execution_count": 15,
     "metadata": {},
     "output_type": "execute_result"
    }
   ],
   "source": [
    "valid_index_df.shape"
   ]
  },
  {
   "cell_type": "code",
   "execution_count": 16,
   "metadata": {},
   "outputs": [],
   "source": [
    "from bayes_opt import BayesianOptimization"
   ]
  },
  {
   "cell_type": "code",
   "execution_count": 17,
   "metadata": {},
   "outputs": [],
   "source": [
    "train_index=train_index_df['train_index']\n",
    "valid_index=valid_index_df['valid_index']"
   ]
  },
  {
   "cell_type": "code",
   "execution_count": 18,
   "metadata": {},
   "outputs": [],
   "source": [
    "X_train, X_valid = X.iloc[train_index], X.iloc[valid_index]\n",
    "y_train, y_valid = y.iloc[train_index], y.iloc[valid_index]"
   ]
  },
  {
   "cell_type": "code",
   "execution_count": 19,
   "metadata": {},
   "outputs": [
    {
     "data": {
      "text/plain": [
       "(420864, 949)"
      ]
     },
     "execution_count": 19,
     "metadata": {},
     "output_type": "execute_result"
    }
   ],
   "source": [
    "X_train.shape"
   ]
  },
  {
   "cell_type": "code",
   "execution_count": 20,
   "metadata": {},
   "outputs": [
    {
     "data": {
      "text/plain": [
       "(169676, 949)"
      ]
     },
     "execution_count": 20,
     "metadata": {},
     "output_type": "execute_result"
    }
   ],
   "source": [
    "X_valid.shape"
   ]
  },
  {
   "cell_type": "code",
   "execution_count": 21,
   "metadata": {},
   "outputs": [
    {
     "data": {
      "text/plain": [
       "(420864,)"
      ]
     },
     "execution_count": 21,
     "metadata": {},
     "output_type": "execute_result"
    }
   ],
   "source": [
    "y_train.shape"
   ]
  },
  {
   "cell_type": "code",
   "execution_count": 22,
   "metadata": {},
   "outputs": [
    {
     "data": {
      "text/plain": [
       "(169676,)"
      ]
     },
     "execution_count": 22,
     "metadata": {},
     "output_type": "execute_result"
    }
   ],
   "source": [
    "y_valid.shape"
   ]
  },
  {
   "cell_type": "code",
   "execution_count": 23,
   "metadata": {},
   "outputs": [],
   "source": [
    "def LGB_bayesian(\n",
    "    num_leaves, \n",
    "    bagging_fraction,\n",
    "    feature_fraction,\n",
    "    min_child_weight,\n",
    "    min_data_in_leaf,\n",
    "    max_depth,\n",
    "    reg_alpha,\n",
    "    reg_lambda\n",
    "     ):\n",
    "    \n",
    "    # LightGBM expects next three parameters need to be integer. \n",
    "    num_leaves = int(num_leaves)\n",
    "    min_data_in_leaf = int(min_data_in_leaf)\n",
    "    max_depth = int(max_depth)\n",
    "\n",
    "    assert type(num_leaves) == int\n",
    "    assert type(min_data_in_leaf) == int\n",
    "    assert type(max_depth) == int\n",
    "    y_oof = np.zeros(X_valid.shape[0])\n",
    "\n",
    "    param = {\n",
    "              'num_leaves': num_leaves, \n",
    "              'min_data_in_leaf': min_data_in_leaf,\n",
    "              'min_child_weight': min_child_weight,\n",
    "              'bagging_fraction' : bagging_fraction,\n",
    "              'feature_fraction' : feature_fraction,\n",
    "              'max_depth': max_depth,\n",
    "              'reg_alpha': reg_alpha,\n",
    "              'reg_lambda': reg_lambda,\n",
    "              'objective': 'binary',\n",
    "              'max_bin':255,\n",
    "              'random_state': 47,\n",
    "              'learning_rate': 0.005,\n",
    "              'boosting_type': 'gbdt',\n",
    "              'bagging_seed': 11,\n",
    "              'tree_learner':'serial',\n",
    "              'verbosity': -1,\n",
    "              'metric':'auc'}    \n",
    "    \n",
    "    trn_data= lgb.Dataset(X_train, label=y_train)\n",
    "    val_data= lgb.Dataset(X_valid, label=y_valid)\n",
    "\n",
    "    clf = lgb.train(param, trn_data,  num_boost_round=10000, valid_sets = [trn_data, val_data], verbose_eval=200, early_stopping_rounds = 500)\n",
    "    \n",
    "    y_oof = clf.predict(X_valid, num_iteration=clf.best_iteration)  \n",
    "    \n",
    "    score = roc_auc_score(y_valid, y_oof)\n",
    "\n",
    "    return score"
   ]
  },
  {
   "cell_type": "code",
   "execution_count": 24,
   "metadata": {},
   "outputs": [],
   "source": [
    "bounds_LGB = {\n",
    "    'num_leaves': (400, 600), \n",
    "    'min_data_in_leaf': (50,150),\n",
    "    'bagging_fraction' : (0.2,0.9),\n",
    "    'feature_fraction' : (0.2,0.9),\n",
    "    'min_child_weight': (0.01, 0.1),   \n",
    "    'reg_alpha': (0.3, 1), \n",
    "    'reg_lambda': (0.3, 1),\n",
    "    'max_depth':(-1,15),\n",
    "}"
   ]
  },
  {
   "cell_type": "code",
   "execution_count": 25,
   "metadata": {},
   "outputs": [],
   "source": [
    "LGB_BO = BayesianOptimization(LGB_bayesian, bounds_LGB)"
   ]
  },
  {
   "cell_type": "code",
   "execution_count": 26,
   "metadata": {},
   "outputs": [
    {
     "name": "stdout",
     "output_type": "stream",
     "text": [
      "['bagging_fraction', 'feature_fraction', 'max_depth', 'min_child_weight', 'min_data_in_leaf', 'num_leaves', 'reg_alpha', 'reg_lambda']\n"
     ]
    }
   ],
   "source": [
    "print(LGB_BO.space.keys)"
   ]
  },
  {
   "cell_type": "code",
   "execution_count": 27,
   "metadata": {},
   "outputs": [],
   "source": [
    "init_points = 3\n",
    "n_iter = 7"
   ]
  },
  {
   "cell_type": "code",
   "execution_count": 28,
   "metadata": {},
   "outputs": [
    {
     "name": "stdout",
     "output_type": "stream",
     "text": [
      "----------------------------------------------------------------------------------------------------------------------------------\n",
      "|   iter    |  target   | baggin... | featur... | max_depth | min_ch... | min_da... | num_le... | reg_alpha | reg_la... |\n",
      "-------------------------------------------------------------------------------------------------------------------------\n",
      "Training until validation scores don't improve for 500 rounds.\n",
      "[200]\ttraining's auc: 0.841783\tvalid_1's auc: 0.840504\n",
      "[400]\ttraining's auc: 0.855992\tvalid_1's auc: 0.852107\n",
      "[600]\ttraining's auc: 0.865845\tvalid_1's auc: 0.861359\n",
      "[800]\ttraining's auc: 0.871227\tvalid_1's auc: 0.866249\n",
      "[1000]\ttraining's auc: 0.875966\tvalid_1's auc: 0.870349\n",
      "[1200]\ttraining's auc: 0.879877\tvalid_1's auc: 0.873236\n",
      "[1400]\ttraining's auc: 0.883114\tvalid_1's auc: 0.875976\n",
      "[1600]\ttraining's auc: 0.885906\tvalid_1's auc: 0.878871\n",
      "[1800]\ttraining's auc: 0.888163\tvalid_1's auc: 0.880928\n",
      "[2000]\ttraining's auc: 0.890111\tvalid_1's auc: 0.882465\n",
      "[2200]\ttraining's auc: 0.891822\tvalid_1's auc: 0.883788\n",
      "[2400]\ttraining's auc: 0.893467\tvalid_1's auc: 0.885019\n",
      "[2600]\ttraining's auc: 0.894949\tvalid_1's auc: 0.886037\n",
      "[2800]\ttraining's auc: 0.89633\tvalid_1's auc: 0.887029\n",
      "[3000]\ttraining's auc: 0.897625\tvalid_1's auc: 0.888058\n",
      "[3200]\ttraining's auc: 0.89882\tvalid_1's auc: 0.88901\n",
      "[3400]\ttraining's auc: 0.899894\tvalid_1's auc: 0.889916\n",
      "[3600]\ttraining's auc: 0.900912\tvalid_1's auc: 0.890683\n",
      "[3800]\ttraining's auc: 0.901857\tvalid_1's auc: 0.891425\n",
      "[4000]\ttraining's auc: 0.902735\tvalid_1's auc: 0.89208\n",
      "[4200]\ttraining's auc: 0.903558\tvalid_1's auc: 0.892674\n",
      "[4400]\ttraining's auc: 0.904325\tvalid_1's auc: 0.893282\n",
      "[4600]\ttraining's auc: 0.905111\tvalid_1's auc: 0.893826\n",
      "[4800]\ttraining's auc: 0.905841\tvalid_1's auc: 0.894345\n",
      "[5000]\ttraining's auc: 0.906561\tvalid_1's auc: 0.894854\n",
      "[5200]\ttraining's auc: 0.907252\tvalid_1's auc: 0.89533\n",
      "[5400]\ttraining's auc: 0.907929\tvalid_1's auc: 0.895783\n",
      "[5600]\ttraining's auc: 0.908592\tvalid_1's auc: 0.89625\n",
      "[5800]\ttraining's auc: 0.909243\tvalid_1's auc: 0.896685\n",
      "[6000]\ttraining's auc: 0.909884\tvalid_1's auc: 0.897084\n",
      "[6200]\ttraining's auc: 0.910507\tvalid_1's auc: 0.897482\n",
      "[6400]\ttraining's auc: 0.911107\tvalid_1's auc: 0.897898\n",
      "[6600]\ttraining's auc: 0.911685\tvalid_1's auc: 0.898311\n",
      "[6800]\ttraining's auc: 0.912279\tvalid_1's auc: 0.898698\n",
      "[7000]\ttraining's auc: 0.912854\tvalid_1's auc: 0.89908\n",
      "[7200]\ttraining's auc: 0.913407\tvalid_1's auc: 0.899452\n",
      "[7400]\ttraining's auc: 0.913976\tvalid_1's auc: 0.899818\n",
      "[7600]\ttraining's auc: 0.914483\tvalid_1's auc: 0.900139\n",
      "[7800]\ttraining's auc: 0.914987\tvalid_1's auc: 0.900447\n",
      "[8000]\ttraining's auc: 0.915463\tvalid_1's auc: 0.900788\n",
      "[8200]\ttraining's auc: 0.91593\tvalid_1's auc: 0.901101\n",
      "[8400]\ttraining's auc: 0.916347\tvalid_1's auc: 0.901358\n",
      "[8600]\ttraining's auc: 0.916796\tvalid_1's auc: 0.901687\n",
      "[8800]\ttraining's auc: 0.917223\tvalid_1's auc: 0.901983\n",
      "[9000]\ttraining's auc: 0.917664\tvalid_1's auc: 0.902295\n",
      "[9200]\ttraining's auc: 0.918082\tvalid_1's auc: 0.902613\n",
      "[9400]\ttraining's auc: 0.918523\tvalid_1's auc: 0.902952\n",
      "[9600]\ttraining's auc: 0.918944\tvalid_1's auc: 0.903273\n",
      "[9800]\ttraining's auc: 0.919334\tvalid_1's auc: 0.903565\n",
      "[10000]\ttraining's auc: 0.919726\tvalid_1's auc: 0.903852\n",
      "Did not meet early stopping. Best iteration is:\n",
      "[10000]\ttraining's auc: 0.919726\tvalid_1's auc: 0.903852\n",
      "| \u001b[0m 1       \u001b[0m | \u001b[0m 0.9039  \u001b[0m | \u001b[0m 0.3987  \u001b[0m | \u001b[0m 0.8871  \u001b[0m | \u001b[0m 2.489   \u001b[0m | \u001b[0m 0.0712  \u001b[0m | \u001b[0m 64.56   \u001b[0m | \u001b[0m 561.8   \u001b[0m | \u001b[0m 0.6039  \u001b[0m | \u001b[0m 0.6199  \u001b[0m |\n",
      "Training until validation scores don't improve for 500 rounds.\n",
      "[200]\ttraining's auc: 0.935428\tvalid_1's auc: 0.908281\n",
      "[400]\ttraining's auc: 0.964159\tvalid_1's auc: 0.92639\n",
      "[600]\ttraining's auc: 0.976486\tvalid_1's auc: 0.934913\n",
      "[800]\ttraining's auc: 0.982095\tvalid_1's auc: 0.93861\n",
      "[1000]\ttraining's auc: 0.985367\tvalid_1's auc: 0.940816\n",
      "[1200]\ttraining's auc: 0.987977\tvalid_1's auc: 0.942089\n",
      "[1400]\ttraining's auc: 0.99024\tvalid_1's auc: 0.94321\n",
      "[1600]\ttraining's auc: 0.991848\tvalid_1's auc: 0.944171\n",
      "[1800]\ttraining's auc: 0.993158\tvalid_1's auc: 0.944778\n",
      "[2000]\ttraining's auc: 0.994345\tvalid_1's auc: 0.94524\n",
      "[2200]\ttraining's auc: 0.995614\tvalid_1's auc: 0.945689\n",
      "[2400]\ttraining's auc: 0.996382\tvalid_1's auc: 0.945833\n",
      "[2600]\ttraining's auc: 0.997332\tvalid_1's auc: 0.946035\n",
      "[2800]\ttraining's auc: 0.997874\tvalid_1's auc: 0.946113\n",
      "[3000]\ttraining's auc: 0.998232\tvalid_1's auc: 0.945922\n",
      "[3200]\ttraining's auc: 0.998548\tvalid_1's auc: 0.94578\n",
      "Early stopping, best iteration is:\n",
      "[2761]\ttraining's auc: 0.997789\tvalid_1's auc: 0.946127\n",
      "| \u001b[95m 2       \u001b[0m | \u001b[95m 0.9461  \u001b[0m | \u001b[95m 0.4631  \u001b[0m | \u001b[95m 0.8312  \u001b[0m | \u001b[95m 10.5    \u001b[0m | \u001b[95m 0.01856 \u001b[0m | \u001b[95m 63.62   \u001b[0m | \u001b[95m 591.6   \u001b[0m | \u001b[95m 0.3223  \u001b[0m | \u001b[95m 0.9596  \u001b[0m |\n",
      "Training until validation scores don't improve for 500 rounds.\n",
      "[200]\ttraining's auc: 0.880812\tvalid_1's auc: 0.872126\n",
      "[400]\ttraining's auc: 0.900766\tvalid_1's auc: 0.888118\n",
      "[600]\ttraining's auc: 0.910298\tvalid_1's auc: 0.896719\n",
      "[800]\ttraining's auc: 0.916969\tvalid_1's auc: 0.901925\n",
      "[1000]\ttraining's auc: 0.922382\tvalid_1's auc: 0.905331\n",
      "[1200]\ttraining's auc: 0.926342\tvalid_1's auc: 0.907929\n",
      "[1400]\ttraining's auc: 0.929795\tvalid_1's auc: 0.910299\n",
      "[1600]\ttraining's auc: 0.932687\tvalid_1's auc: 0.912144\n",
      "[1800]\ttraining's auc: 0.935572\tvalid_1's auc: 0.914035\n",
      "[2000]\ttraining's auc: 0.937926\tvalid_1's auc: 0.91558\n",
      "[2200]\ttraining's auc: 0.940238\tvalid_1's auc: 0.917065\n",
      "[2400]\ttraining's auc: 0.942454\tvalid_1's auc: 0.918407\n",
      "[2600]\ttraining's auc: 0.944381\tvalid_1's auc: 0.919498\n",
      "[2800]\ttraining's auc: 0.946312\tvalid_1's auc: 0.920694\n",
      "[3000]\ttraining's auc: 0.948005\tvalid_1's auc: 0.921701\n",
      "[3200]\ttraining's auc: 0.949627\tvalid_1's auc: 0.922549\n",
      "[3400]\ttraining's auc: 0.951135\tvalid_1's auc: 0.923307\n",
      "[3600]\ttraining's auc: 0.952411\tvalid_1's auc: 0.923998\n",
      "[3800]\ttraining's auc: 0.953791\tvalid_1's auc: 0.924704\n",
      "[4000]\ttraining's auc: 0.955036\tvalid_1's auc: 0.925301\n",
      "[4200]\ttraining's auc: 0.956346\tvalid_1's auc: 0.926021\n",
      "[4400]\ttraining's auc: 0.957614\tvalid_1's auc: 0.926639\n",
      "[4600]\ttraining's auc: 0.958887\tvalid_1's auc: 0.927271\n",
      "[4800]\ttraining's auc: 0.960009\tvalid_1's auc: 0.927821\n",
      "[5000]\ttraining's auc: 0.961218\tvalid_1's auc: 0.928366\n",
      "[5200]\ttraining's auc: 0.962307\tvalid_1's auc: 0.928904\n",
      "[5400]\ttraining's auc: 0.963326\tvalid_1's auc: 0.929318\n",
      "[5600]\ttraining's auc: 0.964364\tvalid_1's auc: 0.929747\n",
      "[5800]\ttraining's auc: 0.965385\tvalid_1's auc: 0.930226\n",
      "[6000]\ttraining's auc: 0.966368\tvalid_1's auc: 0.930627\n",
      "[6200]\ttraining's auc: 0.967343\tvalid_1's auc: 0.931059\n",
      "[6400]\ttraining's auc: 0.968241\tvalid_1's auc: 0.931487\n",
      "[6600]\ttraining's auc: 0.969036\tvalid_1's auc: 0.931768\n",
      "[6800]\ttraining's auc: 0.970024\tvalid_1's auc: 0.932224\n",
      "[7000]\ttraining's auc: 0.971012\tvalid_1's auc: 0.932731\n",
      "[7200]\ttraining's auc: 0.971805\tvalid_1's auc: 0.933127\n",
      "[7400]\ttraining's auc: 0.972503\tvalid_1's auc: 0.933444\n",
      "[7600]\ttraining's auc: 0.973209\tvalid_1's auc: 0.933754\n",
      "[7800]\ttraining's auc: 0.973915\tvalid_1's auc: 0.934021\n",
      "[8000]\ttraining's auc: 0.974678\tvalid_1's auc: 0.934375\n",
      "[8200]\ttraining's auc: 0.975386\tvalid_1's auc: 0.934711\n",
      "[8400]\ttraining's auc: 0.97603\tvalid_1's auc: 0.934962\n",
      "[8600]\ttraining's auc: 0.976697\tvalid_1's auc: 0.935301\n",
      "[8800]\ttraining's auc: 0.97729\tvalid_1's auc: 0.9355\n",
      "[9000]\ttraining's auc: 0.977825\tvalid_1's auc: 0.935633\n",
      "[9200]\ttraining's auc: 0.978401\tvalid_1's auc: 0.935849\n",
      "[9400]\ttraining's auc: 0.978956\tvalid_1's auc: 0.93611\n",
      "[9600]\ttraining's auc: 0.979535\tvalid_1's auc: 0.93633\n",
      "[9800]\ttraining's auc: 0.980097\tvalid_1's auc: 0.936625\n",
      "[10000]\ttraining's auc: 0.98064\tvalid_1's auc: 0.936823\n",
      "Did not meet early stopping. Best iteration is:\n",
      "[10000]\ttraining's auc: 0.98064\tvalid_1's auc: 0.936823\n",
      "| \u001b[0m 3       \u001b[0m | \u001b[0m 0.9368  \u001b[0m | \u001b[0m 0.7368  \u001b[0m | \u001b[0m 0.5707  \u001b[0m | \u001b[0m 5.649   \u001b[0m | \u001b[0m 0.03266 \u001b[0m | \u001b[0m 114.8   \u001b[0m | \u001b[0m 425.5   \u001b[0m | \u001b[0m 0.3496  \u001b[0m | \u001b[0m 0.8387  \u001b[0m |\n",
      "Training until validation scores don't improve for 500 rounds.\n",
      "[200]\ttraining's auc: 0.973917\tvalid_1's auc: 0.930851\n",
      "[400]\ttraining's auc: 0.987093\tvalid_1's auc: 0.939779\n",
      "[600]\ttraining's auc: 0.994625\tvalid_1's auc: 0.945856\n",
      "[800]\ttraining's auc: 0.998028\tvalid_1's auc: 0.949485\n"
     ]
    },
    {
     "name": "stdout",
     "output_type": "stream",
     "text": [
      "[1000]\ttraining's auc: 0.999353\tvalid_1's auc: 0.951526\n",
      "[1200]\ttraining's auc: 0.999803\tvalid_1's auc: 0.95249\n",
      "[1400]\ttraining's auc: 0.999943\tvalid_1's auc: 0.953092\n",
      "[1600]\ttraining's auc: 0.999985\tvalid_1's auc: 0.953415\n",
      "[1800]\ttraining's auc: 0.999996\tvalid_1's auc: 0.953624\n",
      "[2000]\ttraining's auc: 0.999999\tvalid_1's auc: 0.953703\n",
      "[2200]\ttraining's auc: 1\tvalid_1's auc: 0.953774\n",
      "[2400]\ttraining's auc: 1\tvalid_1's auc: 0.953772\n",
      "[2600]\ttraining's auc: 1\tvalid_1's auc: 0.953786\n",
      "[2800]\ttraining's auc: 1\tvalid_1's auc: 0.953749\n",
      "Early stopping, best iteration is:\n",
      "[2342]\ttraining's auc: 1\tvalid_1's auc: 0.953814\n",
      "| \u001b[95m 4       \u001b[0m | \u001b[95m 0.9538  \u001b[0m | \u001b[95m 0.9     \u001b[0m | \u001b[95m 0.2     \u001b[0m | \u001b[95m-1.0     \u001b[0m | \u001b[95m 0.1     \u001b[0m | \u001b[95m 150.0   \u001b[0m | \u001b[95m 600.0   \u001b[0m | \u001b[95m 1.0     \u001b[0m | \u001b[95m 0.3     \u001b[0m |\n",
      "Training until validation scores don't improve for 500 rounds.\n",
      "[200]\ttraining's auc: 0.956608\tvalid_1's auc: 0.923588\n",
      "[400]\ttraining's auc: 0.975793\tvalid_1's auc: 0.935381\n",
      "[600]\ttraining's auc: 0.987179\tvalid_1's auc: 0.942708\n",
      "[800]\ttraining's auc: 0.992787\tvalid_1's auc: 0.946898\n",
      "[1000]\ttraining's auc: 0.995828\tvalid_1's auc: 0.949234\n",
      "[1200]\ttraining's auc: 0.997509\tvalid_1's auc: 0.950592\n",
      "[1400]\ttraining's auc: 0.998483\tvalid_1's auc: 0.95134\n",
      "[1600]\ttraining's auc: 0.999081\tvalid_1's auc: 0.951636\n",
      "[1800]\ttraining's auc: 0.999423\tvalid_1's auc: 0.951789\n",
      "[2000]\ttraining's auc: 0.999642\tvalid_1's auc: 0.951864\n",
      "[2200]\ttraining's auc: 0.999779\tvalid_1's auc: 0.951921\n",
      "[2400]\ttraining's auc: 0.999868\tvalid_1's auc: 0.951868\n",
      "[2600]\ttraining's auc: 0.999921\tvalid_1's auc: 0.951862\n",
      "Early stopping, best iteration is:\n",
      "[2263]\ttraining's auc: 0.999812\tvalid_1's auc: 0.951949\n",
      "| \u001b[0m 5       \u001b[0m | \u001b[0m 0.952   \u001b[0m | \u001b[0m 0.9     \u001b[0m | \u001b[0m 0.2     \u001b[0m | \u001b[0m 15.0    \u001b[0m | \u001b[0m 0.01    \u001b[0m | \u001b[0m 50.0    \u001b[0m | \u001b[0m 400.0   \u001b[0m | \u001b[0m 1.0     \u001b[0m | \u001b[0m 1.0     \u001b[0m |\n",
      "Training until validation scores don't improve for 500 rounds.\n",
      "[200]\ttraining's auc: 0.957935\tvalid_1's auc: 0.921173\n",
      "[400]\ttraining's auc: 0.978185\tvalid_1's auc: 0.934086\n",
      "[600]\ttraining's auc: 0.98894\tvalid_1's auc: 0.941885\n",
      "[800]\ttraining's auc: 0.993509\tvalid_1's auc: 0.946026\n",
      "[1000]\ttraining's auc: 0.995587\tvalid_1's auc: 0.947923\n",
      "[1200]\ttraining's auc: 0.997053\tvalid_1's auc: 0.948866\n",
      "[1400]\ttraining's auc: 0.998032\tvalid_1's auc: 0.949455\n",
      "[1600]\ttraining's auc: 0.998748\tvalid_1's auc: 0.949834\n",
      "[1800]\ttraining's auc: 0.999228\tvalid_1's auc: 0.950162\n",
      "[2000]\ttraining's auc: 0.999503\tvalid_1's auc: 0.95013\n",
      "[2200]\ttraining's auc: 0.999685\tvalid_1's auc: 0.949984\n",
      "Early stopping, best iteration is:\n",
      "[1881]\ttraining's auc: 0.999353\tvalid_1's auc: 0.950182\n",
      "| \u001b[0m 6       \u001b[0m | \u001b[0m 0.9502  \u001b[0m | \u001b[0m 0.2     \u001b[0m | \u001b[0m 0.9     \u001b[0m | \u001b[0m 15.0    \u001b[0m | \u001b[0m 0.1     \u001b[0m | \u001b[0m 150.0   \u001b[0m | \u001b[0m 400.0   \u001b[0m | \u001b[0m 1.0     \u001b[0m | \u001b[0m 1.0     \u001b[0m |\n",
      "Training until validation scores don't improve for 500 rounds.\n",
      "[200]\ttraining's auc: 0.967705\tvalid_1's auc: 0.929117\n",
      "[400]\ttraining's auc: 0.985162\tvalid_1's auc: 0.939707\n",
      "[600]\ttraining's auc: 0.993244\tvalid_1's auc: 0.945675\n",
      "[800]\ttraining's auc: 0.996486\tvalid_1's auc: 0.949168\n",
      "[1000]\ttraining's auc: 0.998019\tvalid_1's auc: 0.95103\n",
      "[1200]\ttraining's auc: 0.998761\tvalid_1's auc: 0.952004\n",
      "[1400]\ttraining's auc: 0.999204\tvalid_1's auc: 0.952316\n",
      "[1600]\ttraining's auc: 0.999469\tvalid_1's auc: 0.952535\n",
      "[1800]\ttraining's auc: 0.999655\tvalid_1's auc: 0.952519\n",
      "[2000]\ttraining's auc: 0.999771\tvalid_1's auc: 0.952405\n",
      "Early stopping, best iteration is:\n",
      "[1682]\ttraining's auc: 0.999555\tvalid_1's auc: 0.952579\n",
      "| \u001b[0m 7       \u001b[0m | \u001b[0m 0.9526  \u001b[0m | \u001b[0m 0.9     \u001b[0m | \u001b[0m 0.2     \u001b[0m | \u001b[0m 15.0    \u001b[0m | \u001b[0m 0.01    \u001b[0m | \u001b[0m 150.0   \u001b[0m | \u001b[0m 583.7   \u001b[0m | \u001b[0m 0.3     \u001b[0m | \u001b[0m 0.3     \u001b[0m |\n",
      "Training until validation scores don't improve for 500 rounds.\n",
      "[200]\ttraining's auc: 0.96546\tvalid_1's auc: 0.927646\n",
      "[400]\ttraining's auc: 0.984523\tvalid_1's auc: 0.938797\n",
      "[600]\ttraining's auc: 0.993142\tvalid_1's auc: 0.945102\n",
      "[800]\ttraining's auc: 0.996178\tvalid_1's auc: 0.94854\n",
      "[1000]\ttraining's auc: 0.99763\tvalid_1's auc: 0.950456\n",
      "[1200]\ttraining's auc: 0.99843\tvalid_1's auc: 0.951186\n",
      "[1400]\ttraining's auc: 0.99892\tvalid_1's auc: 0.951433\n",
      "[1600]\ttraining's auc: 0.999293\tvalid_1's auc: 0.95154\n",
      "[1800]\ttraining's auc: 0.999547\tvalid_1's auc: 0.951519\n",
      "[2000]\ttraining's auc: 0.999701\tvalid_1's auc: 0.951526\n",
      "Early stopping, best iteration is:\n",
      "[1613]\ttraining's auc: 0.999314\tvalid_1's auc: 0.951563\n",
      "| \u001b[0m 8       \u001b[0m | \u001b[0m 0.9516  \u001b[0m | \u001b[0m 0.8973  \u001b[0m | \u001b[0m 0.3136  \u001b[0m | \u001b[0m 14.78   \u001b[0m | \u001b[0m 0.06684 \u001b[0m | \u001b[0m 117.8   \u001b[0m | \u001b[0m 599.6   \u001b[0m | \u001b[0m 0.5673  \u001b[0m | \u001b[0m 0.5267  \u001b[0m |\n",
      "Training until validation scores don't improve for 500 rounds.\n",
      "[200]\ttraining's auc: 0.957715\tvalid_1's auc: 0.921063\n",
      "[400]\ttraining's auc: 0.980752\tvalid_1's auc: 0.93612\n",
      "[600]\ttraining's auc: 0.991484\tvalid_1's auc: 0.943833\n",
      "[800]\ttraining's auc: 0.996463\tvalid_1's auc: 0.947916\n",
      "[1000]\ttraining's auc: 0.998686\tvalid_1's auc: 0.95003\n",
      "[1200]\ttraining's auc: 0.999562\tvalid_1's auc: 0.951242\n",
      "[1400]\ttraining's auc: 0.999867\tvalid_1's auc: 0.952094\n",
      "[1600]\ttraining's auc: 0.999963\tvalid_1's auc: 0.952589\n",
      "[1800]\ttraining's auc: 0.999991\tvalid_1's auc: 0.952888\n",
      "[2000]\ttraining's auc: 0.999998\tvalid_1's auc: 0.953077\n",
      "[2200]\ttraining's auc: 1\tvalid_1's auc: 0.953145\n",
      "[2400]\ttraining's auc: 1\tvalid_1's auc: 0.953189\n",
      "[2600]\ttraining's auc: 1\tvalid_1's auc: 0.95327\n",
      "[2800]\ttraining's auc: 1\tvalid_1's auc: 0.953367\n",
      "[3000]\ttraining's auc: 1\tvalid_1's auc: 0.953324\n",
      "[3200]\ttraining's auc: 1\tvalid_1's auc: 0.953272\n",
      "Early stopping, best iteration is:\n",
      "[2817]\ttraining's auc: 1\tvalid_1's auc: 0.953373\n",
      "| \u001b[0m 9       \u001b[0m | \u001b[0m 0.9534  \u001b[0m | \u001b[0m 0.2264  \u001b[0m | \u001b[0m 0.8883  \u001b[0m | \u001b[0m-0.1205  \u001b[0m | \u001b[0m 0.08681 \u001b[0m | \u001b[0m 50.06   \u001b[0m | \u001b[0m 400.1   \u001b[0m | \u001b[0m 0.8719  \u001b[0m | \u001b[0m 0.9836  \u001b[0m |\n",
      "Training until validation scores don't improve for 500 rounds.\n",
      "[200]\ttraining's auc: 0.968761\tvalid_1's auc: 0.928727\n",
      "[400]\ttraining's auc: 0.988269\tvalid_1's auc: 0.939611\n",
      "[600]\ttraining's auc: 0.995971\tvalid_1's auc: 0.946303\n",
      "[800]\ttraining's auc: 0.998145\tvalid_1's auc: 0.949685\n",
      "[1000]\ttraining's auc: 0.998933\tvalid_1's auc: 0.950929\n",
      "[1200]\ttraining's auc: 0.999328\tvalid_1's auc: 0.951195\n",
      "[1400]\ttraining's auc: 0.999602\tvalid_1's auc: 0.951126\n",
      "[1600]\ttraining's auc: 0.999765\tvalid_1's auc: 0.950947\n",
      "Early stopping, best iteration is:\n",
      "[1277]\ttraining's auc: 0.999457\tvalid_1's auc: 0.951239\n",
      "| \u001b[0m 10      \u001b[0m | \u001b[0m 0.9513  \u001b[0m | \u001b[0m 0.744   \u001b[0m | \u001b[0m 0.4952  \u001b[0m | \u001b[0m 14.99   \u001b[0m | \u001b[0m 0.03802 \u001b[0m | \u001b[0m 50.39   \u001b[0m | \u001b[0m 599.0   \u001b[0m | \u001b[0m 0.4663  \u001b[0m | \u001b[0m 0.3923  \u001b[0m |\n",
      "=========================================================================================================================\n"
     ]
    }
   ],
   "source": [
    "print('-' * 130)\n",
    "\n",
    "with warnings.catch_warnings():\n",
    "    warnings.filterwarnings('ignore')\n",
    "    LGB_BO.maximize(init_points=init_points, n_iter=n_iter, acq='ucb', xi=0.0, alpha=1e-6)"
   ]
  },
  {
   "cell_type": "code",
   "execution_count": 64,
   "metadata": {},
   "outputs": [],
   "source": [
    "params = {'num_leaves': int(LGB_BO.max['params']['num_leaves']),\n",
    "          'min_child_weight': LGB_BO.max['params']['min_child_weight'],\n",
    "          'feature_fraction': LGB_BO.max['params']['feature_fraction'],\n",
    "          'bagging_fraction': LGB_BO.max['params']['bagging_fraction'],\n",
    "          'min_data_in_leaf': int(LGB_BO.max['params']['min_data_in_leaf']),\n",
    "          'objective': 'binary',\n",
    "          'tree_learner':'serial',\n",
    "          'max_depth': int(LGB_BO.max['params']['max_depth']),\n",
    "          'max_bin':255,\n",
    "          'learning_rate': 0.005,\n",
    "          \"boosting_type\": \"gbdt\",\n",
    "          \"bagging_seed\": 11,\n",
    "          \"metric\": 'auc',\n",
    "          \"verbosity\": -1,\n",
    "          'reg_alpha': LGB_BO.max['params']['reg_alpha'],\n",
    "          'reg_lambda':LGB_BO.max['params']['reg_lambda'],\n",
    "          'random_state': 47,\n",
    "         }"
   ]
  },
  {
   "cell_type": "code",
   "execution_count": 31,
   "metadata": {},
   "outputs": [
    {
     "data": {
      "text/plain": [
       "{'bagging_fraction': 0.90000000000000002,\n",
       " 'bagging_seed': 11,\n",
       " 'boosting_type': 'gbdt',\n",
       " 'feature_fraction': 0.20000000000000001,\n",
       " 'learning_rate': 0.005,\n",
       " 'max_bin': 255,\n",
       " 'max_depth': -1,\n",
       " 'metric': 'auc',\n",
       " 'min_child_weight': 0.099999999999590305,\n",
       " 'min_data_in_leaf': 150,\n",
       " 'num_leaves': 600,\n",
       " 'objective': 'binary',\n",
       " 'random_state': 47,\n",
       " 'reg_alpha': 0.99999999999840239,\n",
       " 'reg_lambda': 0.29999999999999999,\n",
       " 'tree_learner': 'serial',\n",
       " 'verbosity': -1}"
      ]
     },
     "execution_count": 31,
     "metadata": {},
     "output_type": "execute_result"
    }
   ],
   "source": [
    "params # copy this one"
   ]
  },
  {
   "cell_type": "code",
   "execution_count": 32,
   "metadata": {},
   "outputs": [],
   "source": [
    "NFOLDS = 5\n",
    "folds = GroupKFold(n_splits=NFOLDS)"
   ]
  },
  {
   "cell_type": "code",
   "execution_count": 33,
   "metadata": {},
   "outputs": [
    {
     "name": "stdout",
     "output_type": "stream",
     "text": [
      "Training until validation scores don't improve for 500 rounds.\n",
      "[200]\ttraining's auc: 0.974051\tvalid_1's auc: 0.888681\n",
      "[400]\ttraining's auc: 0.986416\tvalid_1's auc: 0.898135\n",
      "[600]\ttraining's auc: 0.993758\tvalid_1's auc: 0.903492\n",
      "[800]\ttraining's auc: 0.997481\tvalid_1's auc: 0.906653\n",
      "[1000]\ttraining's auc: 0.999061\tvalid_1's auc: 0.908632\n",
      "[1200]\ttraining's auc: 0.999676\tvalid_1's auc: 0.909919\n",
      "[1400]\ttraining's auc: 0.999892\tvalid_1's auc: 0.911227\n",
      "[1600]\ttraining's auc: 0.999966\tvalid_1's auc: 0.91207\n",
      "[1800]\ttraining's auc: 0.99999\tvalid_1's auc: 0.912568\n",
      "[2000]\ttraining's auc: 0.999997\tvalid_1's auc: 0.913036\n",
      "[2200]\ttraining's auc: 0.999999\tvalid_1's auc: 0.913366\n",
      "[2400]\ttraining's auc: 1\tvalid_1's auc: 0.913729\n",
      "[2600]\ttraining's auc: 1\tvalid_1's auc: 0.913961\n",
      "[2800]\ttraining's auc: 1\tvalid_1's auc: 0.914134\n",
      "[3000]\ttraining's auc: 1\tvalid_1's auc: 0.914304\n",
      "[3200]\ttraining's auc: 1\tvalid_1's auc: 0.914354\n",
      "[3400]\ttraining's auc: 1\tvalid_1's auc: 0.914436\n",
      "[3600]\ttraining's auc: 1\tvalid_1's auc: 0.91446\n",
      "Early stopping, best iteration is:\n",
      "[3178]\ttraining's auc: 1\tvalid_1's auc: 0.914343\n",
      "Fold 1 | AUC: 0.9142666956279394\n",
      "Training until validation scores don't improve for 500 rounds.\n",
      "[200]\ttraining's auc: 0.972951\tvalid_1's auc: 0.923956\n",
      "[400]\ttraining's auc: 0.985831\tvalid_1's auc: 0.932834\n",
      "[600]\ttraining's auc: 0.993644\tvalid_1's auc: 0.938903\n",
      "[800]\ttraining's auc: 0.997462\tvalid_1's auc: 0.942973\n",
      "[1000]\ttraining's auc: 0.999116\tvalid_1's auc: 0.945062\n",
      "[1200]\ttraining's auc: 0.999715\tvalid_1's auc: 0.946075\n",
      "[1400]\ttraining's auc: 0.999912\tvalid_1's auc: 0.946792\n",
      "[1600]\ttraining's auc: 0.999974\tvalid_1's auc: 0.947187\n",
      "[1800]\ttraining's auc: 0.999993\tvalid_1's auc: 0.947454\n",
      "[2000]\ttraining's auc: 0.999998\tvalid_1's auc: 0.947562\n",
      "[2200]\ttraining's auc: 1\tvalid_1's auc: 0.947621\n",
      "[2400]\ttraining's auc: 1\tvalid_1's auc: 0.94757\n",
      "[2600]\ttraining's auc: 1\tvalid_1's auc: 0.947561\n",
      "Early stopping, best iteration is:\n",
      "[2256]\ttraining's auc: 1\tvalid_1's auc: 0.947656\n",
      "Fold 2 | AUC: 0.9476418277460387\n",
      "Training until validation scores don't improve for 500 rounds.\n",
      "[200]\ttraining's auc: 0.970904\tvalid_1's auc: 0.921044\n",
      "[400]\ttraining's auc: 0.984367\tvalid_1's auc: 0.929417\n",
      "[600]\ttraining's auc: 0.992797\tvalid_1's auc: 0.935585\n",
      "[800]\ttraining's auc: 0.997102\tvalid_1's auc: 0.93979\n",
      "[1000]\ttraining's auc: 0.998975\tvalid_1's auc: 0.942406\n",
      "[1200]\ttraining's auc: 0.999664\tvalid_1's auc: 0.943943\n",
      "[1400]\ttraining's auc: 0.999893\tvalid_1's auc: 0.944902\n",
      "[1600]\ttraining's auc: 0.999967\tvalid_1's auc: 0.945698\n",
      "[1800]\ttraining's auc: 0.999991\tvalid_1's auc: 0.946231\n",
      "[2000]\ttraining's auc: 0.999998\tvalid_1's auc: 0.946408\n",
      "[2200]\ttraining's auc: 1\tvalid_1's auc: 0.946562\n",
      "[2400]\ttraining's auc: 1\tvalid_1's auc: 0.946726\n",
      "[2600]\ttraining's auc: 1\tvalid_1's auc: 0.946758\n",
      "[2800]\ttraining's auc: 1\tvalid_1's auc: 0.946859\n",
      "[3000]\ttraining's auc: 1\tvalid_1's auc: 0.946875\n",
      "[3200]\ttraining's auc: 1\tvalid_1's auc: 0.946931\n",
      "[3400]\ttraining's auc: 1\tvalid_1's auc: 0.946829\n",
      "[3600]\ttraining's auc: 1\tvalid_1's auc: 0.946847\n",
      "Early stopping, best iteration is:\n",
      "[3109]\ttraining's auc: 1\tvalid_1's auc: 0.946975\n",
      "Fold 3 | AUC: 0.9469961135789693\n",
      "Training until validation scores don't improve for 500 rounds.\n",
      "[200]\ttraining's auc: 0.971343\tvalid_1's auc: 0.915735\n",
      "[400]\ttraining's auc: 0.98462\tvalid_1's auc: 0.926114\n",
      "[600]\ttraining's auc: 0.992946\tvalid_1's auc: 0.933427\n",
      "[800]\ttraining's auc: 0.997117\tvalid_1's auc: 0.937849\n",
      "[1000]\ttraining's auc: 0.998946\tvalid_1's auc: 0.940203\n",
      "[1200]\ttraining's auc: 0.999649\tvalid_1's auc: 0.941413\n",
      "[1400]\ttraining's auc: 0.999887\tvalid_1's auc: 0.942197\n",
      "[1600]\ttraining's auc: 0.999965\tvalid_1's auc: 0.942604\n",
      "[1800]\ttraining's auc: 0.99999\tvalid_1's auc: 0.942926\n",
      "[2000]\ttraining's auc: 0.999997\tvalid_1's auc: 0.943026\n",
      "[2200]\ttraining's auc: 0.999999\tvalid_1's auc: 0.943008\n",
      "[2400]\ttraining's auc: 1\tvalid_1's auc: 0.943015\n",
      "Early stopping, best iteration is:\n",
      "[2017]\ttraining's auc: 0.999998\tvalid_1's auc: 0.943056\n",
      "Fold 4 | AUC: 0.9430645247227184\n",
      "Training until validation scores don't improve for 500 rounds.\n",
      "[200]\ttraining's auc: 0.973917\tvalid_1's auc: 0.930851\n",
      "[400]\ttraining's auc: 0.987093\tvalid_1's auc: 0.939779\n",
      "[600]\ttraining's auc: 0.994625\tvalid_1's auc: 0.945856\n",
      "[800]\ttraining's auc: 0.998028\tvalid_1's auc: 0.949485\n",
      "[1000]\ttraining's auc: 0.999353\tvalid_1's auc: 0.951526\n",
      "[1200]\ttraining's auc: 0.999803\tvalid_1's auc: 0.95249\n",
      "[1400]\ttraining's auc: 0.999943\tvalid_1's auc: 0.953092\n",
      "[1600]\ttraining's auc: 0.999985\tvalid_1's auc: 0.953415\n",
      "[1800]\ttraining's auc: 0.999996\tvalid_1's auc: 0.953624\n",
      "[2000]\ttraining's auc: 0.999999\tvalid_1's auc: 0.953703\n",
      "[2200]\ttraining's auc: 1\tvalid_1's auc: 0.953774\n",
      "[2400]\ttraining's auc: 1\tvalid_1's auc: 0.953772\n",
      "[2600]\ttraining's auc: 1\tvalid_1's auc: 0.953786\n",
      "[2800]\ttraining's auc: 1\tvalid_1's auc: 0.953749\n",
      "Early stopping, best iteration is:\n",
      "[2342]\ttraining's auc: 1\tvalid_1's auc: 0.953814\n",
      "Fold 5 | AUC: 0.9538157644146337\n",
      "\n",
      "Mean AUC = 0.9411569852180599\n",
      "Out of folds AUC = 0.9417167236120143\n"
     ]
    }
   ],
   "source": [
    "columns = X.columns\n",
    "splits = folds.split(X, y, groups=split_groups)\n",
    "y_preds = np.zeros(X_test.shape[0])\n",
    "y_oof = np.zeros(X.shape[0])\n",
    "score = 0\n",
    "\n",
    "feature_importances = pd.DataFrame()\n",
    "feature_importances['feature'] = columns\n",
    "  \n",
    "for fold_n, (train_index, valid_index) in enumerate(splits):\n",
    "    X_train, X_valid = X[columns].iloc[train_index], X[columns].iloc[valid_index]\n",
    "    y_train, y_valid = y.iloc[train_index], y.iloc[valid_index]\n",
    "    \n",
    "    dtrain = lgb.Dataset(X_train, label=y_train)\n",
    "    dvalid = lgb.Dataset(X_valid, label=y_valid)\n",
    "\n",
    "    clf = lgb.train(params, dtrain, 10000, valid_sets = [dtrain, dvalid], verbose_eval=200, early_stopping_rounds=500)\n",
    "    \n",
    "    feature_importances[f'fold_{fold_n + 1}'] = clf.feature_importance()\n",
    "    \n",
    "    y_pred_valid = clf.predict(X_valid)\n",
    "    y_oof[valid_index] = y_pred_valid\n",
    "    print(f\"Fold {fold_n + 1} | AUC: {roc_auc_score(y_valid, y_pred_valid)}\")\n",
    "    \n",
    "    score += roc_auc_score(y_valid, y_pred_valid) / NFOLDS\n",
    "    y_preds += clf.predict(X_test) / NFOLDS\n",
    "    \n",
    "    del X_train, X_valid, y_train, y_valid\n",
    "    gc.collect()\n",
    "    \n",
    "print(f\"\\nMean AUC = {score}\")\n",
    "print(f\"Out of folds AUC = {roc_auc_score(y, y_oof)}\")"
   ]
  },
  {
   "cell_type": "code",
   "execution_count": 34,
   "metadata": {},
   "outputs": [],
   "source": [
    "sub = pd.read_csv('sample_submission.csv')\n",
    "sub['isFraud'] = y_preds\n",
    "sub.to_csv(\"lgb_final4_bayes_or.csv\", index=False)  #0.9498"
   ]
  },
  {
   "cell_type": "code",
   "execution_count": 35,
   "metadata": {},
   "outputs": [
    {
     "data": {
      "image/png": "[encoded data removed]",
      "text/plain": [
       "<matplotlib.figure.Figure at 0x1230ba3c8>"
      ]
     },
     "metadata": {},
     "output_type": "display_data"
    }
   ],
   "source": [
    "feature_importances['average'] = feature_importances[[f'fold_{fold_n + 1}' for fold_n in range(folds.n_splits)]].mean(axis=1)\n",
    "\n",
    "plt.figure(figsize=(16, 16))\n",
    "sns.barplot(data=feature_importances.sort_values(by='average', ascending=False).head(50), x='average', y='feature');\n",
    "plt.title('50 TOP feature importance over {} folds average'.format(folds.n_splits));"
   ]
  },
  {
   "cell_type": "code",
   "execution_count": 36,
   "metadata": {},
   "outputs": [
    {
     "data": {
      "image/png": "[encoded data removed]",
      "text/plain": [
       "<matplotlib.figure.Figure at 0x122a8f2e8>"
      ]
     },
     "metadata": {},
     "output_type": "display_data"
    }
   ],
   "source": [
    "plt.figure(figsize=(16, 16))\n",
    "sns.barplot(data=feature_importances.sort_values(by='average', ascending=False).tail(50), x='average', y='feature');\n",
    "plt.title('50 TOP feature importance over {} folds average'.format(folds.n_splits));"
   ]
  },
  {
   "cell_type": "code",
   "execution_count": 37,
   "metadata": {},
   "outputs": [
    {
     "data": {
      "text/html": [
       "<div>\n",
       "<table border=\"1\" class=\"dataframe\">\n",
       "  <thead>\n",
       "    <tr style=\"text-align: right;\">\n",
       "      <th></th>\n",
       "      <th>feature</th>\n",
       "      <th>fold_1</th>\n",
       "      <th>fold_2</th>\n",
       "      <th>fold_3</th>\n",
       "      <th>fold_4</th>\n",
       "      <th>fold_5</th>\n",
       "      <th>average</th>\n",
       "    </tr>\n",
       "  </thead>\n",
       "  <tbody>\n",
       "    <tr>\n",
       "      <th>814</th>\n",
       "      <td>NA_V279_V321</td>\n",
       "      <td>0</td>\n",
       "      <td>0</td>\n",
       "      <td>0</td>\n",
       "      <td>0</td>\n",
       "      <td>0</td>\n",
       "      <td>0.0</td>\n",
       "    </tr>\n",
       "    <tr>\n",
       "      <th>810</th>\n",
       "      <td>NA_V138_V166</td>\n",
       "      <td>0</td>\n",
       "      <td>0</td>\n",
       "      <td>0</td>\n",
       "      <td>0</td>\n",
       "      <td>0</td>\n",
       "      <td>0.0</td>\n",
       "    </tr>\n",
       "    <tr>\n",
       "      <th>812</th>\n",
       "      <td>NA_V1_V11</td>\n",
       "      <td>0</td>\n",
       "      <td>0</td>\n",
       "      <td>0</td>\n",
       "      <td>0</td>\n",
       "      <td>0</td>\n",
       "      <td>0.0</td>\n",
       "    </tr>\n",
       "    <tr>\n",
       "      <th>833</th>\n",
       "      <td>R_isproton</td>\n",
       "      <td>0</td>\n",
       "      <td>0</td>\n",
       "      <td>0</td>\n",
       "      <td>0</td>\n",
       "      <td>0</td>\n",
       "      <td>0.0</td>\n",
       "    </tr>\n",
       "    <tr>\n",
       "      <th>292</th>\n",
       "      <td>V241</td>\n",
       "      <td>0</td>\n",
       "      <td>0</td>\n",
       "      <td>0</td>\n",
       "      <td>0</td>\n",
       "      <td>0</td>\n",
       "      <td>0.0</td>\n",
       "    </tr>\n",
       "    <tr>\n",
       "      <th>170</th>\n",
       "      <td>V119</td>\n",
       "      <td>0</td>\n",
       "      <td>0</td>\n",
       "      <td>0</td>\n",
       "      <td>0</td>\n",
       "      <td>0</td>\n",
       "      <td>0.0</td>\n",
       "    </tr>\n",
       "    <tr>\n",
       "      <th>171</th>\n",
       "      <td>V120</td>\n",
       "      <td>0</td>\n",
       "      <td>0</td>\n",
       "      <td>0</td>\n",
       "      <td>0</td>\n",
       "      <td>0</td>\n",
       "      <td>0.0</td>\n",
       "    </tr>\n",
       "    <tr>\n",
       "      <th>158</th>\n",
       "      <td>V107</td>\n",
       "      <td>0</td>\n",
       "      <td>0</td>\n",
       "      <td>0</td>\n",
       "      <td>0</td>\n",
       "      <td>0</td>\n",
       "      <td>0.0</td>\n",
       "    </tr>\n",
       "    <tr>\n",
       "      <th>356</th>\n",
       "      <td>V305</td>\n",
       "      <td>0</td>\n",
       "      <td>0</td>\n",
       "      <td>0</td>\n",
       "      <td>0</td>\n",
       "      <td>0</td>\n",
       "      <td>0.0</td>\n",
       "    </tr>\n",
       "    <tr>\n",
       "      <th>173</th>\n",
       "      <td>V122</td>\n",
       "      <td>0</td>\n",
       "      <td>0</td>\n",
       "      <td>0</td>\n",
       "      <td>0</td>\n",
       "      <td>0</td>\n",
       "      <td>0.0</td>\n",
       "    </tr>\n",
       "    <tr>\n",
       "      <th>849</th>\n",
       "      <td>addr1_card1</td>\n",
       "      <td>0</td>\n",
       "      <td>0</td>\n",
       "      <td>0</td>\n",
       "      <td>0</td>\n",
       "      <td>0</td>\n",
       "      <td>0.0</td>\n",
       "    </tr>\n",
       "    <tr>\n",
       "      <th>818</th>\n",
       "      <td>NA_V75_V94</td>\n",
       "      <td>0</td>\n",
       "      <td>0</td>\n",
       "      <td>0</td>\n",
       "      <td>0</td>\n",
       "      <td>0</td>\n",
       "      <td>0.0</td>\n",
       "    </tr>\n",
       "    <tr>\n",
       "      <th>819</th>\n",
       "      <td>NA_V95_V137</td>\n",
       "      <td>0</td>\n",
       "      <td>0</td>\n",
       "      <td>0</td>\n",
       "      <td>0</td>\n",
       "      <td>0</td>\n",
       "      <td>0.0</td>\n",
       "    </tr>\n",
       "    <tr>\n",
       "      <th>826</th>\n",
       "      <td>P_isproton</td>\n",
       "      <td>0</td>\n",
       "      <td>0</td>\n",
       "      <td>0</td>\n",
       "      <td>0</td>\n",
       "      <td>0</td>\n",
       "      <td>0.0</td>\n",
       "    </tr>\n",
       "  </tbody>\n",
       "</table>\n",
       "</div>"
      ],
      "text/plain": [
       "          feature  fold_1  fold_2  fold_3  fold_4  fold_5  average\n",
       "814  NA_V279_V321       0       0       0       0       0      0.0\n",
       "810  NA_V138_V166       0       0       0       0       0      0.0\n",
       "812     NA_V1_V11       0       0       0       0       0      0.0\n",
       "833    R_isproton       0       0       0       0       0      0.0\n",
       "292          V241       0       0       0       0       0      0.0\n",
       "170          V119       0       0       0       0       0      0.0\n",
       "171          V120       0       0       0       0       0      0.0\n",
       "158          V107       0       0       0       0       0      0.0\n",
       "356          V305       0       0       0       0       0      0.0\n",
       "173          V122       0       0       0       0       0      0.0\n",
       "849   addr1_card1       0       0       0       0       0      0.0\n",
       "818    NA_V75_V94       0       0       0       0       0      0.0\n",
       "819   NA_V95_V137       0       0       0       0       0      0.0\n",
       "826    P_isproton       0       0       0       0       0      0.0"
      ]
     },
     "execution_count": 37,
     "metadata": {},
     "output_type": "execute_result"
    }
   ],
   "source": [
    "data=feature_importances.sort_values(by='average', ascending=False).tail(14) #根据结果设置\n",
    "data"
   ]
  },
  {
   "cell_type": "code",
   "execution_count": 38,
   "metadata": {},
   "outputs": [],
   "source": [
    "no_contribution_feature=data['feature']"
   ]
  },
  {
   "cell_type": "code",
   "execution_count": 39,
   "metadata": {},
   "outputs": [
    {
     "data": {
      "text/plain": [
       "814    NA_V279_V321\n",
       "810    NA_V138_V166\n",
       "812       NA_V1_V11\n",
       "833      R_isproton\n",
       "292            V241\n",
       "170            V119\n",
       "171            V120\n",
       "158            V107\n",
       "356            V305\n",
       "173            V122\n",
       "849     addr1_card1\n",
       "818      NA_V75_V94\n",
       "819     NA_V95_V137\n",
       "826      P_isproton\n",
       "Name: feature, dtype: object"
      ]
     },
     "execution_count": 39,
     "metadata": {},
     "output_type": "execute_result"
    }
   ],
   "source": [
    "no_contribution_feature # copy this "
   ]
  },
  {
   "cell_type": "code",
   "execution_count": 40,
   "metadata": {},
   "outputs": [],
   "source": [
    "X2=X.drop(no_contribution_feature, axis=1)"
   ]
  },
  {
   "cell_type": "code",
   "execution_count": 41,
   "metadata": {},
   "outputs": [],
   "source": [
    "X_test2=X_test.drop(no_contribution_feature, axis=1)"
   ]
  },
  {
   "cell_type": "code",
   "execution_count": 42,
   "metadata": {},
   "outputs": [
    {
     "data": {
      "text/plain": [
       "(590540, 935)"
      ]
     },
     "execution_count": 42,
     "metadata": {},
     "output_type": "execute_result"
    }
   ],
   "source": [
    "X2.shape"
   ]
  },
  {
   "cell_type": "code",
   "execution_count": 43,
   "metadata": {},
   "outputs": [
    {
     "data": {
      "text/plain": [
       "(506691, 935)"
      ]
     },
     "execution_count": 43,
     "metadata": {},
     "output_type": "execute_result"
    }
   ],
   "source": [
    "X_test2.shape"
   ]
  },
  {
   "cell_type": "code",
   "execution_count": 44,
   "metadata": {},
   "outputs": [
    {
     "data": {
      "text/plain": [
       "42800"
      ]
     },
     "execution_count": 44,
     "metadata": {},
     "output_type": "execute_result"
    }
   ],
   "source": [
    "del X, X_test\n",
    "gc.collect()"
   ]
  },
  {
   "cell_type": "code",
   "execution_count": null,
   "metadata": {},
   "outputs": [],
   "source": [
    "params={'bagging_fraction': 0.90000000000000002,\n",
    "        'bagging_seed': 11,\n",
    "        'boosting_type': 'gbdt',\n",
    "        'feature_fraction': 0.20000000000000001,\n",
    "        'learning_rate': 0.005,\n",
    "        'max_bin': 255,\n",
    "        'max_depth': -1,\n",
    "        'metric': 'auc',\n",
    "        'min_child_weight': 0.099999999999590305,\n",
    "        'min_data_in_leaf': 150,\n",
    "        'num_leaves': 600,\n",
    "        'objective': 'binary',\n",
    "        'random_state': 47,\n",
    "        'reg_alpha': 0.99999999999840239,\n",
    "        'reg_lambda': 0.29999999999999999,\n",
    "        'tree_learner': 'serial',\n",
    "        'verbosity': -1} # copy this one"
   ]
  },
  {
   "cell_type": "code",
   "execution_count": 45,
   "metadata": {},
   "outputs": [],
   "source": [
    "from sklearn.model_selection import GroupKFold\n",
    "NFOLDS = 5\n",
    "folds = GroupKFold(n_splits=NFOLDS)"
   ]
  },
  {
   "cell_type": "code",
   "execution_count": 46,
   "metadata": {},
   "outputs": [
    {
     "name": "stdout",
     "output_type": "stream",
     "text": [
      "Training until validation scores don't improve for 500 rounds.\n",
      "[200]\ttraining's auc: 0.973927\tvalid_1's auc: 0.88977\n",
      "[400]\ttraining's auc: 0.986311\tvalid_1's auc: 0.898199\n",
      "[600]\ttraining's auc: 0.993838\tvalid_1's auc: 0.904151\n",
      "[800]\ttraining's auc: 0.997485\tvalid_1's auc: 0.907265\n",
      "[1000]\ttraining's auc: 0.999069\tvalid_1's auc: 0.908819\n",
      "[1200]\ttraining's auc: 0.999681\tvalid_1's auc: 0.9104\n",
      "[1400]\ttraining's auc: 0.999894\tvalid_1's auc: 0.91125\n",
      "[1600]\ttraining's auc: 0.999967\tvalid_1's auc: 0.912013\n",
      "[1800]\ttraining's auc: 0.99999\tvalid_1's auc: 0.912381\n",
      "[2000]\ttraining's auc: 0.999997\tvalid_1's auc: 0.913008\n",
      "[2200]\ttraining's auc: 0.999999\tvalid_1's auc: 0.913152\n",
      "[2400]\ttraining's auc: 1\tvalid_1's auc: 0.913451\n",
      "[2600]\ttraining's auc: 1\tvalid_1's auc: 0.913634\n",
      "[2800]\ttraining's auc: 1\tvalid_1's auc: 0.913786\n",
      "[3000]\ttraining's auc: 1\tvalid_1's auc: 0.913947\n",
      "[3200]\ttraining's auc: 1\tvalid_1's auc: 0.914036\n",
      "[3400]\ttraining's auc: 1\tvalid_1's auc: 0.914023\n",
      "[3600]\ttraining's auc: 1\tvalid_1's auc: 0.91405\n",
      "Early stopping, best iteration is:\n",
      "[3190]\ttraining's auc: 1\tvalid_1's auc: 0.914077\n",
      "Fold 1 | AUC: 0.9140147873057395\n",
      "Training until validation scores don't improve for 500 rounds.\n",
      "[200]\ttraining's auc: 0.97339\tvalid_1's auc: 0.923768\n",
      "[400]\ttraining's auc: 0.985903\tvalid_1's auc: 0.932139\n",
      "[600]\ttraining's auc: 0.993625\tvalid_1's auc: 0.938226\n",
      "[800]\ttraining's auc: 0.997464\tvalid_1's auc: 0.942509\n",
      "[1000]\ttraining's auc: 0.999112\tvalid_1's auc: 0.944818\n",
      "[1200]\ttraining's auc: 0.999712\tvalid_1's auc: 0.946059\n",
      "[1400]\ttraining's auc: 0.99991\tvalid_1's auc: 0.946966\n",
      "[1600]\ttraining's auc: 0.999973\tvalid_1's auc: 0.947306\n",
      "[1800]\ttraining's auc: 0.999993\tvalid_1's auc: 0.947671\n",
      "[2000]\ttraining's auc: 0.999998\tvalid_1's auc: 0.947839\n",
      "[2200]\ttraining's auc: 1\tvalid_1's auc: 0.94788\n",
      "[2400]\ttraining's auc: 1\tvalid_1's auc: 0.947831\n",
      "[2600]\ttraining's auc: 1\tvalid_1's auc: 0.947929\n",
      "[2800]\ttraining's auc: 1\tvalid_1's auc: 0.947874\n",
      "[3000]\ttraining's auc: 1\tvalid_1's auc: 0.947801\n",
      "Early stopping, best iteration is:\n",
      "[2621]\ttraining's auc: 1\tvalid_1's auc: 0.947944\n",
      "Fold 2 | AUC: 0.9479456997321792\n",
      "Training until validation scores don't improve for 500 rounds.\n",
      "[200]\ttraining's auc: 0.970858\tvalid_1's auc: 0.921435\n",
      "[400]\ttraining's auc: 0.984312\tvalid_1's auc: 0.929582\n",
      "[600]\ttraining's auc: 0.992842\tvalid_1's auc: 0.935718\n",
      "[800]\ttraining's auc: 0.997108\tvalid_1's auc: 0.939816\n",
      "[1000]\ttraining's auc: 0.998964\tvalid_1's auc: 0.942492\n",
      "[1200]\ttraining's auc: 0.999659\tvalid_1's auc: 0.944164\n",
      "[1400]\ttraining's auc: 0.999892\tvalid_1's auc: 0.945126\n",
      "[1600]\ttraining's auc: 0.999968\tvalid_1's auc: 0.94573\n",
      "[1800]\ttraining's auc: 0.999991\tvalid_1's auc: 0.946166\n",
      "[2000]\ttraining's auc: 0.999998\tvalid_1's auc: 0.946489\n",
      "[2200]\ttraining's auc: 1\tvalid_1's auc: 0.946483\n",
      "[2400]\ttraining's auc: 1\tvalid_1's auc: 0.946658\n",
      "[2600]\ttraining's auc: 1\tvalid_1's auc: 0.946649\n",
      "[2800]\ttraining's auc: 1\tvalid_1's auc: 0.946596\n",
      "Early stopping, best iteration is:\n",
      "[2407]\ttraining's auc: 1\tvalid_1's auc: 0.946672\n",
      "Fold 3 | AUC: 0.9466767911608975\n",
      "Training until validation scores don't improve for 500 rounds.\n",
      "[200]\ttraining's auc: 0.971344\tvalid_1's auc: 0.915482\n",
      "[400]\ttraining's auc: 0.984623\tvalid_1's auc: 0.925956\n",
      "[600]\ttraining's auc: 0.99286\tvalid_1's auc: 0.933284\n",
      "[800]\ttraining's auc: 0.997078\tvalid_1's auc: 0.937845\n",
      "[1000]\ttraining's auc: 0.998935\tvalid_1's auc: 0.940268\n",
      "[1200]\ttraining's auc: 0.999644\tvalid_1's auc: 0.941343\n",
      "[1400]\ttraining's auc: 0.999886\tvalid_1's auc: 0.942073\n",
      "[1600]\ttraining's auc: 0.999965\tvalid_1's auc: 0.942705\n",
      "[1800]\ttraining's auc: 0.99999\tvalid_1's auc: 0.94308\n",
      "[2000]\ttraining's auc: 0.999997\tvalid_1's auc: 0.943325\n",
      "[2200]\ttraining's auc: 0.999999\tvalid_1's auc: 0.943172\n",
      "[2400]\ttraining's auc: 1\tvalid_1's auc: 0.943041\n",
      "Early stopping, best iteration is:\n",
      "[1973]\ttraining's auc: 0.999997\tvalid_1's auc: 0.943343\n",
      "Fold 4 | AUC: 0.9433574949190241\n",
      "Training until validation scores don't improve for 500 rounds.\n",
      "[200]\ttraining's auc: 0.974266\tvalid_1's auc: 0.930757\n",
      "[400]\ttraining's auc: 0.986942\tvalid_1's auc: 0.93943\n",
      "[600]\ttraining's auc: 0.994565\tvalid_1's auc: 0.945842\n",
      "[800]\ttraining's auc: 0.998006\tvalid_1's auc: 0.949568\n",
      "[1000]\ttraining's auc: 0.999351\tvalid_1's auc: 0.951654\n",
      "[1200]\ttraining's auc: 0.999805\tvalid_1's auc: 0.952639\n",
      "[1400]\ttraining's auc: 0.999944\tvalid_1's auc: 0.953254\n",
      "[1600]\ttraining's auc: 0.999985\tvalid_1's auc: 0.95358\n",
      "[1800]\ttraining's auc: 0.999996\tvalid_1's auc: 0.95371\n",
      "[2000]\ttraining's auc: 0.999999\tvalid_1's auc: 0.953805\n",
      "[2200]\ttraining's auc: 1\tvalid_1's auc: 0.953811\n",
      "[2400]\ttraining's auc: 1\tvalid_1's auc: 0.953831\n",
      "[2600]\ttraining's auc: 1\tvalid_1's auc: 0.953762\n",
      "[2800]\ttraining's auc: 1\tvalid_1's auc: 0.953765\n",
      "Early stopping, best iteration is:\n",
      "[2436]\ttraining's auc: 1\tvalid_1's auc: 0.953847\n",
      "Fold 5 | AUC: 0.953840855572697\n",
      "\n",
      "Mean AUC = 0.9411671257381076\n",
      "Out of folds AUC = 0.9420764093422422\n"
     ]
    }
   ],
   "source": [
    "columns = X2.columns\n",
    "splits = folds.split(X2, y, groups=split_groups)\n",
    "y_preds = np.zeros(X_test2.shape[0])\n",
    "y_oof = np.zeros(X2.shape[0])\n",
    "score = 0\n",
    "\n",
    "feature_importances = pd.DataFrame()\n",
    "feature_importances['feature'] = columns\n",
    "  \n",
    "for fold_n, (train_index, valid_index) in enumerate(splits):\n",
    "    X_train, X_valid = X2[columns].iloc[train_index], X2[columns].iloc[valid_index]\n",
    "    y_train, y_valid = y.iloc[train_index], y.iloc[valid_index]\n",
    "    \n",
    "    dtrain = lgb.Dataset(X_train, label=y_train)\n",
    "    dvalid = lgb.Dataset(X_valid, label=y_valid)\n",
    "\n",
    "    clf = lgb.train(params, dtrain, 10000, valid_sets = [dtrain, dvalid], verbose_eval=200, early_stopping_rounds=500)\n",
    "    \n",
    "    feature_importances[f'fold_{fold_n + 1}'] = clf.feature_importance()\n",
    "    \n",
    "    y_pred_valid = clf.predict(X_valid)\n",
    "    y_oof[valid_index] = y_pred_valid\n",
    "    print(f\"Fold {fold_n + 1} | AUC: {roc_auc_score(y_valid, y_pred_valid)}\")\n",
    "    \n",
    "    score += roc_auc_score(y_valid, y_pred_valid) / NFOLDS\n",
    "    y_preds += clf.predict(X_test2) / NFOLDS\n",
    "    \n",
    "    del X_train, X_valid, y_train, y_valid\n",
    "    gc.collect()\n",
    "    \n",
    "print(f\"\\nMean AUC = {score}\")\n",
    "print(f\"Out of folds AUC = {roc_auc_score(y, y_oof)}\")"
   ]
  },
  {
   "cell_type": "code",
   "execution_count": 47,
   "metadata": {},
   "outputs": [],
   "source": [
    "sub = pd.read_csv('sample_submission.csv')\n",
    "sub['isFraud'] = y_preds\n",
    "sub.to_csv(\"lgb_final4_bayes_orre.csv\", index=False) #0.9501"
   ]
  },
  {
   "cell_type": "code",
   "execution_count": 65,
   "metadata": {},
   "outputs": [],
   "source": [
    "# change to 6 fold\n",
    "params={'bagging_fraction': 0.90000000000000002,\n",
    "        'bagging_seed': 11,\n",
    "        'boosting_type': 'gbdt',\n",
    "        'feature_fraction': 0.20000000000000001,\n",
    "        'learning_rate': 0.005,\n",
    "        'max_bin': 255,\n",
    "        'max_depth': -1,\n",
    "        'metric': 'auc',\n",
    "        'min_child_weight': 0.099999999999590305,\n",
    "        'min_data_in_leaf': 150,\n",
    "        'num_leaves': 600,\n",
    "        'objective': 'binary',\n",
    "        'random_state': 47,\n",
    "        'reg_alpha': 0.99999999999840239,\n",
    "        'reg_lambda': 0.29999999999999999,\n",
    "        'tree_learner': 'serial',\n",
    "        'verbosity': -1}"
   ]
  },
  {
   "cell_type": "code",
   "execution_count": 68,
   "metadata": {},
   "outputs": [],
   "source": [
    "from sklearn.model_selection import GroupKFold\n",
    "NFOLDS = 6\n",
    "folds = GroupKFold(n_splits=NFOLDS)"
   ]
  },
  {
   "cell_type": "code",
   "execution_count": 69,
   "metadata": {},
   "outputs": [
    {
     "name": "stdout",
     "output_type": "stream",
     "text": [
      "Training until validation scores don't improve for 500 rounds.\n",
      "[200]\ttraining's auc: 0.973927\tvalid_1's auc: 0.889767\n",
      "[400]\ttraining's auc: 0.986311\tvalid_1's auc: 0.898196\n",
      "[600]\ttraining's auc: 0.993838\tvalid_1's auc: 0.904151\n",
      "[800]\ttraining's auc: 0.997485\tvalid_1's auc: 0.907258\n",
      "[1000]\ttraining's auc: 0.999069\tvalid_1's auc: 0.908813\n",
      "[1200]\ttraining's auc: 0.999681\tvalid_1's auc: 0.910396\n",
      "[1400]\ttraining's auc: 0.999894\tvalid_1's auc: 0.911247\n",
      "[1600]\ttraining's auc: 0.999967\tvalid_1's auc: 0.91201\n",
      "[1800]\ttraining's auc: 0.99999\tvalid_1's auc: 0.912379\n",
      "[2000]\ttraining's auc: 0.999997\tvalid_1's auc: 0.913007\n",
      "[2200]\ttraining's auc: 0.999999\tvalid_1's auc: 0.913151\n",
      "[2400]\ttraining's auc: 1\tvalid_1's auc: 0.91345\n",
      "[2600]\ttraining's auc: 1\tvalid_1's auc: 0.913633\n",
      "[2800]\ttraining's auc: 1\tvalid_1's auc: 0.913786\n",
      "[3000]\ttraining's auc: 1\tvalid_1's auc: 0.913947\n",
      "[3200]\ttraining's auc: 1\tvalid_1's auc: 0.914035\n",
      "[3400]\ttraining's auc: 1\tvalid_1's auc: 0.914022\n",
      "[3600]\ttraining's auc: 1\tvalid_1's auc: 0.91405\n",
      "Early stopping, best iteration is:\n",
      "[3190]\ttraining's auc: 1\tvalid_1's auc: 0.914076\n",
      "Fold 1 | AUC: 0.9140148841708781\n",
      "Training until validation scores don't improve for 500 rounds.\n",
      "[200]\ttraining's auc: 0.97339\tvalid_1's auc: 0.923763\n",
      "[400]\ttraining's auc: 0.985903\tvalid_1's auc: 0.932135\n",
      "[600]\ttraining's auc: 0.993625\tvalid_1's auc: 0.938223\n",
      "[800]\ttraining's auc: 0.997464\tvalid_1's auc: 0.942506\n",
      "[1000]\ttraining's auc: 0.999112\tvalid_1's auc: 0.944816\n",
      "[1200]\ttraining's auc: 0.999712\tvalid_1's auc: 0.946057\n",
      "[1400]\ttraining's auc: 0.99991\tvalid_1's auc: 0.946965\n",
      "[1600]\ttraining's auc: 0.999973\tvalid_1's auc: 0.947305\n",
      "[1800]\ttraining's auc: 0.999993\tvalid_1's auc: 0.94767\n",
      "[2000]\ttraining's auc: 0.999998\tvalid_1's auc: 0.947837\n",
      "[2200]\ttraining's auc: 1\tvalid_1's auc: 0.947878\n",
      "[2400]\ttraining's auc: 1\tvalid_1's auc: 0.947828\n",
      "[2600]\ttraining's auc: 1\tvalid_1's auc: 0.947926\n",
      "[2800]\ttraining's auc: 1\tvalid_1's auc: 0.947872\n",
      "[3000]\ttraining's auc: 1\tvalid_1's auc: 0.947798\n",
      "Early stopping, best iteration is:\n",
      "[2621]\ttraining's auc: 1\tvalid_1's auc: 0.947941\n",
      "Fold 2 | AUC: 0.9479431252155155\n",
      "Training until validation scores don't improve for 500 rounds.\n",
      "[200]\ttraining's auc: 0.970858\tvalid_1's auc: 0.921433\n",
      "[400]\ttraining's auc: 0.984312\tvalid_1's auc: 0.929581\n",
      "[600]\ttraining's auc: 0.992842\tvalid_1's auc: 0.935718\n",
      "[800]\ttraining's auc: 0.997108\tvalid_1's auc: 0.939815\n",
      "[1000]\ttraining's auc: 0.998964\tvalid_1's auc: 0.942492\n",
      "[1200]\ttraining's auc: 0.999659\tvalid_1's auc: 0.944163\n",
      "[1400]\ttraining's auc: 0.999892\tvalid_1's auc: 0.945125\n",
      "[1600]\ttraining's auc: 0.999968\tvalid_1's auc: 0.94573\n",
      "[1800]\ttraining's auc: 0.999991\tvalid_1's auc: 0.946165\n",
      "[2000]\ttraining's auc: 0.999998\tvalid_1's auc: 0.946488\n",
      "[2200]\ttraining's auc: 1\tvalid_1's auc: 0.946482\n",
      "[2400]\ttraining's auc: 1\tvalid_1's auc: 0.946657\n",
      "[2600]\ttraining's auc: 1\tvalid_1's auc: 0.946648\n",
      "[2800]\ttraining's auc: 1\tvalid_1's auc: 0.946595\n",
      "Early stopping, best iteration is:\n",
      "[2407]\ttraining's auc: 1\tvalid_1's auc: 0.946671\n",
      "Fold 3 | AUC: 0.94667584369773\n",
      "Training until validation scores don't improve for 500 rounds.\n",
      "[200]\ttraining's auc: 0.971348\tvalid_1's auc: 0.915527\n",
      "[400]\ttraining's auc: 0.984615\tvalid_1's auc: 0.925969\n",
      "[600]\ttraining's auc: 0.992881\tvalid_1's auc: 0.933084\n",
      "[800]\ttraining's auc: 0.997087\tvalid_1's auc: 0.937715\n",
      "[1000]\ttraining's auc: 0.998933\tvalid_1's auc: 0.940131\n",
      "[1200]\ttraining's auc: 0.999641\tvalid_1's auc: 0.941386\n",
      "[1400]\ttraining's auc: 0.999885\tvalid_1's auc: 0.94224\n",
      "[1600]\ttraining's auc: 0.999965\tvalid_1's auc: 0.942839\n",
      "[1800]\ttraining's auc: 0.99999\tvalid_1's auc: 0.943122\n",
      "[2000]\ttraining's auc: 0.999997\tvalid_1's auc: 0.943263\n",
      "[2200]\ttraining's auc: 0.999999\tvalid_1's auc: 0.94316\n",
      "[2400]\ttraining's auc: 1\tvalid_1's auc: 0.943047\n",
      "Early stopping, best iteration is:\n",
      "[1937]\ttraining's auc: 0.999996\tvalid_1's auc: 0.943305\n",
      "Fold 4 | AUC: 0.9433171170910227\n",
      "Training until validation scores don't improve for 500 rounds.\n",
      "[200]\ttraining's auc: 0.970993\tvalid_1's auc: 0.935168\n",
      "[400]\ttraining's auc: 0.984392\tvalid_1's auc: 0.94204\n",
      "[600]\ttraining's auc: 0.992687\tvalid_1's auc: 0.946768\n",
      "[800]\ttraining's auc: 0.996927\tvalid_1's auc: 0.949514\n",
      "[1000]\ttraining's auc: 0.998844\tvalid_1's auc: 0.951083\n",
      "[1200]\ttraining's auc: 0.999598\tvalid_1's auc: 0.95191\n",
      "[1400]\ttraining's auc: 0.999867\tvalid_1's auc: 0.952242\n",
      "[1600]\ttraining's auc: 0.999958\tvalid_1's auc: 0.952485\n",
      "[1800]\ttraining's auc: 0.999988\tvalid_1's auc: 0.952656\n",
      "[2000]\ttraining's auc: 0.999997\tvalid_1's auc: 0.95277\n",
      "[2200]\ttraining's auc: 0.999999\tvalid_1's auc: 0.952788\n",
      "[2400]\ttraining's auc: 1\tvalid_1's auc: 0.952862\n",
      "[2600]\ttraining's auc: 1\tvalid_1's auc: 0.95293\n",
      "[2800]\ttraining's auc: 1\tvalid_1's auc: 0.952935\n",
      "[3000]\ttraining's auc: 1\tvalid_1's auc: 0.952896\n",
      "Early stopping, best iteration is:\n",
      "[2545]\ttraining's auc: 1\tvalid_1's auc: 0.952976\n",
      "Fold 5 | AUC: 0.9529859087317826\n",
      "Training until validation scores don't improve for 500 rounds.\n",
      "[200]\ttraining's auc: 0.970497\tvalid_1's auc: 0.929749\n",
      "[400]\ttraining's auc: 0.983732\tvalid_1's auc: 0.940813\n",
      "[600]\ttraining's auc: 0.992498\tvalid_1's auc: 0.948704\n",
      "[800]\ttraining's auc: 0.996856\tvalid_1's auc: 0.953512\n",
      "[1000]\ttraining's auc: 0.998798\tvalid_1's auc: 0.956499\n",
      "[1200]\ttraining's auc: 0.999583\tvalid_1's auc: 0.958266\n",
      "[1400]\ttraining's auc: 0.999863\tvalid_1's auc: 0.959464\n",
      "[1600]\ttraining's auc: 0.999957\tvalid_1's auc: 0.960169\n",
      "[1800]\ttraining's auc: 0.999987\tvalid_1's auc: 0.960739\n",
      "[2000]\ttraining's auc: 0.999997\tvalid_1's auc: 0.961055\n",
      "[2200]\ttraining's auc: 0.999999\tvalid_1's auc: 0.961217\n",
      "[2400]\ttraining's auc: 1\tvalid_1's auc: 0.961294\n",
      "[2600]\ttraining's auc: 1\tvalid_1's auc: 0.961421\n",
      "[2800]\ttraining's auc: 1\tvalid_1's auc: 0.961388\n",
      "[3000]\ttraining's auc: 1\tvalid_1's auc: 0.961423\n",
      "[3200]\ttraining's auc: 1\tvalid_1's auc: 0.961343\n",
      "[3400]\ttraining's auc: 1\tvalid_1's auc: 0.961267\n",
      "Early stopping, best iteration is:\n",
      "[3024]\ttraining's auc: 1\tvalid_1's auc: 0.961442\n",
      "Fold 6 | AUC: 0.9614346313093067\n",
      "\n",
      "Mean AUC = 0.944395251702706\n",
      "Out of folds AUC = 0.9431322165598026\n"
     ]
    }
   ],
   "source": [
    "columns = X2.columns\n",
    "splits = folds.split(X2, y, groups=split_groups)\n",
    "y_preds = np.zeros(X_test2.shape[0])\n",
    "y_oof = np.zeros(X2.shape[0])\n",
    "score = 0\n",
    "\n",
    "feature_importances = pd.DataFrame()\n",
    "feature_importances['feature'] = columns\n",
    "  \n",
    "for fold_n, (train_index, valid_index) in enumerate(splits):\n",
    "    X_train, X_valid = X2[columns].iloc[train_index], X2[columns].iloc[valid_index]\n",
    "    y_train, y_valid = y.iloc[train_index], y.iloc[valid_index]\n",
    "    \n",
    "    dtrain = lgb.Dataset(X_train, label=y_train)\n",
    "    dvalid = lgb.Dataset(X_valid, label=y_valid)\n",
    "\n",
    "    clf = lgb.train(params, dtrain, 10000, valid_sets = [dtrain, dvalid], verbose_eval=200, early_stopping_rounds=500)\n",
    "    \n",
    "    feature_importances[f'fold_{fold_n + 1}'] = clf.feature_importance()\n",
    "    \n",
    "    y_pred_valid = clf.predict(X_valid)\n",
    "    y_oof[valid_index] = y_pred_valid\n",
    "    print(f\"Fold {fold_n + 1} | AUC: {roc_auc_score(y_valid, y_pred_valid)}\")\n",
    "    \n",
    "    score += roc_auc_score(y_valid, y_pred_valid) / NFOLDS\n",
    "    y_preds += clf.predict(X_test2) / NFOLDS\n",
    "    \n",
    "    del X_train, X_valid, y_train, y_valid\n",
    "    gc.collect()\n",
    "    \n",
    "print(f\"\\nMean AUC = {score}\")\n",
    "print(f\"Out of folds AUC = {roc_auc_score(y, y_oof)}\")"
   ]
  },
  {
   "cell_type": "code",
   "execution_count": 70,
   "metadata": {},
   "outputs": [],
   "source": [
    "sub = pd.read_csv('sample_submission.csv')\n",
    "sub['isFraud'] = y_preds\n",
    "sub.to_csv(\"lgb_final4_fold6_orre.csv\", index=False) #0.9501, no improvement"
   ]
  },
  {
   "cell_type": "code",
   "execution_count": 48,
   "metadata": {},
   "outputs": [],
   "source": [
    "X_train, X_valid = X2.iloc[train_index], X2.iloc[valid_index]\n",
    "y_train, y_valid = y.iloc[train_index], y.iloc[valid_index]"
   ]
  },
  {
   "cell_type": "code",
   "execution_count": 49,
   "metadata": {},
   "outputs": [
    {
     "data": {
      "text/plain": [
       "(420864, 935)"
      ]
     },
     "execution_count": 49,
     "metadata": {},
     "output_type": "execute_result"
    }
   ],
   "source": [
    "X_train.shape"
   ]
  },
  {
   "cell_type": "code",
   "execution_count": 50,
   "metadata": {},
   "outputs": [
    {
     "data": {
      "text/plain": [
       "(169676, 935)"
      ]
     },
     "execution_count": 50,
     "metadata": {},
     "output_type": "execute_result"
    }
   ],
   "source": [
    "X_valid.shape"
   ]
  },
  {
   "cell_type": "code",
   "execution_count": 51,
   "metadata": {},
   "outputs": [
    {
     "data": {
      "text/plain": [
       "(420864,)"
      ]
     },
     "execution_count": 51,
     "metadata": {},
     "output_type": "execute_result"
    }
   ],
   "source": [
    "y_train.shape"
   ]
  },
  {
   "cell_type": "code",
   "execution_count": 52,
   "metadata": {},
   "outputs": [
    {
     "data": {
      "text/plain": [
       "(169676,)"
      ]
     },
     "execution_count": 52,
     "metadata": {},
     "output_type": "execute_result"
    }
   ],
   "source": [
    "y_valid.shape"
   ]
  },
  {
   "cell_type": "code",
   "execution_count": 53,
   "metadata": {},
   "outputs": [],
   "source": [
    "def LGB_bayesian(\n",
    "    num_leaves, \n",
    "    bagging_fraction,\n",
    "    feature_fraction,\n",
    "    min_child_weight,\n",
    "    min_data_in_leaf,\n",
    "    max_depth,\n",
    "    reg_alpha,\n",
    "    reg_lambda\n",
    "     ):\n",
    "    \n",
    "    # LightGBM expects next three parameters need to be integer. \n",
    "    num_leaves = int(num_leaves)\n",
    "    min_data_in_leaf = int(min_data_in_leaf)\n",
    "    max_depth = int(max_depth)\n",
    "\n",
    "    assert type(num_leaves) == int\n",
    "    assert type(min_data_in_leaf) == int\n",
    "    assert type(max_depth) == int\n",
    "    y_oof = np.zeros(X_valid.shape[0])\n",
    "\n",
    "    param = {\n",
    "              'num_leaves': num_leaves, \n",
    "              'min_data_in_leaf': min_data_in_leaf,\n",
    "              'min_child_weight': min_child_weight,\n",
    "              'bagging_fraction' : bagging_fraction,\n",
    "              'feature_fraction' : feature_fraction,\n",
    "              'max_depth': max_depth,\n",
    "              'reg_alpha': reg_alpha,\n",
    "              'reg_lambda': reg_lambda,\n",
    "              'objective': 'binary',\n",
    "              'max_bin':255,\n",
    "              'random_state': 47,\n",
    "              'learning_rate': 0.005,\n",
    "              'boosting_type': 'gbdt',\n",
    "              'bagging_seed': 11,\n",
    "              'tree_learner':'serial',\n",
    "              'verbosity': -1,\n",
    "              'metric':'auc'}    \n",
    "    \n",
    "    trn_data= lgb.Dataset(X_train, label=y_train)\n",
    "    val_data= lgb.Dataset(X_valid, label=y_valid)\n",
    "\n",
    "    clf = lgb.train(param, trn_data,  num_boost_round=10000, valid_sets = [trn_data, val_data], verbose_eval=200, early_stopping_rounds = 500)\n",
    "    \n",
    "    y_oof = clf.predict(X_valid, num_iteration=clf.best_iteration)  \n",
    "    \n",
    "    score = roc_auc_score(y_valid, y_oof)\n",
    "\n",
    "    return score"
   ]
  },
  {
   "cell_type": "code",
   "execution_count": 54,
   "metadata": {},
   "outputs": [],
   "source": [
    "bounds_LGB = {\n",
    "    'num_leaves': (400, 600), \n",
    "    'min_data_in_leaf': (50,150),\n",
    "    'bagging_fraction' : (0.2,0.9),\n",
    "    'feature_fraction' : (0.2,0.9),\n",
    "    'min_child_weight': (0.01, 0.1),   \n",
    "    'reg_alpha': (0.3, 1), \n",
    "    'reg_lambda': (0.3, 1),\n",
    "    'max_depth':(-1,15),\n",
    "}"
   ]
  },
  {
   "cell_type": "code",
   "execution_count": 55,
   "metadata": {},
   "outputs": [],
   "source": [
    "LGB_BO = BayesianOptimization(LGB_bayesian, bounds_LGB)"
   ]
  },
  {
   "cell_type": "code",
   "execution_count": 56,
   "metadata": {},
   "outputs": [
    {
     "name": "stdout",
     "output_type": "stream",
     "text": [
      "['bagging_fraction', 'feature_fraction', 'max_depth', 'min_child_weight', 'min_data_in_leaf', 'num_leaves', 'reg_alpha', 'reg_lambda']\n"
     ]
    }
   ],
   "source": [
    "print(LGB_BO.space.keys)"
   ]
  },
  {
   "cell_type": "code",
   "execution_count": 57,
   "metadata": {},
   "outputs": [],
   "source": [
    "init_points = 3 #5\n",
    "n_iter = 7 # 15"
   ]
  },
  {
   "cell_type": "code",
   "execution_count": 58,
   "metadata": {},
   "outputs": [
    {
     "name": "stdout",
     "output_type": "stream",
     "text": [
      "----------------------------------------------------------------------------------------------------------------------------------\n",
      "|   iter    |  target   | baggin... | featur... | max_depth | min_ch... | min_da... | num_le... | reg_alpha | reg_la... |\n",
      "-------------------------------------------------------------------------------------------------------------------------\n",
      "Training until validation scores don't improve for 500 rounds.\n",
      "[200]\ttraining's auc: 0.881226\tvalid_1's auc: 0.872898\n",
      "[400]\ttraining's auc: 0.901193\tvalid_1's auc: 0.888433\n",
      "[600]\ttraining's auc: 0.91094\tvalid_1's auc: 0.896862\n",
      "[800]\ttraining's auc: 0.917952\tvalid_1's auc: 0.902207\n",
      "[1000]\ttraining's auc: 0.923581\tvalid_1's auc: 0.905958\n",
      "[1200]\ttraining's auc: 0.927623\tvalid_1's auc: 0.908573\n",
      "[1400]\ttraining's auc: 0.93106\tvalid_1's auc: 0.911082\n",
      "[1600]\ttraining's auc: 0.934101\tvalid_1's auc: 0.913155\n",
      "[1800]\ttraining's auc: 0.936969\tvalid_1's auc: 0.914967\n",
      "[2000]\ttraining's auc: 0.939223\tvalid_1's auc: 0.916479\n",
      "[2200]\ttraining's auc: 0.941575\tvalid_1's auc: 0.917946\n",
      "[2400]\ttraining's auc: 0.943753\tvalid_1's auc: 0.919243\n",
      "[2600]\ttraining's auc: 0.945626\tvalid_1's auc: 0.920223\n",
      "[2800]\ttraining's auc: 0.947614\tvalid_1's auc: 0.921433\n",
      "[3000]\ttraining's auc: 0.949371\tvalid_1's auc: 0.922371\n",
      "[3200]\ttraining's auc: 0.95101\tvalid_1's auc: 0.923254\n",
      "[3400]\ttraining's auc: 0.952674\tvalid_1's auc: 0.924126\n",
      "[3600]\ttraining's auc: 0.9541\tvalid_1's auc: 0.924777\n",
      "[3800]\ttraining's auc: 0.955474\tvalid_1's auc: 0.925501\n",
      "[4000]\ttraining's auc: 0.95695\tvalid_1's auc: 0.926244\n",
      "[4200]\ttraining's auc: 0.958239\tvalid_1's auc: 0.926817\n",
      "[4400]\ttraining's auc: 0.959663\tvalid_1's auc: 0.927452\n",
      "[4600]\ttraining's auc: 0.960931\tvalid_1's auc: 0.928088\n",
      "[4800]\ttraining's auc: 0.962104\tvalid_1's auc: 0.928601\n",
      "[5000]\ttraining's auc: 0.963279\tvalid_1's auc: 0.929103\n",
      "[5200]\ttraining's auc: 0.964354\tvalid_1's auc: 0.929565\n",
      "[5400]\ttraining's auc: 0.96548\tvalid_1's auc: 0.930009\n",
      "[5600]\ttraining's auc: 0.966519\tvalid_1's auc: 0.930488\n",
      "[5800]\ttraining's auc: 0.967494\tvalid_1's auc: 0.930809\n",
      "[6000]\ttraining's auc: 0.968476\tvalid_1's auc: 0.931256\n",
      "[6200]\ttraining's auc: 0.969545\tvalid_1's auc: 0.931773\n",
      "[6400]\ttraining's auc: 0.970418\tvalid_1's auc: 0.932136\n",
      "[6600]\ttraining's auc: 0.971287\tvalid_1's auc: 0.932557\n",
      "[6800]\ttraining's auc: 0.97207\tvalid_1's auc: 0.93292\n",
      "[7000]\ttraining's auc: 0.972869\tvalid_1's auc: 0.933306\n",
      "[7200]\ttraining's auc: 0.973682\tvalid_1's auc: 0.933687\n",
      "[7400]\ttraining's auc: 0.974416\tvalid_1's auc: 0.934002\n",
      "[7600]\ttraining's auc: 0.975191\tvalid_1's auc: 0.934352\n",
      "[7800]\ttraining's auc: 0.975864\tvalid_1's auc: 0.934637\n",
      "[8000]\ttraining's auc: 0.976599\tvalid_1's auc: 0.935054\n",
      "[8200]\ttraining's auc: 0.977238\tvalid_1's auc: 0.935329\n",
      "[8400]\ttraining's auc: 0.977894\tvalid_1's auc: 0.935627\n",
      "[8600]\ttraining's auc: 0.97854\tvalid_1's auc: 0.935932\n",
      "[8800]\ttraining's auc: 0.979149\tvalid_1's auc: 0.936218\n",
      "[9000]\ttraining's auc: 0.979758\tvalid_1's auc: 0.936472\n",
      "[9200]\ttraining's auc: 0.980288\tvalid_1's auc: 0.936676\n",
      "[9400]\ttraining's auc: 0.980849\tvalid_1's auc: 0.936884\n",
      "[9600]\ttraining's auc: 0.981405\tvalid_1's auc: 0.937066\n",
      "[9800]\ttraining's auc: 0.981957\tvalid_1's auc: 0.9373\n",
      "[10000]\ttraining's auc: 0.982464\tvalid_1's auc: 0.937449\n",
      "Did not meet early stopping. Best iteration is:\n",
      "[10000]\ttraining's auc: 0.982464\tvalid_1's auc: 0.937449\n",
      "| \u001b[0m 1       \u001b[0m | \u001b[0m 0.9374  \u001b[0m | \u001b[0m 0.8867  \u001b[0m | \u001b[0m 0.6721  \u001b[0m | \u001b[0m 5.263   \u001b[0m | \u001b[0m 0.01249 \u001b[0m | \u001b[0m 71.82   \u001b[0m | \u001b[0m 558.0   \u001b[0m | \u001b[0m 0.7112  \u001b[0m | \u001b[0m 0.5317  \u001b[0m |\n",
      "Training until validation scores don't improve for 500 rounds.\n",
      "[200]\ttraining's auc: 0.880695\tvalid_1's auc: 0.874452\n",
      "[400]\ttraining's auc: 0.898114\tvalid_1's auc: 0.887348\n",
      "[600]\ttraining's auc: 0.908785\tvalid_1's auc: 0.896727\n",
      "[800]\ttraining's auc: 0.915626\tvalid_1's auc: 0.901757\n",
      "[1000]\ttraining's auc: 0.920735\tvalid_1's auc: 0.905323\n",
      "[1200]\ttraining's auc: 0.924896\tvalid_1's auc: 0.908047\n",
      "[1400]\ttraining's auc: 0.928152\tvalid_1's auc: 0.910264\n",
      "[1600]\ttraining's auc: 0.930977\tvalid_1's auc: 0.912201\n",
      "[1800]\ttraining's auc: 0.933539\tvalid_1's auc: 0.913854\n",
      "[2000]\ttraining's auc: 0.935946\tvalid_1's auc: 0.915422\n",
      "[2200]\ttraining's auc: 0.9382\tvalid_1's auc: 0.916916\n",
      "[2400]\ttraining's auc: 0.94031\tvalid_1's auc: 0.918306\n",
      "[2600]\ttraining's auc: 0.942301\tvalid_1's auc: 0.919641\n",
      "[2800]\ttraining's auc: 0.94405\tvalid_1's auc: 0.920706\n",
      "[3000]\ttraining's auc: 0.945724\tvalid_1's auc: 0.921796\n",
      "[3200]\ttraining's auc: 0.947398\tvalid_1's auc: 0.922873\n",
      "[3400]\ttraining's auc: 0.948872\tvalid_1's auc: 0.9237\n",
      "[3600]\ttraining's auc: 0.95035\tvalid_1's auc: 0.924577\n",
      "[3800]\ttraining's auc: 0.951673\tvalid_1's auc: 0.925293\n",
      "[4000]\ttraining's auc: 0.952819\tvalid_1's auc: 0.925809\n",
      "[4200]\ttraining's auc: 0.954158\tvalid_1's auc: 0.926539\n",
      "[4400]\ttraining's auc: 0.955418\tvalid_1's auc: 0.927277\n",
      "[4600]\ttraining's auc: 0.956681\tvalid_1's auc: 0.927945\n",
      "[4800]\ttraining's auc: 0.958023\tvalid_1's auc: 0.928708\n",
      "[5000]\ttraining's auc: 0.959238\tvalid_1's auc: 0.929321\n",
      "[5200]\ttraining's auc: 0.960412\tvalid_1's auc: 0.929934\n",
      "[5400]\ttraining's auc: 0.961396\tvalid_1's auc: 0.930351\n",
      "[5600]\ttraining's auc: 0.962475\tvalid_1's auc: 0.930905\n",
      "[5800]\ttraining's auc: 0.963513\tvalid_1's auc: 0.931402\n",
      "[6000]\ttraining's auc: 0.964504\tvalid_1's auc: 0.931849\n",
      "[6200]\ttraining's auc: 0.965452\tvalid_1's auc: 0.932255\n",
      "[6400]\ttraining's auc: 0.966348\tvalid_1's auc: 0.93267\n",
      "[6600]\ttraining's auc: 0.967275\tvalid_1's auc: 0.933124\n",
      "[6800]\ttraining's auc: 0.968116\tvalid_1's auc: 0.933466\n",
      "[7000]\ttraining's auc: 0.968941\tvalid_1's auc: 0.933798\n",
      "[7200]\ttraining's auc: 0.969807\tvalid_1's auc: 0.934182\n",
      "[7400]\ttraining's auc: 0.970594\tvalid_1's auc: 0.934538\n",
      "[7600]\ttraining's auc: 0.971279\tvalid_1's auc: 0.934762\n",
      "[7800]\ttraining's auc: 0.971953\tvalid_1's auc: 0.93508\n",
      "[8000]\ttraining's auc: 0.972663\tvalid_1's auc: 0.935331\n",
      "[8200]\ttraining's auc: 0.97333\tvalid_1's auc: 0.935638\n",
      "[8400]\ttraining's auc: 0.97408\tvalid_1's auc: 0.936\n",
      "[8600]\ttraining's auc: 0.974649\tvalid_1's auc: 0.936182\n",
      "[8800]\ttraining's auc: 0.975293\tvalid_1's auc: 0.936434\n",
      "[9000]\ttraining's auc: 0.975857\tvalid_1's auc: 0.936638\n",
      "[9200]\ttraining's auc: 0.97642\tvalid_1's auc: 0.9369\n",
      "[9400]\ttraining's auc: 0.976957\tvalid_1's auc: 0.937108\n",
      "[9600]\ttraining's auc: 0.977508\tvalid_1's auc: 0.937306\n",
      "[9800]\ttraining's auc: 0.978057\tvalid_1's auc: 0.937497\n",
      "[10000]\ttraining's auc: 0.978575\tvalid_1's auc: 0.937678\n",
      "Did not meet early stopping. Best iteration is:\n",
      "[10000]\ttraining's auc: 0.978575\tvalid_1's auc: 0.937678\n",
      "| \u001b[95m 2       \u001b[0m | \u001b[95m 0.9377  \u001b[0m | \u001b[95m 0.6948  \u001b[0m | \u001b[95m 0.2169  \u001b[0m | \u001b[95m 5.819   \u001b[0m | \u001b[95m 0.08525 \u001b[0m | \u001b[95m 109.9   \u001b[0m | \u001b[95m 407.9   \u001b[0m | \u001b[95m 0.6307  \u001b[0m | \u001b[95m 0.9907  \u001b[0m |\n",
      "Training until validation scores don't improve for 500 rounds.\n",
      "[200]\ttraining's auc: 0.888377\tvalid_1's auc: 0.877278\n",
      "[400]\ttraining's auc: 0.913492\tvalid_1's auc: 0.897862\n",
      "[600]\ttraining's auc: 0.925208\tvalid_1's auc: 0.907002\n",
      "[800]\ttraining's auc: 0.932857\tvalid_1's auc: 0.912715\n",
      "[1000]\ttraining's auc: 0.938295\tvalid_1's auc: 0.915958\n",
      "[1200]\ttraining's auc: 0.942414\tvalid_1's auc: 0.918212\n",
      "[1400]\ttraining's auc: 0.945863\tvalid_1's auc: 0.920336\n",
      "[1600]\ttraining's auc: 0.948863\tvalid_1's auc: 0.92229\n",
      "[1800]\ttraining's auc: 0.951543\tvalid_1's auc: 0.923876\n",
      "[2000]\ttraining's auc: 0.954228\tvalid_1's auc: 0.925298\n",
      "[2200]\ttraining's auc: 0.956632\tvalid_1's auc: 0.926408\n",
      "[2400]\ttraining's auc: 0.9589\tvalid_1's auc: 0.927592\n",
      "[2600]\ttraining's auc: 0.960864\tvalid_1's auc: 0.928543\n",
      "[2800]\ttraining's auc: 0.96265\tvalid_1's auc: 0.929359\n",
      "[3000]\ttraining's auc: 0.964275\tvalid_1's auc: 0.930068\n",
      "[3200]\ttraining's auc: 0.965835\tvalid_1's auc: 0.930692\n",
      "[3400]\ttraining's auc: 0.967332\tvalid_1's auc: 0.931356\n",
      "[3600]\ttraining's auc: 0.968844\tvalid_1's auc: 0.932085\n",
      "[3800]\ttraining's auc: 0.970198\tvalid_1's auc: 0.932668\n",
      "[4000]\ttraining's auc: 0.971607\tvalid_1's auc: 0.933216\n",
      "[4200]\ttraining's auc: 0.972861\tvalid_1's auc: 0.933703\n",
      "[4400]\ttraining's auc: 0.974\tvalid_1's auc: 0.934149\n",
      "[4600]\ttraining's auc: 0.975212\tvalid_1's auc: 0.934659\n",
      "[4800]\ttraining's auc: 0.976458\tvalid_1's auc: 0.935286\n",
      "[5000]\ttraining's auc: 0.977531\tvalid_1's auc: 0.935779\n",
      "[5200]\ttraining's auc: 0.978696\tvalid_1's auc: 0.936346\n"
     ]
    },
    {
     "name": "stdout",
     "output_type": "stream",
     "text": [
      "[5400]\ttraining's auc: 0.979672\tvalid_1's auc: 0.936678\n",
      "[5600]\ttraining's auc: 0.980638\tvalid_1's auc: 0.937156\n",
      "[5800]\ttraining's auc: 0.981509\tvalid_1's auc: 0.937502\n",
      "[6000]\ttraining's auc: 0.982394\tvalid_1's auc: 0.937878\n",
      "[6200]\ttraining's auc: 0.983202\tvalid_1's auc: 0.938176\n",
      "[6400]\ttraining's auc: 0.98401\tvalid_1's auc: 0.938491\n",
      "[6600]\ttraining's auc: 0.984796\tvalid_1's auc: 0.938774\n",
      "[6800]\ttraining's auc: 0.985469\tvalid_1's auc: 0.938961\n",
      "[7000]\ttraining's auc: 0.986133\tvalid_1's auc: 0.939228\n",
      "[7200]\ttraining's auc: 0.986819\tvalid_1's auc: 0.939499\n",
      "[7400]\ttraining's auc: 0.98745\tvalid_1's auc: 0.93971\n",
      "[7600]\ttraining's auc: 0.988039\tvalid_1's auc: 0.939912\n",
      "[7800]\ttraining's auc: 0.988642\tvalid_1's auc: 0.940158\n",
      "[8000]\ttraining's auc: 0.989197\tvalid_1's auc: 0.940412\n",
      "[8200]\ttraining's auc: 0.989717\tvalid_1's auc: 0.940614\n",
      "[8400]\ttraining's auc: 0.990223\tvalid_1's auc: 0.940852\n",
      "[8600]\ttraining's auc: 0.990746\tvalid_1's auc: 0.941127\n",
      "[8800]\ttraining's auc: 0.991245\tvalid_1's auc: 0.941328\n",
      "[9000]\ttraining's auc: 0.991692\tvalid_1's auc: 0.941534\n",
      "[9200]\ttraining's auc: 0.992085\tvalid_1's auc: 0.941701\n",
      "[9400]\ttraining's auc: 0.992499\tvalid_1's auc: 0.941841\n",
      "[9600]\ttraining's auc: 0.992859\tvalid_1's auc: 0.94193\n",
      "[9800]\ttraining's auc: 0.993206\tvalid_1's auc: 0.942006\n",
      "[10000]\ttraining's auc: 0.99353\tvalid_1's auc: 0.942109\n",
      "Did not meet early stopping. Best iteration is:\n",
      "[10000]\ttraining's auc: 0.99353\tvalid_1's auc: 0.942109\n",
      "| \u001b[95m 3       \u001b[0m | \u001b[95m 0.9421  \u001b[0m | \u001b[95m 0.2201  \u001b[0m | \u001b[95m 0.8454  \u001b[0m | \u001b[95m 6.637   \u001b[0m | \u001b[95m 0.08852 \u001b[0m | \u001b[95m 129.6   \u001b[0m | \u001b[95m 403.5   \u001b[0m | \u001b[95m 0.773   \u001b[0m | \u001b[95m 0.3227  \u001b[0m |\n",
      "Training until validation scores don't improve for 500 rounds.\n",
      "[200]\ttraining's auc: 0.957152\tvalid_1's auc: 0.923817\n",
      "[400]\ttraining's auc: 0.978325\tvalid_1's auc: 0.936134\n",
      "[600]\ttraining's auc: 0.988389\tvalid_1's auc: 0.942806\n",
      "[800]\ttraining's auc: 0.992498\tvalid_1's auc: 0.946196\n",
      "[1000]\ttraining's auc: 0.994742\tvalid_1's auc: 0.948232\n",
      "[1200]\ttraining's auc: 0.99614\tvalid_1's auc: 0.949259\n",
      "[1400]\ttraining's auc: 0.997132\tvalid_1's auc: 0.949872\n",
      "[1600]\ttraining's auc: 0.997887\tvalid_1's auc: 0.950272\n",
      "[1800]\ttraining's auc: 0.99842\tvalid_1's auc: 0.950379\n",
      "[2000]\ttraining's auc: 0.998859\tvalid_1's auc: 0.950525\n",
      "[2200]\ttraining's auc: 0.999154\tvalid_1's auc: 0.950426\n",
      "[2400]\ttraining's auc: 0.999358\tvalid_1's auc: 0.950328\n",
      "Early stopping, best iteration is:\n",
      "[2054]\ttraining's auc: 0.998942\tvalid_1's auc: 0.950537\n",
      "| \u001b[95m 4       \u001b[0m | \u001b[95m 0.9505  \u001b[0m | \u001b[95m 0.6653  \u001b[0m | \u001b[95m 0.2766  \u001b[0m | \u001b[95m 13.3    \u001b[0m | \u001b[95m 0.01069 \u001b[0m | \u001b[95m 149.7   \u001b[0m | \u001b[95m 598.5   \u001b[0m | \u001b[95m 0.3055  \u001b[0m | \u001b[95m 0.9434  \u001b[0m |\n",
      "Training until validation scores don't improve for 500 rounds.\n",
      "[200]\ttraining's auc: 0.977019\tvalid_1's auc: 0.930925\n",
      "[400]\ttraining's auc: 0.989725\tvalid_1's auc: 0.939965\n",
      "[600]\ttraining's auc: 0.996274\tvalid_1's auc: 0.946088\n",
      "[800]\ttraining's auc: 0.998879\tvalid_1's auc: 0.949745\n",
      "[1000]\ttraining's auc: 0.999721\tvalid_1's auc: 0.951545\n",
      "[1200]\ttraining's auc: 0.999939\tvalid_1's auc: 0.952465\n",
      "[1400]\ttraining's auc: 0.999988\tvalid_1's auc: 0.95305\n",
      "[1600]\ttraining's auc: 0.999998\tvalid_1's auc: 0.953335\n",
      "[1800]\ttraining's auc: 1\tvalid_1's auc: 0.953539\n",
      "[2000]\ttraining's auc: 1\tvalid_1's auc: 0.953596\n",
      "[2200]\ttraining's auc: 1\tvalid_1's auc: 0.953641\n",
      "[2400]\ttraining's auc: 1\tvalid_1's auc: 0.953598\n",
      "[2600]\ttraining's auc: 1\tvalid_1's auc: 0.953589\n",
      "Early stopping, best iteration is:\n",
      "[2105]\ttraining's auc: 1\tvalid_1's auc: 0.953667\n",
      "| \u001b[95m 5       \u001b[0m | \u001b[95m 0.9537  \u001b[0m | \u001b[95m 0.403   \u001b[0m | \u001b[95m 0.6423  \u001b[0m | \u001b[95m-0.6367  \u001b[0m | \u001b[95m 0.0991  \u001b[0m | \u001b[95m 149.9   \u001b[0m | \u001b[95m 598.0   \u001b[0m | \u001b[95m 0.6348  \u001b[0m | \u001b[95m 0.6516  \u001b[0m |\n",
      "Training until validation scores don't improve for 500 rounds.\n",
      "[200]\ttraining's auc: 0.977589\tvalid_1's auc: 0.931041\n",
      "[400]\ttraining's auc: 0.990109\tvalid_1's auc: 0.93997\n",
      "[600]\ttraining's auc: 0.996453\tvalid_1's auc: 0.946051\n",
      "[800]\ttraining's auc: 0.998974\tvalid_1's auc: 0.949563\n",
      "[1000]\ttraining's auc: 0.999756\tvalid_1's auc: 0.951611\n",
      "[1200]\ttraining's auc: 0.999949\tvalid_1's auc: 0.952561\n",
      "[1400]\ttraining's auc: 0.999991\tvalid_1's auc: 0.953207\n",
      "[1600]\ttraining's auc: 0.999999\tvalid_1's auc: 0.953664\n",
      "[1800]\ttraining's auc: 1\tvalid_1's auc: 0.953758\n",
      "[2000]\ttraining's auc: 1\tvalid_1's auc: 0.953799\n",
      "[2200]\ttraining's auc: 1\tvalid_1's auc: 0.953837\n",
      "[2400]\ttraining's auc: 1\tvalid_1's auc: 0.953796\n",
      "[2600]\ttraining's auc: 1\tvalid_1's auc: 0.953781\n",
      "Early stopping, best iteration is:\n",
      "[2118]\ttraining's auc: 1\tvalid_1's auc: 0.953858\n",
      "| \u001b[95m 6       \u001b[0m | \u001b[95m 0.9538  \u001b[0m | \u001b[95m 0.6043  \u001b[0m | \u001b[95m 0.67    \u001b[0m | \u001b[95m-0.8664  \u001b[0m | \u001b[95m 0.0115  \u001b[0m | \u001b[95m 149.4   \u001b[0m | \u001b[95m 596.9   \u001b[0m | \u001b[95m 0.4986  \u001b[0m | \u001b[95m 0.6243  \u001b[0m |\n",
      "Training until validation scores don't improve for 500 rounds.\n",
      "[200]\ttraining's auc: 0.977516\tvalid_1's auc: 0.929883\n",
      "[400]\ttraining's auc: 0.990264\tvalid_1's auc: 0.939457\n",
      "[600]\ttraining's auc: 0.996592\tvalid_1's auc: 0.945787\n",
      "[800]\ttraining's auc: 0.999033\tvalid_1's auc: 0.94958\n",
      "[1000]\ttraining's auc: 0.999774\tvalid_1's auc: 0.951361\n",
      "[1200]\ttraining's auc: 0.999955\tvalid_1's auc: 0.952274\n",
      "[1400]\ttraining's auc: 0.999992\tvalid_1's auc: 0.952863\n",
      "[1600]\ttraining's auc: 0.999999\tvalid_1's auc: 0.953267\n",
      "[1800]\ttraining's auc: 1\tvalid_1's auc: 0.95345\n",
      "[2000]\ttraining's auc: 1\tvalid_1's auc: 0.95353\n",
      "[2200]\ttraining's auc: 1\tvalid_1's auc: 0.953509\n",
      "[2400]\ttraining's auc: 1\tvalid_1's auc: 0.9535\n",
      "Early stopping, best iteration is:\n",
      "[2013]\ttraining's auc: 1\tvalid_1's auc: 0.953542\n",
      "| \u001b[0m 7       \u001b[0m | \u001b[0m 0.9535  \u001b[0m | \u001b[0m 0.5373  \u001b[0m | \u001b[0m 0.7398  \u001b[0m | \u001b[0m-0.9736  \u001b[0m | \u001b[0m 0.0499  \u001b[0m | \u001b[0m 149.9   \u001b[0m | \u001b[0m 598.4   \u001b[0m | \u001b[0m 0.4648  \u001b[0m | \u001b[0m 0.6486  \u001b[0m |\n",
      "Training until validation scores don't improve for 500 rounds.\n",
      "[200]\ttraining's auc: 0.976314\tvalid_1's auc: 0.929238\n",
      "[400]\ttraining's auc: 0.989577\tvalid_1's auc: 0.939101\n",
      "[600]\ttraining's auc: 0.99619\tvalid_1's auc: 0.945529\n",
      "[800]\ttraining's auc: 0.998835\tvalid_1's auc: 0.949266\n",
      "[1000]\ttraining's auc: 0.9997\tvalid_1's auc: 0.951208\n",
      "[1200]\ttraining's auc: 0.999933\tvalid_1's auc: 0.952044\n",
      "[1400]\ttraining's auc: 0.999987\tvalid_1's auc: 0.952742\n",
      "[1600]\ttraining's auc: 0.999998\tvalid_1's auc: 0.953167\n",
      "[1800]\ttraining's auc: 1\tvalid_1's auc: 0.953336\n",
      "[2000]\ttraining's auc: 1\tvalid_1's auc: 0.953454\n",
      "[2200]\ttraining's auc: 1\tvalid_1's auc: 0.95357\n",
      "[2400]\ttraining's auc: 1\tvalid_1's auc: 0.953625\n",
      "[2600]\ttraining's auc: 1\tvalid_1's auc: 0.95365\n",
      "[2800]\ttraining's auc: 1\tvalid_1's auc: 0.953557\n",
      "Early stopping, best iteration is:\n",
      "[2369]\ttraining's auc: 1\tvalid_1's auc: 0.953621\n",
      "| \u001b[0m 8       \u001b[0m | \u001b[0m 0.9536  \u001b[0m | \u001b[0m 0.3799  \u001b[0m | \u001b[0m 0.759   \u001b[0m | \u001b[0m-0.1974  \u001b[0m | \u001b[0m 0.05414 \u001b[0m | \u001b[0m 150.0   \u001b[0m | \u001b[0m 599.9   \u001b[0m | \u001b[0m 0.6304  \u001b[0m | \u001b[0m 0.8942  \u001b[0m |\n",
      "Training until validation scores don't improve for 500 rounds.\n",
      "[200]\ttraining's auc: 0.977351\tvalid_1's auc: 0.931541\n",
      "[400]\ttraining's auc: 0.989371\tvalid_1's auc: 0.939795\n",
      "[600]\ttraining's auc: 0.996059\tvalid_1's auc: 0.945701\n",
      "[800]\ttraining's auc: 0.998777\tvalid_1's auc: 0.949704\n",
      "[1000]\ttraining's auc: 0.999686\tvalid_1's auc: 0.951658\n",
      "[1200]\ttraining's auc: 0.999928\tvalid_1's auc: 0.952528\n",
      "[1400]\ttraining's auc: 0.999986\tvalid_1's auc: 0.953053\n",
      "[1600]\ttraining's auc: 0.999998\tvalid_1's auc: 0.953419\n",
      "[1800]\ttraining's auc: 1\tvalid_1's auc: 0.953553\n",
      "[2000]\ttraining's auc: 1\tvalid_1's auc: 0.95364\n",
      "[2200]\ttraining's auc: 1\tvalid_1's auc: 0.953683\n",
      "[2400]\ttraining's auc: 1\tvalid_1's auc: 0.953752\n",
      "[2600]\ttraining's auc: 1\tvalid_1's auc: 0.953734\n",
      "[2800]\ttraining's auc: 1\tvalid_1's auc: 0.953732\n",
      "Early stopping, best iteration is:\n",
      "[2387]\ttraining's auc: 1\tvalid_1's auc: 0.953749\n",
      "| \u001b[0m 9       \u001b[0m | \u001b[0m 0.9537  \u001b[0m | \u001b[0m 0.5202  \u001b[0m | \u001b[0m 0.3885  \u001b[0m | \u001b[0m-0.9364  \u001b[0m | \u001b[0m 0.08246 \u001b[0m | \u001b[0m 149.4   \u001b[0m | \u001b[0m 597.2   \u001b[0m | \u001b[0m 0.5037  \u001b[0m | \u001b[0m 0.5049  \u001b[0m |\n",
      "Training until validation scores don't improve for 500 rounds.\n",
      "[200]\ttraining's auc: 0.978372\tvalid_1's auc: 0.930127\n",
      "[400]\ttraining's auc: 0.990921\tvalid_1's auc: 0.939878\n",
      "[600]\ttraining's auc: 0.997032\tvalid_1's auc: 0.946225\n",
      "[800]\ttraining's auc: 0.999246\tvalid_1's auc: 0.950065\n"
     ]
    },
    {
     "name": "stdout",
     "output_type": "stream",
     "text": [
      "[1000]\ttraining's auc: 0.999848\tvalid_1's auc: 0.951871\n",
      "[1200]\ttraining's auc: 0.999975\tvalid_1's auc: 0.952824\n",
      "[1400]\ttraining's auc: 0.999997\tvalid_1's auc: 0.953379\n",
      "[1600]\ttraining's auc: 1\tvalid_1's auc: 0.953704\n",
      "[1800]\ttraining's auc: 1\tvalid_1's auc: 0.953871\n",
      "[2000]\ttraining's auc: 1\tvalid_1's auc: 0.954017\n",
      "[2200]\ttraining's auc: 1\tvalid_1's auc: 0.954071\n",
      "[2400]\ttraining's auc: 1\tvalid_1's auc: 0.954131\n",
      "Early stopping, best iteration is:\n",
      "[2080]\ttraining's auc: 1\tvalid_1's auc: 0.954016\n",
      "| \u001b[95m 10      \u001b[0m | \u001b[95m 0.954   \u001b[0m | \u001b[95m 0.5962  \u001b[0m | \u001b[95m 0.7728  \u001b[0m | \u001b[95m-0.421   \u001b[0m | \u001b[95m 0.0221  \u001b[0m | \u001b[95m 149.2   \u001b[0m | \u001b[95m 599.8   \u001b[0m | \u001b[95m 0.3133  \u001b[0m | \u001b[95m 0.3557  \u001b[0m |\n",
      "=========================================================================================================================\n"
     ]
    }
   ],
   "source": [
    "print('-' * 130)\n",
    "\n",
    "with warnings.catch_warnings():\n",
    "    warnings.filterwarnings('ignore')\n",
    "    LGB_BO.maximize(init_points=init_points, n_iter=n_iter, acq='ucb', xi=0.0, alpha=1e-6)"
   ]
  },
  {
   "cell_type": "code",
   "execution_count": 59,
   "metadata": {},
   "outputs": [],
   "source": [
    "params = {'num_leaves': int(LGB_BO.max['params']['num_leaves']),\n",
    "          'min_child_weight': LGB_BO.max['params']['min_child_weight'],\n",
    "          'feature_fraction': LGB_BO.max['params']['feature_fraction'],\n",
    "          'bagging_fraction': LGB_BO.max['params']['bagging_fraction'],\n",
    "          'min_data_in_leaf': int(LGB_BO.max['params']['min_data_in_leaf']),\n",
    "          'objective': 'binary',\n",
    "          'tree_learner':'serial',\n",
    "          'max_depth': int(LGB_BO.max['params']['max_depth']),\n",
    "          'max_bin':255,\n",
    "          'learning_rate': 0.005,\n",
    "          \"boosting_type\": \"gbdt\",\n",
    "          \"bagging_seed\": 11,\n",
    "          \"metric\": 'auc',\n",
    "          \"verbosity\": -1,\n",
    "          'reg_alpha': LGB_BO.max['params']['reg_alpha'],\n",
    "          'reg_lambda':LGB_BO.max['params']['reg_lambda'],\n",
    "          'random_state': 47,\n",
    "         }"
   ]
  },
  {
   "cell_type": "code",
   "execution_count": 60,
   "metadata": {},
   "outputs": [
    {
     "data": {
      "text/plain": [
       "{'bagging_fraction': 0.59617831293224077,\n",
       " 'bagging_seed': 11,\n",
       " 'boosting_type': 'gbdt',\n",
       " 'feature_fraction': 0.77283633330978452,\n",
       " 'learning_rate': 0.005,\n",
       " 'max_bin': 255,\n",
       " 'max_depth': 0,\n",
       " 'metric': 'auc',\n",
       " 'min_child_weight': 0.022103749828015013,\n",
       " 'min_data_in_leaf': 149,\n",
       " 'num_leaves': 599,\n",
       " 'objective': 'binary',\n",
       " 'random_state': 47,\n",
       " 'reg_alpha': 0.31331177511237596,\n",
       " 'reg_lambda': 0.35567469305452731,\n",
       " 'tree_learner': 'serial',\n",
       " 'verbosity': -1}"
      ]
     },
     "execution_count": 60,
     "metadata": {},
     "output_type": "execute_result"
    }
   ],
   "source": [
    "params"
   ]
  },
  {
   "cell_type": "code",
   "execution_count": 61,
   "metadata": {},
   "outputs": [],
   "source": [
    "NFOLDS = 5\n",
    "folds = GroupKFold(n_splits=NFOLDS)"
   ]
  },
  {
   "cell_type": "code",
   "execution_count": 62,
   "metadata": {},
   "outputs": [
    {
     "name": "stdout",
     "output_type": "stream",
     "text": [
      "Training until validation scores don't improve for 500 rounds.\n",
      "[200]\ttraining's auc: 0.978102\tvalid_1's auc: 0.887863\n",
      "[400]\ttraining's auc: 0.989816\tvalid_1's auc: 0.897632\n",
      "[600]\ttraining's auc: 0.996358\tvalid_1's auc: 0.902244\n",
      "[800]\ttraining's auc: 0.998935\tvalid_1's auc: 0.905716\n",
      "[1000]\ttraining's auc: 0.999743\tvalid_1's auc: 0.90784\n",
      "[1200]\ttraining's auc: 0.999946\tvalid_1's auc: 0.909489\n",
      "[1400]\ttraining's auc: 0.999991\tvalid_1's auc: 0.910539\n",
      "[1600]\ttraining's auc: 0.999999\tvalid_1's auc: 0.911416\n",
      "[1800]\ttraining's auc: 1\tvalid_1's auc: 0.912351\n",
      "[2000]\ttraining's auc: 1\tvalid_1's auc: 0.912961\n",
      "[2200]\ttraining's auc: 1\tvalid_1's auc: 0.913491\n",
      "[2400]\ttraining's auc: 1\tvalid_1's auc: 0.913842\n",
      "[2600]\ttraining's auc: 1\tvalid_1's auc: 0.91402\n",
      "Early stopping, best iteration is:\n",
      "[2155]\ttraining's auc: 1\tvalid_1's auc: 0.913451\n",
      "Fold 1 | AUC: 0.9134236362099156\n",
      "Training until validation scores don't improve for 500 rounds.\n",
      "[200]\ttraining's auc: 0.976597\tvalid_1's auc: 0.923708\n",
      "[400]\ttraining's auc: 0.989255\tvalid_1's auc: 0.932682\n",
      "[600]\ttraining's auc: 0.996102\tvalid_1's auc: 0.9395\n",
      "[800]\ttraining's auc: 0.998895\tvalid_1's auc: 0.943497\n",
      "[1000]\ttraining's auc: 0.999758\tvalid_1's auc: 0.94575\n",
      "[1200]\ttraining's auc: 0.999954\tvalid_1's auc: 0.946817\n",
      "[1400]\ttraining's auc: 0.999993\tvalid_1's auc: 0.947406\n",
      "[1600]\ttraining's auc: 0.999999\tvalid_1's auc: 0.947741\n",
      "[1800]\ttraining's auc: 1\tvalid_1's auc: 0.947879\n",
      "[2000]\ttraining's auc: 1\tvalid_1's auc: 0.948063\n",
      "[2200]\ttraining's auc: 1\tvalid_1's auc: 0.948053\n",
      "[2400]\ttraining's auc: 1\tvalid_1's auc: 0.947993\n",
      "Early stopping, best iteration is:\n",
      "[2070]\ttraining's auc: 1\tvalid_1's auc: 0.948106\n",
      "Fold 2 | AUC: 0.9480903212939951\n",
      "Training until validation scores don't improve for 500 rounds.\n",
      "[200]\ttraining's auc: 0.974384\tvalid_1's auc: 0.916775\n",
      "[400]\ttraining's auc: 0.987841\tvalid_1's auc: 0.927428\n",
      "[600]\ttraining's auc: 0.995637\tvalid_1's auc: 0.935499\n",
      "[800]\ttraining's auc: 0.998737\tvalid_1's auc: 0.939769\n",
      "[1000]\ttraining's auc: 0.999714\tvalid_1's auc: 0.942125\n",
      "[1200]\ttraining's auc: 0.999943\tvalid_1's auc: 0.94349\n",
      "[1400]\ttraining's auc: 0.99999\tvalid_1's auc: 0.944471\n",
      "[1600]\ttraining's auc: 0.999999\tvalid_1's auc: 0.945106\n",
      "[1800]\ttraining's auc: 1\tvalid_1's auc: 0.945648\n",
      "[2000]\ttraining's auc: 1\tvalid_1's auc: 0.94609\n",
      "[2200]\ttraining's auc: 1\tvalid_1's auc: 0.946393\n",
      "[2400]\ttraining's auc: 1\tvalid_1's auc: 0.946637\n",
      "[2600]\ttraining's auc: 1\tvalid_1's auc: 0.946832\n",
      "Early stopping, best iteration is:\n",
      "[2208]\ttraining's auc: 1\tvalid_1's auc: 0.946392\n",
      "Fold 3 | AUC: 0.9464019296666508\n",
      "Training until validation scores don't improve for 500 rounds.\n",
      "[200]\ttraining's auc: 0.974675\tvalid_1's auc: 0.91444\n",
      "[400]\ttraining's auc: 0.987958\tvalid_1's auc: 0.926919\n",
      "[600]\ttraining's auc: 0.995587\tvalid_1's auc: 0.934795\n",
      "[800]\ttraining's auc: 0.998698\tvalid_1's auc: 0.939721\n",
      "[1000]\ttraining's auc: 0.999695\tvalid_1's auc: 0.941717\n",
      "[1200]\ttraining's auc: 0.999936\tvalid_1's auc: 0.942954\n",
      "[1400]\ttraining's auc: 0.999988\tvalid_1's auc: 0.943697\n",
      "[1600]\ttraining's auc: 0.999998\tvalid_1's auc: 0.943987\n",
      "[1800]\ttraining's auc: 1\tvalid_1's auc: 0.9441\n",
      "[2000]\ttraining's auc: 1\tvalid_1's auc: 0.944131\n",
      "[2200]\ttraining's auc: 1\tvalid_1's auc: 0.944058\n",
      "[2400]\ttraining's auc: 1\tvalid_1's auc: 0.943925\n",
      "Early stopping, best iteration is:\n",
      "[1942]\ttraining's auc: 1\tvalid_1's auc: 0.944161\n",
      "Fold 4 | AUC: 0.944128197398768\n",
      "Training until validation scores don't improve for 500 rounds.\n",
      "[200]\ttraining's auc: 0.978372\tvalid_1's auc: 0.930127\n",
      "[400]\ttraining's auc: 0.990921\tvalid_1's auc: 0.939878\n",
      "[600]\ttraining's auc: 0.997032\tvalid_1's auc: 0.946225\n",
      "[800]\ttraining's auc: 0.999246\tvalid_1's auc: 0.950065\n",
      "[1000]\ttraining's auc: 0.999848\tvalid_1's auc: 0.951871\n",
      "[1200]\ttraining's auc: 0.999975\tvalid_1's auc: 0.952824\n",
      "[1400]\ttraining's auc: 0.999997\tvalid_1's auc: 0.953379\n",
      "[1600]\ttraining's auc: 1\tvalid_1's auc: 0.953704\n",
      "[1800]\ttraining's auc: 1\tvalid_1's auc: 0.953871\n",
      "[2000]\ttraining's auc: 1\tvalid_1's auc: 0.954017\n",
      "[2200]\ttraining's auc: 1\tvalid_1's auc: 0.954071\n",
      "[2400]\ttraining's auc: 1\tvalid_1's auc: 0.954131\n",
      "Early stopping, best iteration is:\n",
      "[2080]\ttraining's auc: 1\tvalid_1's auc: 0.954016\n",
      "Fold 5 | AUC: 0.9540110730449235\n",
      "\n",
      "Mean AUC = 0.9412110315228507\n",
      "Out of folds AUC = 0.9425201774520676\n"
     ]
    }
   ],
   "source": [
    "columns = X2.columns\n",
    "splits = folds.split(X2, y, groups=split_groups)\n",
    "y_preds = np.zeros(X_test2.shape[0])\n",
    "y_oof = np.zeros(X2.shape[0])\n",
    "score = 0\n",
    "\n",
    "feature_importances = pd.DataFrame()\n",
    "feature_importances['feature'] = columns\n",
    "  \n",
    "for fold_n, (train_index, valid_index) in enumerate(splits):\n",
    "    X_train, X_valid = X2[columns].iloc[train_index], X2[columns].iloc[valid_index]\n",
    "    y_train, y_valid = y.iloc[train_index], y.iloc[valid_index]\n",
    "    \n",
    "    dtrain = lgb.Dataset(X_train, label=y_train)\n",
    "    dvalid = lgb.Dataset(X_valid, label=y_valid)\n",
    "\n",
    "    clf = lgb.train(params, dtrain, 10000, valid_sets = [dtrain, dvalid], verbose_eval=200, early_stopping_rounds=500)\n",
    "    \n",
    "    feature_importances[f'fold_{fold_n + 1}'] = clf.feature_importance()\n",
    "    \n",
    "    y_pred_valid = clf.predict(X_valid)\n",
    "    y_oof[valid_index] = y_pred_valid\n",
    "    print(f\"Fold {fold_n + 1} | AUC: {roc_auc_score(y_valid, y_pred_valid)}\")\n",
    "    \n",
    "    score += roc_auc_score(y_valid, y_pred_valid) / NFOLDS\n",
    "    y_preds += clf.predict(X_test2) / NFOLDS\n",
    "    \n",
    "    del X_train, X_valid, y_train, y_valid\n",
    "    gc.collect()\n",
    "    \n",
    "print(f\"\\nMean AUC = {score}\")\n",
    "print(f\"Out of folds AUC = {roc_auc_score(y, y_oof)}\")"
   ]
  },
  {
   "cell_type": "code",
   "execution_count": 63,
   "metadata": {},
   "outputs": [],
   "source": [
    "sub = pd.read_csv('sample_submission.csv')\n",
    "sub['isFraud'] = y_preds\n",
    "sub.to_csv(\"lgb_final4_bayes_orre2.csv\", index=False) #0.9490"
   ]
  },
  {
   "cell_type": "code",
   "execution_count": null,
   "metadata": {},
   "outputs": [],
   "source": []
  }
 ],
 "metadata": {
  "kernelspec": {
   "display_name": "Python 3",
   "language": "python",
   "name": "python3"
  },
  "language_info": {
   "codemirror_mode": {
    "name": "ipython",
    "version": 3
   },
   "file_extension": ".py",
   "mimetype": "text/x-python",
   "name": "python",
   "nbconvert_exporter": "python",
   "pygments_lexer": "ipython3",
   "version": "3.6.0"
  }
 },
 "nbformat": 4,
 "nbformat_minor": 2
}
